{
  "nbformat": 4,
  "nbformat_minor": 0,
  "metadata": {
    "colab": {
      "name": "LSTM.ipynb",
      "provenance": [],
      "collapsed_sections": []
    },
    "kernelspec": {
      "name": "python3",
      "display_name": "Python 3"
    },
    "language_info": {
      "name": "python"
    }
  },
  "cells": [
    {
      "cell_type": "code",
      "metadata": {
        "id": "_JKydVHvHwFZ"
      },
      "source": [
        ""
      ],
      "execution_count": null,
      "outputs": []
    },
    {
      "cell_type": "code",
      "metadata": {
        "id": "qn0rs3P9FpRE",
        "colab": {
          "base_uri": "https://localhost:8080/"
        },
        "outputId": "e936bc98-188b-4716-e437-8c97914650ed"
      },
      "source": [
        "!pip install keras \n",
        "!sudo pip install h5py"
      ],
      "execution_count": null,
      "outputs": [
        {
          "output_type": "stream",
          "text": [
            "Requirement already satisfied: keras in /usr/local/lib/python3.7/dist-packages (2.4.3)\n",
            "Requirement already satisfied: h5py in /usr/local/lib/python3.7/dist-packages (from keras) (3.1.0)\n",
            "Requirement already satisfied: scipy>=0.14 in /usr/local/lib/python3.7/dist-packages (from keras) (1.4.1)\n",
            "Requirement already satisfied: numpy>=1.9.1 in /usr/local/lib/python3.7/dist-packages (from keras) (1.19.5)\n",
            "Requirement already satisfied: pyyaml in /usr/local/lib/python3.7/dist-packages (from keras) (3.13)\n",
            "Requirement already satisfied: cached-property; python_version < \"3.8\" in /usr/local/lib/python3.7/dist-packages (from h5py->keras) (1.5.2)\n",
            "Requirement already satisfied: h5py in /usr/local/lib/python3.7/dist-packages (3.1.0)\n",
            "Requirement already satisfied: cached-property; python_version < \"3.8\" in /usr/local/lib/python3.7/dist-packages (from h5py) (1.5.2)\n",
            "Requirement already satisfied: numpy>=1.14.5; python_version == \"3.7\" in /usr/local/lib/python3.7/dist-packages (from h5py) (1.19.5)\n"
          ],
          "name": "stdout"
        }
      ]
    },
    {
      "cell_type": "code",
      "metadata": {
        "id": "Gbem3fX5GQxW"
      },
      "source": [
        "import numpy as np\n",
        "\n",
        "import pandas as pd\n",
        "\n",
        "import os\n",
        "\n",
        "\n",
        "\n",
        "df = pd.read_csv(\"Data_status.csv\")"
      ],
      "execution_count": null,
      "outputs": []
    },
    {
      "cell_type": "code",
      "metadata": {
        "colab": {
          "base_uri": "https://localhost:8080/",
          "height": 206
        },
        "id": "4RNAK9voUa69",
        "outputId": "8b59e29c-7b58-49de-e6c5-71dd40b0f1a4"
      },
      "source": [
        "df.head()"
      ],
      "execution_count": null,
      "outputs": [
        {
          "output_type": "execute_result",
          "data": {
            "text/html": [
              "<div>\n",
              "<style scoped>\n",
              "    .dataframe tbody tr th:only-of-type {\n",
              "        vertical-align: middle;\n",
              "    }\n",
              "\n",
              "    .dataframe tbody tr th {\n",
              "        vertical-align: top;\n",
              "    }\n",
              "\n",
              "    .dataframe thead th {\n",
              "        text-align: right;\n",
              "    }\n",
              "</style>\n",
              "<table border=\"1\" class=\"dataframe\">\n",
              "  <thead>\n",
              "    <tr style=\"text-align: right;\">\n",
              "      <th></th>\n",
              "      <th>Label</th>\n",
              "      <th>Time</th>\n",
              "      <th>Data</th>\n",
              "      <th>Sentiment</th>\n",
              "    </tr>\n",
              "  </thead>\n",
              "  <tbody>\n",
              "    <tr>\n",
              "      <th>0</th>\n",
              "      <td>0</td>\n",
              "      <td>10.35pm</td>\n",
              "      <td>she is a good girl</td>\n",
              "      <td>1</td>\n",
              "    </tr>\n",
              "    <tr>\n",
              "      <th>1</th>\n",
              "      <td>1</td>\n",
              "      <td>11.01am</td>\n",
              "      <td>I Love Music</td>\n",
              "      <td>1</td>\n",
              "    </tr>\n",
              "    <tr>\n",
              "      <th>2</th>\n",
              "      <td>2</td>\n",
              "      <td>03.12pm</td>\n",
              "      <td>she hates milk</td>\n",
              "      <td>0</td>\n",
              "    </tr>\n",
              "    <tr>\n",
              "      <th>3</th>\n",
              "      <td>3</td>\n",
              "      <td>06.06pm</td>\n",
              "      <td>Iam a good Listener</td>\n",
              "      <td>1</td>\n",
              "    </tr>\n",
              "    <tr>\n",
              "      <th>4</th>\n",
              "      <td>4</td>\n",
              "      <td>12.03am</td>\n",
              "      <td>I Love Harry Potter series</td>\n",
              "      <td>1</td>\n",
              "    </tr>\n",
              "  </tbody>\n",
              "</table>\n",
              "</div>"
            ],
            "text/plain": [
              "   Label     Time                        Data  Sentiment\n",
              "0      0  10.35pm          she is a good girl          1\n",
              "1      1  11.01am                I Love Music          1\n",
              "2      2  03.12pm              she hates milk          0\n",
              "3      3  06.06pm         Iam a good Listener          1\n",
              "4      4  12.03am  I Love Harry Potter series          1"
            ]
          },
          "metadata": {
            "tags": []
          },
          "execution_count": 8
        }
      ]
    },
    {
      "cell_type": "code",
      "metadata": {
        "colab": {
          "base_uri": "https://localhost:8080/",
          "height": 206
        },
        "id": "-8A31pdUyolw",
        "outputId": "a2e2a6c2-ea84-4b3c-af38-1503a85987f7"
      },
      "source": [
        "df.tail()"
      ],
      "execution_count": null,
      "outputs": [
        {
          "output_type": "execute_result",
          "data": {
            "text/html": [
              "<div>\n",
              "<style scoped>\n",
              "    .dataframe tbody tr th:only-of-type {\n",
              "        vertical-align: middle;\n",
              "    }\n",
              "\n",
              "    .dataframe tbody tr th {\n",
              "        vertical-align: top;\n",
              "    }\n",
              "\n",
              "    .dataframe thead th {\n",
              "        text-align: right;\n",
              "    }\n",
              "</style>\n",
              "<table border=\"1\" class=\"dataframe\">\n",
              "  <thead>\n",
              "    <tr style=\"text-align: right;\">\n",
              "      <th></th>\n",
              "      <th>Label</th>\n",
              "      <th>Time</th>\n",
              "      <th>Data</th>\n",
              "      <th>Sentiment</th>\n",
              "    </tr>\n",
              "  </thead>\n",
              "  <tbody>\n",
              "    <tr>\n",
              "      <th>206</th>\n",
              "      <td>206</td>\n",
              "      <td>12.30am</td>\n",
              "      <td>Telling lies is very bad thing.</td>\n",
              "      <td>0</td>\n",
              "    </tr>\n",
              "    <tr>\n",
              "      <th>207</th>\n",
              "      <td>207</td>\n",
              "      <td>3.40pm</td>\n",
              "      <td>People are losing humanity day by day.</td>\n",
              "      <td>0</td>\n",
              "    </tr>\n",
              "    <tr>\n",
              "      <th>208</th>\n",
              "      <td>208</td>\n",
              "      <td>11.36am</td>\n",
              "      <td>The owner tortured the child rudely.</td>\n",
              "      <td>0</td>\n",
              "    </tr>\n",
              "    <tr>\n",
              "      <th>209</th>\n",
              "      <td>209</td>\n",
              "      <td>7.45am</td>\n",
              "      <td>My friend fell down and was injured badly.</td>\n",
              "      <td>0</td>\n",
              "    </tr>\n",
              "    <tr>\n",
              "      <th>210</th>\n",
              "      <td>210</td>\n",
              "      <td>8.55pm</td>\n",
              "      <td>It is hear-breaking to lose our loved ones.</td>\n",
              "      <td>0</td>\n",
              "    </tr>\n",
              "  </tbody>\n",
              "</table>\n",
              "</div>"
            ],
            "text/plain": [
              "     Label     Time                                         Data  Sentiment\n",
              "206    206  12.30am              Telling lies is very bad thing.          0\n",
              "207    207   3.40pm       People are losing humanity day by day.          0\n",
              "208    208  11.36am         The owner tortured the child rudely.          0\n",
              "209    209   7.45am   My friend fell down and was injured badly.          0\n",
              "210    210   8.55pm  It is hear-breaking to lose our loved ones.          0"
            ]
          },
          "metadata": {
            "tags": []
          },
          "execution_count": 9
        }
      ]
    },
    {
      "cell_type": "code",
      "metadata": {
        "colab": {
          "base_uri": "https://localhost:8080/"
        },
        "id": "fzFou-d3YLVf",
        "outputId": "6bc7af54-d09e-4d04-eb2f-2923d32719c5"
      },
      "source": [
        "df['Sentiment'].value_counts()\n"
      ],
      "execution_count": null,
      "outputs": [
        {
          "output_type": "execute_result",
          "data": {
            "text/plain": [
              "1    107\n",
              "0    104\n",
              "Name: Sentiment, dtype: int64"
            ]
          },
          "metadata": {
            "tags": []
          },
          "execution_count": 10
        }
      ]
    },
    {
      "cell_type": "code",
      "metadata": {
        "colab": {
          "base_uri": "https://localhost:8080/"
        },
        "id": "53fma172y6mN",
        "outputId": "83c89102-0787-47aa-fb87-7508c7137bf9"
      },
      "source": [
        "df[\"Data\"]"
      ],
      "execution_count": null,
      "outputs": [
        {
          "output_type": "execute_result",
          "data": {
            "text/plain": [
              "0                               she is a good girl\n",
              "1                                     I Love Music\n",
              "2                                   she hates milk\n",
              "3                              Iam a good Listener\n",
              "4                       I Love Harry Potter series\n",
              "                          ...                     \n",
              "206                Telling lies is very bad thing.\n",
              "207         People are losing humanity day by day.\n",
              "208           The owner tortured the child rudely.\n",
              "209     My friend fell down and was injured badly.\n",
              "210    It is hear-breaking to lose our loved ones.\n",
              "Name: Data, Length: 211, dtype: object"
            ]
          },
          "metadata": {
            "tags": []
          },
          "execution_count": 11
        }
      ]
    },
    {
      "cell_type": "code",
      "metadata": {
        "id": "d9aq0Xy9Uxcw"
      },
      "source": [
        "##dropping Nan values\n",
        "df=df.dropna()"
      ],
      "execution_count": null,
      "outputs": []
    },
    {
      "cell_type": "code",
      "metadata": {
        "colab": {
          "base_uri": "https://localhost:8080/"
        },
        "id": "nMKwkrLO40ga",
        "outputId": "2fd9bc67-0013-4daf-c116-c6d6fcb664f7"
      },
      "source": [
        "df[\"Data\"]"
      ],
      "execution_count": null,
      "outputs": [
        {
          "output_type": "execute_result",
          "data": {
            "text/plain": [
              "0                               she is a good girl\n",
              "1                                     I Love Music\n",
              "2                                   she hates milk\n",
              "3                              Iam a good Listener\n",
              "4                       I Love Harry Potter series\n",
              "                          ...                     \n",
              "206                Telling lies is very bad thing.\n",
              "207         People are losing humanity day by day.\n",
              "208           The owner tortured the child rudely.\n",
              "209     My friend fell down and was injured badly.\n",
              "210    It is hear-breaking to lose our loved ones.\n",
              "Name: Data, Length: 211, dtype: object"
            ]
          },
          "metadata": {
            "tags": []
          },
          "execution_count": 13
        }
      ]
    },
    {
      "cell_type": "markdown",
      "metadata": {
        "id": "IKW8UxS_2Mf9"
      },
      "source": [
        "**Feature extraction**"
      ]
    },
    {
      "cell_type": "code",
      "metadata": {
        "id": "oQz0g0ZPU7bw"
      },
      "source": [
        "##get independent features\n",
        "\n",
        "X=df.drop(\"Sentiment\",axis=1)"
      ],
      "execution_count": null,
      "outputs": []
    },
    {
      "cell_type": "code",
      "metadata": {
        "id": "QsP8Kq7hYhyF"
      },
      "source": [
        "##get dependent features\n",
        "\n",
        "y=df[\"Sentiment\"]"
      ],
      "execution_count": null,
      "outputs": []
    },
    {
      "cell_type": "code",
      "metadata": {
        "colab": {
          "base_uri": "https://localhost:8080/"
        },
        "id": "d5yqK-wsYsK4",
        "outputId": "b39bafb6-3fb5-4162-91ac-ea2149de5320"
      },
      "source": [
        "X.shape"
      ],
      "execution_count": null,
      "outputs": [
        {
          "output_type": "execute_result",
          "data": {
            "text/plain": [
              "(211, 3)"
            ]
          },
          "metadata": {
            "tags": []
          },
          "execution_count": 16
        }
      ]
    },
    {
      "cell_type": "code",
      "metadata": {
        "colab": {
          "base_uri": "https://localhost:8080/"
        },
        "id": "cyRquQqRYx2N",
        "outputId": "1dc91e69-d72f-43a6-c9a6-46fd2307c332"
      },
      "source": [
        "y.shape"
      ],
      "execution_count": null,
      "outputs": [
        {
          "output_type": "execute_result",
          "data": {
            "text/plain": [
              "(211,)"
            ]
          },
          "metadata": {
            "tags": []
          },
          "execution_count": 17
        }
      ]
    },
    {
      "cell_type": "code",
      "metadata": {
        "id": "V1cIepi9alOk"
      },
      "source": [
        "import tensorflow as tf"
      ],
      "execution_count": null,
      "outputs": []
    },
    {
      "cell_type": "code",
      "metadata": {
        "colab": {
          "base_uri": "https://localhost:8080/",
          "height": 36
        },
        "id": "hfhV4sfxaun-",
        "outputId": "3bbceaf3-0a8e-4e86-8614-0f315727f8a4"
      },
      "source": [
        "tf.__version__"
      ],
      "execution_count": null,
      "outputs": [
        {
          "output_type": "execute_result",
          "data": {
            "application/vnd.google.colaboratory.intrinsic+json": {
              "type": "string"
            },
            "text/plain": [
              "'2.5.0'"
            ]
          },
          "metadata": {
            "tags": []
          },
          "execution_count": 19
        }
      ]
    },
    {
      "cell_type": "code",
      "metadata": {
        "id": "G_aJadI6bOzm"
      },
      "source": [
        "### vocabulary size\n",
        "voc_size=5000\n"
      ],
      "execution_count": null,
      "outputs": []
    },
    {
      "cell_type": "code",
      "metadata": {
        "id": "J0xGTRLcbis5"
      },
      "source": [
        "##copying X data into messages\n",
        "messages=X.copy()"
      ],
      "execution_count": null,
      "outputs": []
    },
    {
      "cell_type": "code",
      "metadata": {
        "colab": {
          "base_uri": "https://localhost:8080/",
          "height": 424
        },
        "id": "mCmx31N6tB1e",
        "outputId": "dd1826f4-c2bf-4556-e20f-f4eff6027e97"
      },
      "source": [
        "messages"
      ],
      "execution_count": null,
      "outputs": [
        {
          "output_type": "execute_result",
          "data": {
            "text/html": [
              "<div>\n",
              "<style scoped>\n",
              "    .dataframe tbody tr th:only-of-type {\n",
              "        vertical-align: middle;\n",
              "    }\n",
              "\n",
              "    .dataframe tbody tr th {\n",
              "        vertical-align: top;\n",
              "    }\n",
              "\n",
              "    .dataframe thead th {\n",
              "        text-align: right;\n",
              "    }\n",
              "</style>\n",
              "<table border=\"1\" class=\"dataframe\">\n",
              "  <thead>\n",
              "    <tr style=\"text-align: right;\">\n",
              "      <th></th>\n",
              "      <th>Label</th>\n",
              "      <th>Time</th>\n",
              "      <th>Data</th>\n",
              "    </tr>\n",
              "  </thead>\n",
              "  <tbody>\n",
              "    <tr>\n",
              "      <th>0</th>\n",
              "      <td>0</td>\n",
              "      <td>10.35pm</td>\n",
              "      <td>she is a good girl</td>\n",
              "    </tr>\n",
              "    <tr>\n",
              "      <th>1</th>\n",
              "      <td>1</td>\n",
              "      <td>11.01am</td>\n",
              "      <td>I Love Music</td>\n",
              "    </tr>\n",
              "    <tr>\n",
              "      <th>2</th>\n",
              "      <td>2</td>\n",
              "      <td>03.12pm</td>\n",
              "      <td>she hates milk</td>\n",
              "    </tr>\n",
              "    <tr>\n",
              "      <th>3</th>\n",
              "      <td>3</td>\n",
              "      <td>06.06pm</td>\n",
              "      <td>Iam a good Listener</td>\n",
              "    </tr>\n",
              "    <tr>\n",
              "      <th>4</th>\n",
              "      <td>4</td>\n",
              "      <td>12.03am</td>\n",
              "      <td>I Love Harry Potter series</td>\n",
              "    </tr>\n",
              "    <tr>\n",
              "      <th>...</th>\n",
              "      <td>...</td>\n",
              "      <td>...</td>\n",
              "      <td>...</td>\n",
              "    </tr>\n",
              "    <tr>\n",
              "      <th>206</th>\n",
              "      <td>206</td>\n",
              "      <td>12.30am</td>\n",
              "      <td>Telling lies is very bad thing.</td>\n",
              "    </tr>\n",
              "    <tr>\n",
              "      <th>207</th>\n",
              "      <td>207</td>\n",
              "      <td>3.40pm</td>\n",
              "      <td>People are losing humanity day by day.</td>\n",
              "    </tr>\n",
              "    <tr>\n",
              "      <th>208</th>\n",
              "      <td>208</td>\n",
              "      <td>11.36am</td>\n",
              "      <td>The owner tortured the child rudely.</td>\n",
              "    </tr>\n",
              "    <tr>\n",
              "      <th>209</th>\n",
              "      <td>209</td>\n",
              "      <td>7.45am</td>\n",
              "      <td>My friend fell down and was injured badly.</td>\n",
              "    </tr>\n",
              "    <tr>\n",
              "      <th>210</th>\n",
              "      <td>210</td>\n",
              "      <td>8.55pm</td>\n",
              "      <td>It is hear-breaking to lose our loved ones.</td>\n",
              "    </tr>\n",
              "  </tbody>\n",
              "</table>\n",
              "<p>211 rows × 3 columns</p>\n",
              "</div>"
            ],
            "text/plain": [
              "     Label     Time                                         Data\n",
              "0        0  10.35pm                           she is a good girl\n",
              "1        1  11.01am                                 I Love Music\n",
              "2        2  03.12pm                               she hates milk\n",
              "3        3  06.06pm                          Iam a good Listener\n",
              "4        4  12.03am                   I Love Harry Potter series\n",
              "..     ...      ...                                          ...\n",
              "206    206  12.30am              Telling lies is very bad thing.\n",
              "207    207   3.40pm       People are losing humanity day by day.\n",
              "208    208  11.36am         The owner tortured the child rudely.\n",
              "209    209   7.45am   My friend fell down and was injured badly.\n",
              "210    210   8.55pm  It is hear-breaking to lose our loved ones.\n",
              "\n",
              "[211 rows x 3 columns]"
            ]
          },
          "metadata": {
            "tags": []
          },
          "execution_count": 22
        }
      ]
    },
    {
      "cell_type": "code",
      "metadata": {
        "colab": {
          "base_uri": "https://localhost:8080/"
        },
        "id": "avkrMy5fsxMA",
        "outputId": "04bde80f-ca9e-4df6-ad45-7025fdc36509"
      },
      "source": [
        "messages.get('Data')"
      ],
      "execution_count": null,
      "outputs": [
        {
          "output_type": "execute_result",
          "data": {
            "text/plain": [
              "0                               she is a good girl\n",
              "1                                     I Love Music\n",
              "2                                   she hates milk\n",
              "3                              Iam a good Listener\n",
              "4                       I Love Harry Potter series\n",
              "                          ...                     \n",
              "206                Telling lies is very bad thing.\n",
              "207         People are losing humanity day by day.\n",
              "208           The owner tortured the child rudely.\n",
              "209     My friend fell down and was injured badly.\n",
              "210    It is hear-breaking to lose our loved ones.\n",
              "Name: Data, Length: 211, dtype: object"
            ]
          },
          "metadata": {
            "tags": []
          },
          "execution_count": 23
        }
      ]
    },
    {
      "cell_type": "code",
      "metadata": {
        "colab": {
          "base_uri": "https://localhost:8080/"
        },
        "id": "1h-yPkwNvtYl",
        "outputId": "b5d23a77-1dc4-46f0-d5be-2ae3b6e6e326"
      },
      "source": [
        "messages.loc[3]"
      ],
      "execution_count": null,
      "outputs": [
        {
          "output_type": "execute_result",
          "data": {
            "text/plain": [
              "Label                      3\n",
              "Time                 06.06pm\n",
              "Data     Iam a good Listener\n",
              "Name: 3, dtype: object"
            ]
          },
          "metadata": {
            "tags": []
          },
          "execution_count": 24
        }
      ]
    },
    {
      "cell_type": "code",
      "metadata": {
        "colab": {
          "base_uri": "https://localhost:8080/",
          "height": 36
        },
        "id": "aIoDUUCeweQG",
        "outputId": "4188ead9-8566-488f-a4d3-a9f9905b245b"
      },
      "source": [
        "messages['Data'][1]"
      ],
      "execution_count": null,
      "outputs": [
        {
          "output_type": "execute_result",
          "data": {
            "application/vnd.google.colaboratory.intrinsic+json": {
              "type": "string"
            },
            "text/plain": [
              "'I Love Music'"
            ]
          },
          "metadata": {
            "tags": []
          },
          "execution_count": 25
        }
      ]
    },
    {
      "cell_type": "code",
      "metadata": {
        "id": "x0aP7dzJbydS"
      },
      "source": [
        "##messages.reset_index(inplace=True)"
      ],
      "execution_count": null,
      "outputs": []
    },
    {
      "cell_type": "code",
      "metadata": {
        "colab": {
          "base_uri": "https://localhost:8080/",
          "height": 206
        },
        "id": "z8aFUURImjV9",
        "outputId": "6f560f2a-da54-4245-b1f9-8970f6ee8b0e"
      },
      "source": [
        "messages.head()"
      ],
      "execution_count": null,
      "outputs": [
        {
          "output_type": "execute_result",
          "data": {
            "text/html": [
              "<div>\n",
              "<style scoped>\n",
              "    .dataframe tbody tr th:only-of-type {\n",
              "        vertical-align: middle;\n",
              "    }\n",
              "\n",
              "    .dataframe tbody tr th {\n",
              "        vertical-align: top;\n",
              "    }\n",
              "\n",
              "    .dataframe thead th {\n",
              "        text-align: right;\n",
              "    }\n",
              "</style>\n",
              "<table border=\"1\" class=\"dataframe\">\n",
              "  <thead>\n",
              "    <tr style=\"text-align: right;\">\n",
              "      <th></th>\n",
              "      <th>Label</th>\n",
              "      <th>Time</th>\n",
              "      <th>Data</th>\n",
              "    </tr>\n",
              "  </thead>\n",
              "  <tbody>\n",
              "    <tr>\n",
              "      <th>0</th>\n",
              "      <td>0</td>\n",
              "      <td>10.35pm</td>\n",
              "      <td>she is a good girl</td>\n",
              "    </tr>\n",
              "    <tr>\n",
              "      <th>1</th>\n",
              "      <td>1</td>\n",
              "      <td>11.01am</td>\n",
              "      <td>I Love Music</td>\n",
              "    </tr>\n",
              "    <tr>\n",
              "      <th>2</th>\n",
              "      <td>2</td>\n",
              "      <td>03.12pm</td>\n",
              "      <td>she hates milk</td>\n",
              "    </tr>\n",
              "    <tr>\n",
              "      <th>3</th>\n",
              "      <td>3</td>\n",
              "      <td>06.06pm</td>\n",
              "      <td>Iam a good Listener</td>\n",
              "    </tr>\n",
              "    <tr>\n",
              "      <th>4</th>\n",
              "      <td>4</td>\n",
              "      <td>12.03am</td>\n",
              "      <td>I Love Harry Potter series</td>\n",
              "    </tr>\n",
              "  </tbody>\n",
              "</table>\n",
              "</div>"
            ],
            "text/plain": [
              "   Label     Time                        Data\n",
              "0      0  10.35pm          she is a good girl\n",
              "1      1  11.01am                I Love Music\n",
              "2      2  03.12pm              she hates milk\n",
              "3      3  06.06pm         Iam a good Listener\n",
              "4      4  12.03am  I Love Harry Potter series"
            ]
          },
          "metadata": {
            "tags": []
          },
          "execution_count": 26
        }
      ]
    },
    {
      "cell_type": "code",
      "metadata": {
        "colab": {
          "base_uri": "https://localhost:8080/"
        },
        "id": "-EleaN9EqFp-",
        "outputId": "a0015e8c-f6f1-4490-cffe-5de8d542ab32"
      },
      "source": [
        "messages.iloc[:,0]"
      ],
      "execution_count": null,
      "outputs": [
        {
          "output_type": "execute_result",
          "data": {
            "text/plain": [
              "0        0\n",
              "1        1\n",
              "2        2\n",
              "3        3\n",
              "4        4\n",
              "      ... \n",
              "206    206\n",
              "207    207\n",
              "208    208\n",
              "209    209\n",
              "210    210\n",
              "Name: Label, Length: 211, dtype: int64"
            ]
          },
          "metadata": {
            "tags": []
          },
          "execution_count": 27
        }
      ]
    },
    {
      "cell_type": "code",
      "metadata": {
        "colab": {
          "base_uri": "https://localhost:8080/"
        },
        "id": "S_vJDhocn4Tu",
        "outputId": "1c3b55bb-b549-4107-9f4e-bd705065e4da"
      },
      "source": [
        "messages.iloc[:,1]"
      ],
      "execution_count": null,
      "outputs": [
        {
          "output_type": "execute_result",
          "data": {
            "text/plain": [
              "0      10.35pm\n",
              "1      11.01am\n",
              "2      03.12pm\n",
              "3      06.06pm\n",
              "4      12.03am\n",
              "        ...   \n",
              "206    12.30am\n",
              "207     3.40pm\n",
              "208    11.36am\n",
              "209     7.45am\n",
              "210     8.55pm\n",
              "Name: Time, Length: 211, dtype: object"
            ]
          },
          "metadata": {
            "tags": []
          },
          "execution_count": 28
        }
      ]
    },
    {
      "cell_type": "markdown",
      "metadata": {
        "id": "G9gzPiU731mx"
      },
      "source": [
        "**Data PreProcessing**"
      ]
    },
    {
      "cell_type": "code",
      "metadata": {
        "id": "yt2ZwOqCb4Ez"
      },
      "source": [
        "import nltk\n",
        "## re -- regular expression\n",
        "import re\n",
        "from nltk.corpus import stopwords"
      ],
      "execution_count": null,
      "outputs": []
    },
    {
      "cell_type": "code",
      "metadata": {
        "colab": {
          "base_uri": "https://localhost:8080/"
        },
        "id": "3oeKJiDscOSg",
        "outputId": "68d06fcf-b7b3-4850-f27e-a6914d7a7689"
      },
      "source": [
        "nltk.download('stopwords')"
      ],
      "execution_count": null,
      "outputs": [
        {
          "output_type": "stream",
          "text": [
            "[nltk_data] Downloading package stopwords to /root/nltk_data...\n",
            "[nltk_data]   Unzipping corpora/stopwords.zip.\n"
          ],
          "name": "stdout"
        },
        {
          "output_type": "execute_result",
          "data": {
            "text/plain": [
              "True"
            ]
          },
          "metadata": {
            "tags": []
          },
          "execution_count": 30
        }
      ]
    },
    {
      "cell_type": "code",
      "metadata": {
        "colab": {
          "base_uri": "https://localhost:8080/"
        },
        "id": "_OjYWX_TcX8T",
        "outputId": "b0c62e92-c660-4592-dac5-e1ecd6ba8fe3"
      },
      "source": [
        "###Data preprocessing\n",
        "from nltk.stem.porter import PorterStemmer\n",
        "ps=PorterStemmer()\n",
        "corpus=[]\n",
        "for i in range(0,len(messages)):\n",
        "  print(i)\n",
        "  review= re.sub('[^a-zA-Z]',' ',messages[\"Data\"][i])\n",
        "  review= review.lower()\n",
        "  review= review.split()\n",
        "\n",
        "  review= [ps.stem(word) for word in review if not word in stopwords.words('english')]\n",
        "  review=' '.join(review)\n",
        "  corpus.append(review)"
      ],
      "execution_count": null,
      "outputs": [
        {
          "output_type": "stream",
          "text": [
            "0\n",
            "1\n",
            "2\n",
            "3\n",
            "4\n",
            "5\n",
            "6\n",
            "7\n",
            "8\n",
            "9\n",
            "10\n",
            "11\n",
            "12\n",
            "13\n",
            "14\n",
            "15\n",
            "16\n",
            "17\n",
            "18\n",
            "19\n",
            "20\n",
            "21\n",
            "22\n",
            "23\n",
            "24\n",
            "25\n",
            "26\n",
            "27\n",
            "28\n",
            "29\n",
            "30\n",
            "31\n",
            "32\n",
            "33\n",
            "34\n",
            "35\n",
            "36\n",
            "37\n",
            "38\n",
            "39\n",
            "40\n",
            "41\n",
            "42\n",
            "43\n",
            "44\n",
            "45\n",
            "46\n",
            "47\n",
            "48\n",
            "49\n",
            "50\n",
            "51\n",
            "52\n",
            "53\n",
            "54\n",
            "55\n",
            "56\n",
            "57\n",
            "58\n",
            "59\n",
            "60\n",
            "61\n",
            "62\n",
            "63\n",
            "64\n",
            "65\n",
            "66\n",
            "67\n",
            "68\n",
            "69\n",
            "70\n",
            "71\n",
            "72\n",
            "73\n",
            "74\n",
            "75\n",
            "76\n",
            "77\n",
            "78\n",
            "79\n",
            "80\n",
            "81\n",
            "82\n",
            "83\n",
            "84\n",
            "85\n",
            "86\n",
            "87\n",
            "88\n",
            "89\n",
            "90\n",
            "91\n",
            "92\n",
            "93\n",
            "94\n",
            "95\n",
            "96\n",
            "97\n",
            "98\n",
            "99\n",
            "100\n",
            "101\n",
            "102\n",
            "103\n",
            "104\n",
            "105\n",
            "106\n",
            "107\n",
            "108\n",
            "109\n",
            "110\n",
            "111\n",
            "112\n",
            "113\n",
            "114\n",
            "115\n",
            "116\n",
            "117\n",
            "118\n",
            "119\n",
            "120\n",
            "121\n",
            "122\n",
            "123\n",
            "124\n",
            "125\n",
            "126\n",
            "127\n",
            "128\n",
            "129\n",
            "130\n",
            "131\n",
            "132\n",
            "133\n",
            "134\n",
            "135\n",
            "136\n",
            "137\n",
            "138\n",
            "139\n",
            "140\n",
            "141\n",
            "142\n",
            "143\n",
            "144\n",
            "145\n",
            "146\n",
            "147\n",
            "148\n",
            "149\n",
            "150\n",
            "151\n",
            "152\n",
            "153\n",
            "154\n",
            "155\n",
            "156\n",
            "157\n",
            "158\n",
            "159\n",
            "160\n",
            "161\n",
            "162\n",
            "163\n",
            "164\n",
            "165\n",
            "166\n",
            "167\n",
            "168\n",
            "169\n",
            "170\n",
            "171\n",
            "172\n",
            "173\n",
            "174\n",
            "175\n",
            "176\n",
            "177\n",
            "178\n",
            "179\n",
            "180\n",
            "181\n",
            "182\n",
            "183\n",
            "184\n",
            "185\n",
            "186\n",
            "187\n",
            "188\n",
            "189\n",
            "190\n",
            "191\n",
            "192\n",
            "193\n",
            "194\n",
            "195\n",
            "196\n",
            "197\n",
            "198\n",
            "199\n",
            "200\n",
            "201\n",
            "202\n",
            "203\n",
            "204\n",
            "205\n",
            "206\n",
            "207\n",
            "208\n",
            "209\n",
            "210\n"
          ],
          "name": "stdout"
        }
      ]
    },
    {
      "cell_type": "code",
      "metadata": {
        "id": "3MKlDjhapDny",
        "colab": {
          "base_uri": "https://localhost:8080/"
        },
        "outputId": "d819b7e6-d04a-4c18-f57a-05b612b58e3f"
      },
      "source": [
        "corpus"
      ],
      "execution_count": null,
      "outputs": [
        {
          "output_type": "execute_result",
          "data": {
            "text/plain": [
              "['good girl',\n",
              " 'love music',\n",
              " 'hate milk',\n",
              " 'iam good listen',\n",
              " 'love harri potter seri',\n",
              " 'exhaust',\n",
              " 'maharshi movi excel',\n",
              " 'cleanli next godli',\n",
              " 'mahatma gandhi great freedom figther',\n",
              " 'latha love lofi music',\n",
              " 'sad listen news',\n",
              " 'rama love sita',\n",
              " 'love',\n",
              " 'well done better well said',\n",
              " 'cherish good moment life',\n",
              " 'everyon goe thorugh depress',\n",
              " 'iam happi moment',\n",
              " 'bliss moment',\n",
              " 'pleasur meet',\n",
              " 'face lot problem',\n",
              " 'sister good singer',\n",
              " 'ar rahman one finest artist',\n",
              " 'happi birthday',\n",
              " 'bad day life',\n",
              " 'hate life',\n",
              " 'look beauti',\n",
              " 'swarna prettiest girl th class',\n",
              " 'one love',\n",
              " 'iam good dancer',\n",
              " 'good english',\n",
              " 'love play cricket',\n",
              " 'johnni enjoy watch cartoon',\n",
              " 'hema cheat raju broke',\n",
              " 'raju ador smitha',\n",
              " 'sing melodi',\n",
              " 'ramya stubborn get medicin seat',\n",
              " 'sita ambit becom engin',\n",
              " 'day gloomi',\n",
              " 'world worst place',\n",
              " 'everyon selfish',\n",
              " 'love divin',\n",
              " 'hate everyon world',\n",
              " 'mani great respons',\n",
              " 'bold person achiev anyth',\n",
              " 'posit think chang attitud person',\n",
              " 'cun',\n",
              " 'attitud gratitud good',\n",
              " 'thank everyth',\n",
              " 'show merci right person',\n",
              " 'bloom plant',\n",
              " 'hurri match',\n",
              " 'audienc appalus hero perform',\n",
              " 'happi day favourit movi',\n",
              " 'today enjoy alot',\n",
              " 'uncl die due covid rip',\n",
              " 'miss alot uncl',\n",
              " 'cautiou health',\n",
              " 'glad make happi',\n",
              " 'die everi day everi second without',\n",
              " 'pretti cindrella',\n",
              " 'donot trust anyon',\n",
              " 'happi look famili',\n",
              " 'alway get hurt moment begin care',\n",
              " 'donot part gossip',\n",
              " 'donot believ rumour',\n",
              " 'happi ear hear',\n",
              " 'tart day posit thought grate heart',\n",
              " 'delet number basic delet life',\n",
              " 'silenc anoth word pain',\n",
              " 'depend peopl anymor tire disappoint',\n",
              " 'pain remind still aliv',\n",
              " 'know silenc tear heal pain one day',\n",
              " 'scare see someon els',\n",
              " 'especi good mood today',\n",
              " 'lot unsaid thought',\n",
              " 'emot pain alway hurt physic pain',\n",
              " 'alway person hate reason',\n",
              " 'want keep soldier good mood',\n",
              " 'heartless care much',\n",
              " 'peopl life meant stay',\n",
              " 'happi see',\n",
              " 'let talk happi',\n",
              " 'apolog fix broken heart',\n",
              " 'cri someon cri',\n",
              " 'real one stay bad time',\n",
              " 'life purpos happi',\n",
              " 'peopl selfish day',\n",
              " 'want thank good thing taught',\n",
              " 'hate hate done',\n",
              " 'pleas everybodi',\n",
              " 'feel lost sometim',\n",
              " 'thank support understand',\n",
              " 'sincer hope happi',\n",
              " 'everyon famili happi',\n",
              " 'wish happi prosper',\n",
              " 'hope happi forev',\n",
              " 'peopl want experi happi',\n",
              " 'happi get',\n",
              " 'health import factor happi',\n",
              " 'happi work',\n",
              " 'thank alway',\n",
              " 'wait pain',\n",
              " 'sometim sit alon remov sad',\n",
              " 'weak care much',\n",
              " 'seiz moment happi',\n",
              " 'happi result',\n",
              " 'moment suprem happi',\n",
              " 'life',\n",
              " 'stole heart take care',\n",
              " 'music alway put better mood',\n",
              " 'mine',\n",
              " 'happi meet',\n",
              " 'happi know safe',\n",
              " 'wish happi deserv',\n",
              " 'happi see',\n",
              " 'wish happi',\n",
              " 'one unexpect messag heal lot',\n",
              " 'thank warm love wish',\n",
              " 'happi among us',\n",
              " 'suddenli feel happi seiz',\n",
              " 'happi soccer team',\n",
              " 'buy happi',\n",
              " 'hard forget someon give much rememb',\n",
              " 'pray happi',\n",
              " 'got attach left',\n",
              " 'happi help',\n",
              " 'die happi',\n",
              " 'health essenti happi',\n",
              " 'cat seem extrem happi',\n",
              " 'happi grow share',\n",
              " 'rich alway happi',\n",
              " 'face bright happi',\n",
              " 'live happi life',\n",
              " 'hide pain smile',\n",
              " 'heart feel heavi that okay',\n",
              " 'smallest lie break biggest trust',\n",
              " 'heart alway sad',\n",
              " 'true happi consist desir littl',\n",
              " 'glad make happi',\n",
              " 'happi noth bad happen',\n",
              " 'happi met',\n",
              " 'tear come heart brain',\n",
              " 'happi import us',\n",
              " 'boy made parent happi',\n",
              " 'seiz moment happi',\n",
              " 'happi result',\n",
              " 'moment suprem happi',\n",
              " 'need someon make feel okay',\n",
              " 'hurt never show im hurt',\n",
              " 'happi assist',\n",
              " 'wish lifetim happi',\n",
              " 'empti feel heavi',\n",
              " 'concern happi',\n",
              " 'seem like happi',\n",
              " 'happi delic flower',\n",
              " 'poor happi',\n",
              " 'feel forget',\n",
              " 'wish delet sad feel',\n",
              " 'slowli give',\n",
              " 'tom alon park bench',\n",
              " 'wave loneli wash',\n",
              " 'loneli drove mad',\n",
              " 'pang loneli swept',\n",
              " 'felt suddenli overwhelm loneli',\n",
              " 'mine sam tara hook escap loneli',\n",
              " 'hope lone unhappi',\n",
              " 'lone without',\n",
              " 'lone pastur self',\n",
              " 'one world',\n",
              " 'brokeup yesterday',\n",
              " 'pain see love one cri',\n",
              " 'riya depress decid go counsel',\n",
              " 'gave much pain life',\n",
              " 'betray whole famili money',\n",
              " 'unabl digest bitter truth',\n",
              " 'iam exhaust behaviour',\n",
              " 'hurt word',\n",
              " 'love much give much pain',\n",
              " 'abandon law give dowri',\n",
              " 'peopl cri food',\n",
              " 'everyth',\n",
              " 'decent dull',\n",
              " 'crust good',\n",
              " 'honestli tast fresh',\n",
              " 'waitress littl slow servic',\n",
              " 'like',\n",
              " 'bad custom servic',\n",
              " 'turkey roast beef bland',\n",
              " 'place way overpr mediocr food',\n",
              " 'probabl dirt',\n",
              " 'live music friday total blow',\n",
              " 'food averag',\n",
              " 'ambianc much better',\n",
              " 'present food aw',\n",
              " 'appetit instantli gone',\n",
              " 'realli impress place close',\n",
              " 'unfortun good',\n",
              " 'servic poor that nice',\n",
              " 'probabl back honest',\n",
              " 'consid theft',\n",
              " 'back',\n",
              " 'tear roll heard news',\n",
              " 'rude peopl donot merci towad poor',\n",
              " 'die due black fungu famili went depress',\n",
              " 'old ladi thrown hous mercilessli',\n",
              " 'hunter shot deer badli',\n",
              " 'tell lie bad thing',\n",
              " 'peopl lose human day day',\n",
              " 'owner tortur child rude',\n",
              " 'friend fell injur badli',\n",
              " 'hear break lose love one']"
            ]
          },
          "metadata": {
            "tags": []
          },
          "execution_count": 32
        }
      ]
    },
    {
      "cell_type": "markdown",
      "metadata": {
        "id": "cyEtJX-MbjL-"
      },
      "source": [
        "**One hot representation**"
      ]
    },
    {
      "cell_type": "code",
      "metadata": {
        "id": "VFuhDLkyUR4l"
      },
      "source": [
        "from tensorflow.keras.layers import Embedding\n",
        "\n",
        "from tensorflow.keras.preprocessing.sequence import pad_sequences\n",
        "\n",
        "from tensorflow.keras.models import Sequential\n",
        "\n",
        "from tensorflow.keras.preprocessing.text import one_hot\n",
        "\n",
        "from tensorflow.keras.layers import LSTM\n",
        "\n",
        "from tensorflow.keras.layers import Dense\n",
        "\n",
        "from keras.models import model_from_json\n"
      ],
      "execution_count": null,
      "outputs": []
    },
    {
      "cell_type": "code",
      "metadata": {
        "colab": {
          "base_uri": "https://localhost:8080/"
        },
        "id": "hSWoIVXw5uMy",
        "outputId": "4a50bccf-04b1-4ed3-cda3-1ce48362a9fa"
      },
      "source": [
        "onehot_repr=[one_hot(words,voc_size)for words in corpus] \n",
        "onehot_repr"
      ],
      "execution_count": null,
      "outputs": [
        {
          "output_type": "execute_result",
          "data": {
            "text/plain": [
              "[[4829, 3928],\n",
              " [888, 3332],\n",
              " [4847, 4965],\n",
              " [1363, 4829, 3616],\n",
              " [888, 1895, 190, 3005],\n",
              " [4792],\n",
              " [594, 1216, 4698],\n",
              " [2850, 1175, 1990],\n",
              " [2590, 1728, 4428, 3265, 1816],\n",
              " [2100, 888, 1, 3332],\n",
              " [4221, 3616, 668],\n",
              " [79, 888, 4941],\n",
              " [888],\n",
              " [4175, 291, 2111, 4175, 4676],\n",
              " [3896, 4829, 1815, 1222],\n",
              " [1130, 4188, 1405, 3719],\n",
              " [1363, 3049, 1815],\n",
              " [1713, 1815],\n",
              " [3961, 2506],\n",
              " [4951, 3775, 2747],\n",
              " [1141, 4829, 3312],\n",
              " [1711, 17, 4234, 2664, 2491],\n",
              " [3049, 3697],\n",
              " [1647, 3962, 1222],\n",
              " [4847, 1222],\n",
              " [3351, 2828],\n",
              " [1641, 3940, 3928, 167, 3564],\n",
              " [4234, 888],\n",
              " [1363, 4829, 2286],\n",
              " [4829, 1766],\n",
              " [888, 4018, 689],\n",
              " [3480, 1754, 4963, 1655],\n",
              " [1499, 2866, 4797, 3541],\n",
              " [4797, 2062, 1571],\n",
              " [4997, 95],\n",
              " [3056, 740, 1595, 4522, 954],\n",
              " [4941, 349, 2502, 3381],\n",
              " [3962, 863],\n",
              " [126, 2269, 1070],\n",
              " [1130, 1490],\n",
              " [888, 3472],\n",
              " [4847, 1130, 126],\n",
              " [3110, 4428, 3600],\n",
              " [43, 3131, 1126, 1235],\n",
              " [2782, 2298, 4118, 945, 3131],\n",
              " [1908],\n",
              " [945, 1989, 4829],\n",
              " [4601, 1958],\n",
              " [64, 1076, 2675, 3131],\n",
              " [1699, 3031],\n",
              " [620, 3432],\n",
              " [3932, 3304, 1067, 2851],\n",
              " [3049, 3962, 4596, 1216],\n",
              " [1588, 1754, 2679],\n",
              " [3650, 4986, 2872, 573, 2087],\n",
              " [2465, 2679, 3650],\n",
              " [2527, 4244],\n",
              " [357, 3207, 3049],\n",
              " [4986, 1058, 3962, 1058, 2342, 4238],\n",
              " [4900, 3],\n",
              " [2864, 3438, 3906],\n",
              " [3049, 3351, 2842],\n",
              " [843, 1595, 1237, 1815, 1902, 459],\n",
              " [2864, 2095, 3038],\n",
              " [2864, 558, 4169],\n",
              " [3049, 1727, 3032],\n",
              " [169, 3962, 2782, 4259, 4291, 674],\n",
              " [4313, 1381, 223, 4313, 1222],\n",
              " [1326, 3738, 1072, 176],\n",
              " [2074, 4201, 1459, 966, 4025],\n",
              " [176, 1686, 352, 1846],\n",
              " [2519, 1326, 916, 2606, 176, 4234, 3962],\n",
              " [784, 882, 1030, 4126],\n",
              " [1735, 4829, 1152, 1588],\n",
              " [3775, 4305, 4259],\n",
              " [1610, 176, 843, 1237, 2877, 176],\n",
              " [843, 3131, 4847, 793],\n",
              " [693, 1108, 3800, 4829, 1152],\n",
              " [2726, 459, 2197],\n",
              " [4201, 1222, 482, 3150],\n",
              " [3049, 882],\n",
              " [4651, 2647, 3049],\n",
              " [234, 3912, 3960, 674],\n",
              " [3715, 1030, 3715],\n",
              " [4687, 4234, 3150, 1647, 118],\n",
              " [1222, 1474, 3049],\n",
              " [4201, 1490, 3962],\n",
              " [693, 4601, 4829, 132, 1027],\n",
              " [4847, 4847, 291],\n",
              " [3254, 620],\n",
              " [136, 633, 442],\n",
              " [4601, 577, 4188],\n",
              " [3267, 1689, 3049],\n",
              " [1130, 2842, 3049],\n",
              " [3125, 3049, 2954],\n",
              " [1689, 3049, 3915],\n",
              " [4201, 693, 880, 3049],\n",
              " [3049, 1595],\n",
              " [4244, 141, 2710, 3049],\n",
              " [3049, 356],\n",
              " [4601, 843],\n",
              " [3809, 176],\n",
              " [442, 985, 849, 331, 4221],\n",
              " [3245, 459, 2197],\n",
              " [1113, 1815, 3049],\n",
              " [3049, 919],\n",
              " [1815, 1294, 3049],\n",
              " [1222],\n",
              " [3448, 674, 720, 459],\n",
              " [3332, 843, 3319, 2111, 1152],\n",
              " [3661],\n",
              " [3049, 2506],\n",
              " [3049, 2519, 4537],\n",
              " [3125, 3049, 3471],\n",
              " [3049, 882],\n",
              " [3125, 3049],\n",
              " [4234, 1761, 2152, 2606, 3775],\n",
              " [4601, 3476, 888, 3125],\n",
              " [3049, 198, 2354],\n",
              " [4577, 136, 3049, 1113],\n",
              " [3049, 3600, 1116],\n",
              " [4497, 3049],\n",
              " [4326, 2720, 1030, 4384, 2197, 1500],\n",
              " [625, 3049],\n",
              " [3142, 1130, 483],\n",
              " [3049, 3785],\n",
              " [4986, 3049],\n",
              " [4244, 2334, 3049],\n",
              " [1506, 851, 2397, 3049],\n",
              " [3049, 776, 1526],\n",
              " [4693, 843, 3049],\n",
              " [4951, 1563, 3049],\n",
              " [208, 3049, 1222],\n",
              " [217, 176, 2244],\n",
              " [674, 136, 3621, 3318, 1351],\n",
              " [4679, 1745, 3476, 3362, 3438],\n",
              " [674, 843, 4221],\n",
              " [1651, 3049, 1724, 3003, 594],\n",
              " [357, 3207, 3049],\n",
              " [3049, 4888, 1647, 1300],\n",
              " [3049, 2274],\n",
              " [916, 2584, 674, 946],\n",
              " [3049, 141, 2354],\n",
              " [4570, 841, 4959, 3049],\n",
              " [1113, 1815, 3049],\n",
              " [3049, 919],\n",
              " [1815, 1294, 3049],\n",
              " [1320, 1030, 3207, 136, 1351],\n",
              " [1237, 3929, 64, 3772, 1237],\n",
              " [3049, 276],\n",
              " [3125, 1455, 3049],\n",
              " [1671, 136, 3621],\n",
              " [3149, 3049],\n",
              " [851, 2666, 3049],\n",
              " [3049, 4031, 11],\n",
              " [3161, 3049],\n",
              " [136, 2720],\n",
              " [3125, 4313, 4221, 136],\n",
              " [2762, 4384],\n",
              " [3723, 849, 907, 1261],\n",
              " [615, 199, 2683],\n",
              " [199, 2544, 366],\n",
              " [2902, 199, 1804],\n",
              " [565, 4577, 4197, 199],\n",
              " [3661, 4456, 4439, 2417, 3480, 199],\n",
              " [1689, 2978, 585],\n",
              " [2978, 4238],\n",
              " [2978, 2647, 2475],\n",
              " [4234, 126],\n",
              " [2423, 1918],\n",
              " [176, 882, 888, 4234, 3715],\n",
              " [4226, 3719, 2288, 4587, 1520],\n",
              " [1924, 2197, 176, 1222],\n",
              " [4129, 1314, 2842, 4811],\n",
              " [804, 3548, 1921, 2674],\n",
              " [1363, 4792, 261],\n",
              " [1237, 1072],\n",
              " [888, 2197, 4384, 2197, 176],\n",
              " [3482, 2436, 4384, 4455],\n",
              " [4201, 3715, 764],\n",
              " [1958],\n",
              " [3751, 909],\n",
              " [1522, 4829],\n",
              " [941, 2717, 4921],\n",
              " [502, 594, 761, 694],\n",
              " [2666],\n",
              " [1647, 2523, 694],\n",
              " [3090, 1030, 642, 267],\n",
              " [1070, 1122, 424, 3823, 764],\n",
              " [3038, 2685],\n",
              " [208, 3332, 2647, 1368, 3605],\n",
              " [764, 1489],\n",
              " [3809, 2197, 2111],\n",
              " [3605, 764, 3875],\n",
              " [320, 1163, 4463],\n",
              " [2173, 2933, 1070, 4773],\n",
              " [4415, 4829],\n",
              " [694, 3161, 3318, 4378],\n",
              " [3038, 1064, 3527],\n",
              " [4773, 1463],\n",
              " [1064],\n",
              " [916, 2273, 1900, 668],\n",
              " [3087, 4201, 2864, 1076, 1565, 3161],\n",
              " [4986, 2872, 352, 2595, 2842, 4122, 3719],\n",
              " [1677, 2657, 453, 514, 1434],\n",
              " [2502, 1690, 3769, 23],\n",
              " [2100, 1745, 1647, 132],\n",
              " [4201, 3455, 1927, 3962, 3962],\n",
              " [4142, 915, 3265, 3087],\n",
              " [2337, 244, 2507, 23],\n",
              " [3032, 3476, 3455, 888, 4234]]"
            ]
          },
          "metadata": {
            "tags": []
          },
          "execution_count": 34
        }
      ]
    },
    {
      "cell_type": "markdown",
      "metadata": {
        "id": "iZ2YNlKt54L6"
      },
      "source": [
        "**Emmbedding Representation**"
      ]
    },
    {
      "cell_type": "code",
      "metadata": {
        "colab": {
          "base_uri": "https://localhost:8080/"
        },
        "id": "4k3996Rd5zBi",
        "outputId": "83c41ff4-3ada-45de-e482-cc44ed7f0122"
      },
      "source": [
        "sent_length=10\n",
        "embedded_docs=pad_sequences(onehot_repr,padding='pre',maxlen=sent_length)\n",
        "print(embedded_docs)"
      ],
      "execution_count": null,
      "outputs": [
        {
          "output_type": "stream",
          "text": [
            "[[   0    0    0 ...    0 4829 3928]\n",
            " [   0    0    0 ...    0  888 3332]\n",
            " [   0    0    0 ...    0 4847 4965]\n",
            " ...\n",
            " [   0    0    0 ...  915 3265 3087]\n",
            " [   0    0    0 ...  244 2507   23]\n",
            " [   0    0    0 ... 3455  888 4234]]\n"
          ],
          "name": "stdout"
        }
      ]
    },
    {
      "cell_type": "code",
      "metadata": {
        "colab": {
          "base_uri": "https://localhost:8080/"
        },
        "id": "GYtJCaJp6IQA",
        "outputId": "b67e838c-e465-48c8-f6f5-2b7cffe4b956"
      },
      "source": [
        "embedded_docs[0]"
      ],
      "execution_count": null,
      "outputs": [
        {
          "output_type": "execute_result",
          "data": {
            "text/plain": [
              "array([   0,    0,    0,    0,    0,    0,    0,    0, 4829, 3928],\n",
              "      dtype=int32)"
            ]
          },
          "metadata": {
            "tags": []
          },
          "execution_count": 36
        }
      ]
    },
    {
      "cell_type": "markdown",
      "metadata": {
        "id": "mQTU1Jag6O6f"
      },
      "source": [
        "**LSTM model creation**"
      ]
    },
    {
      "cell_type": "code",
      "metadata": {
        "colab": {
          "base_uri": "https://localhost:8080/"
        },
        "id": "tAoX5JSl6LTx",
        "outputId": "d49a9c89-190e-40d6-933f-f074822d5aea"
      },
      "source": [
        "## Creating model\n",
        "embedding_vector_features=40\n",
        "model=Sequential()\n",
        "model.add(Embedding(voc_size,embedding_vector_features,input_length=sent_length))\n",
        "model.add(LSTM(100))\n",
        "model.add(Dense(1,activation='sigmoid'))\n",
        "model.compile(loss='binary_crossentropy',optimizer='adam',metrics=['accuracy'])\n",
        "print(model.summary())"
      ],
      "execution_count": null,
      "outputs": [
        {
          "output_type": "stream",
          "text": [
            "Model: \"sequential\"\n",
            "_________________________________________________________________\n",
            "Layer (type)                 Output Shape              Param #   \n",
            "=================================================================\n",
            "embedding (Embedding)        (None, 10, 40)            200000    \n",
            "_________________________________________________________________\n",
            "lstm (LSTM)                  (None, 100)               56400     \n",
            "_________________________________________________________________\n",
            "dense (Dense)                (None, 1)                 101       \n",
            "=================================================================\n",
            "Total params: 256,501\n",
            "Trainable params: 256,501\n",
            "Non-trainable params: 0\n",
            "_________________________________________________________________\n",
            "None\n"
          ],
          "name": "stdout"
        }
      ]
    },
    {
      "cell_type": "code",
      "metadata": {
        "colab": {
          "base_uri": "https://localhost:8080/"
        },
        "id": "CrrVSG7u6QCz",
        "outputId": "4137219d-28fe-449a-8581-f0d762a44181"
      },
      "source": [
        "len(embedded_docs),y.shape"
      ],
      "execution_count": null,
      "outputs": [
        {
          "output_type": "execute_result",
          "data": {
            "text/plain": [
              "(211, (211,))"
            ]
          },
          "metadata": {
            "tags": []
          },
          "execution_count": 38
        }
      ]
    },
    {
      "cell_type": "code",
      "metadata": {
        "id": "7lhWM-EFTDVV"
      },
      "source": [
        "X_final=np.array(embedded_docs)\n",
        "y_final=np.array(y)"
      ],
      "execution_count": null,
      "outputs": []
    },
    {
      "cell_type": "code",
      "metadata": {
        "id": "EJKx1Gl3TJKp",
        "colab": {
          "base_uri": "https://localhost:8080/"
        },
        "outputId": "a3a2f1e2-0a59-414a-9644-c48a5161992e"
      },
      "source": [
        "X_final.shape,y_final.shape"
      ],
      "execution_count": null,
      "outputs": [
        {
          "output_type": "execute_result",
          "data": {
            "text/plain": [
              "((211, 10), (211,))"
            ]
          },
          "metadata": {
            "tags": []
          },
          "execution_count": 41
        }
      ]
    },
    {
      "cell_type": "markdown",
      "metadata": {
        "id": "IQs8NBWu6kRb"
      },
      "source": [
        "**Spliting Training and Testing data**"
      ]
    },
    {
      "cell_type": "code",
      "metadata": {
        "id": "OjmwiKVG72OU"
      },
      "source": [
        "from sklearn.model_selection import train_test_split\n",
        "X_train, X_test, y_train, y_test = train_test_split(X_final, y_final, test_size=0.33, random_state=42)"
      ],
      "execution_count": null,
      "outputs": []
    },
    {
      "cell_type": "code",
      "metadata": {
        "id": "quIsr_sh4jee"
      },
      "source": [
        "#from sklearn.preprocessing import MinMaxScaler\n",
        "#s = MinMaxScaler()\n",
        "#X_train = s.fit_transform(X_train)\n",
        "#X_test = s.transform(X_test)"
      ],
      "execution_count": null,
      "outputs": []
    },
    {
      "cell_type": "markdown",
      "metadata": {
        "id": "JkOtozEr7-st"
      },
      "source": [
        "**Model Training**"
      ]
    },
    {
      "cell_type": "code",
      "metadata": {
        "colab": {
          "base_uri": "https://localhost:8080/"
        },
        "id": "gJZZVltf77fB",
        "outputId": "e7912869-acf8-448e-c42b-5d0fc67e588f"
      },
      "source": [
        "### Finally Training\n",
        "model.fit(X_train,y_train,validation_data=(X_test,y_test),epochs=10,batch_size=64)"
      ],
      "execution_count": null,
      "outputs": [
        {
          "output_type": "stream",
          "text": [
            "Epoch 1/10\n",
            "3/3 [==============================] - 2s 242ms/step - loss: 0.6909 - accuracy: 0.5319 - val_loss: 0.6982 - val_accuracy: 0.4286\n",
            "Epoch 2/10\n",
            "3/3 [==============================] - 0s 25ms/step - loss: 0.6872 - accuracy: 0.5461 - val_loss: 0.7039 - val_accuracy: 0.4286\n",
            "Epoch 3/10\n",
            "3/3 [==============================] - 0s 26ms/step - loss: 0.6841 - accuracy: 0.5461 - val_loss: 0.7105 - val_accuracy: 0.4286\n",
            "Epoch 4/10\n",
            "3/3 [==============================] - 0s 26ms/step - loss: 0.6797 - accuracy: 0.5461 - val_loss: 0.7125 - val_accuracy: 0.4286\n",
            "Epoch 5/10\n",
            "3/3 [==============================] - 0s 26ms/step - loss: 0.6766 - accuracy: 0.5461 - val_loss: 0.7181 - val_accuracy: 0.4286\n",
            "Epoch 6/10\n",
            "3/3 [==============================] - 0s 26ms/step - loss: 0.6750 - accuracy: 0.5461 - val_loss: 0.7214 - val_accuracy: 0.4286\n",
            "Epoch 7/10\n",
            "3/3 [==============================] - 0s 27ms/step - loss: 0.6669 - accuracy: 0.5461 - val_loss: 0.7224 - val_accuracy: 0.4286\n",
            "Epoch 8/10\n",
            "3/3 [==============================] - 0s 26ms/step - loss: 0.6623 - accuracy: 0.5461 - val_loss: 0.7180 - val_accuracy: 0.4286\n",
            "Epoch 9/10\n",
            "3/3 [==============================] - 0s 28ms/step - loss: 0.6517 - accuracy: 0.5532 - val_loss: 0.7079 - val_accuracy: 0.4286\n",
            "Epoch 10/10\n",
            "3/3 [==============================] - 0s 33ms/step - loss: 0.6444 - accuracy: 0.5603 - val_loss: 0.6971 - val_accuracy: 0.4286\n"
          ],
          "name": "stdout"
        },
        {
          "output_type": "execute_result",
          "data": {
            "text/plain": [
              "<tensorflow.python.keras.callbacks.History at 0x7f77c4ff6050>"
            ]
          },
          "metadata": {
            "tags": []
          },
          "execution_count": 56
        }
      ]
    },
    {
      "cell_type": "code",
      "metadata": {
        "colab": {
          "base_uri": "https://localhost:8080/"
        },
        "id": "qRVi-1vWZAvn",
        "outputId": "3b95e351-602c-41b3-ad52-f7a264121bbc"
      },
      "source": [
        "score,acc = model.evaluate(X_test, y_test, verbose = 2, batch_size = 64)\n",
        "print(\"score: %.2f\" % (score))\n",
        "print(\"acc: %.2f\" % (acc))"
      ],
      "execution_count": null,
      "outputs": [
        {
          "output_type": "stream",
          "text": [
            "2/2 - 0s - loss: 0.6904 - accuracy: 0.4714\n",
            "score: 0.69\n",
            "acc: 0.47\n"
          ],
          "name": "stdout"
        }
      ]
    },
    {
      "cell_type": "markdown",
      "metadata": {
        "id": "Vrdr15jb8L-a"
      },
      "source": [
        "**Adding Dropout**"
      ]
    },
    {
      "cell_type": "code",
      "metadata": {
        "id": "MJWtJ3F68QTf"
      },
      "source": [
        "from tensorflow.keras.layers import Dropout\n",
        "\n",
        "## Creating model\n",
        "embedding_vector_features=40\n",
        "\n",
        "model=Sequential()\n",
        "\n",
        "model.add(Embedding(voc_size,embedding_vector_features,input_length=sent_length))\n",
        "\n",
        "model.add(Dropout(0.3))\n",
        "\n",
        "model.add(LSTM(100))\n",
        "\n",
        "model.add(Dropout(0.3))\n",
        "\n",
        "model.add(Dense(1,activation='sigmoid'))\n",
        "\n",
        "model.compile(loss='binary_crossentropy',optimizer='adam',metrics=['accuracy'])"
      ],
      "execution_count": null,
      "outputs": []
    },
    {
      "cell_type": "code",
      "metadata": {
        "colab": {
          "base_uri": "https://localhost:8080/"
        },
        "id": "U30DgEVtja6Q",
        "outputId": "a1d79e70-ab59-4974-e90f-31bb5349af4b"
      },
      "source": [
        "# serialize model to JSON\n",
        "model_json = model.to_json()\n",
        "with open(\"model.json\", \"w\") as json_file:\n",
        "    json_file.write(model_json)\n",
        "# serialize weights to HDF5\n",
        "model.save_weights(\"model.h5\")\n",
        "print(\"Saved model to disk\")"
      ],
      "execution_count": null,
      "outputs": [
        {
          "output_type": "stream",
          "text": [
            "Saved model to disk\n"
          ],
          "name": "stdout"
        }
      ]
    },
    {
      "cell_type": "code",
      "metadata": {
        "colab": {
          "base_uri": "https://localhost:8080/"
        },
        "id": "GMtj8kTmjf0T",
        "outputId": "e9c20bf7-034a-4f53-ed3c-6a6b5e109df3"
      },
      "source": [
        "# load json and create model\n",
        "json_file = open('model.json', 'r')\n",
        "loaded_model_json = json_file.read()\n",
        "json_file.close()\n",
        "loaded_model = model_from_json(loaded_model_json)\n",
        "# load weights into new model\n",
        "loaded_model.load_weights(\"model.h5\")\n",
        "print(\"Loaded model from disk\")"
      ],
      "execution_count": null,
      "outputs": [
        {
          "output_type": "stream",
          "text": [
            "Loaded model from disk\n"
          ],
          "name": "stdout"
        }
      ]
    },
    {
      "cell_type": "code",
      "metadata": {
        "colab": {
          "base_uri": "https://localhost:8080/"
        },
        "id": "xfo3nQb5PPVa",
        "outputId": "3a4b14e7-fa72-467b-d16f-d2764f029254"
      },
      "source": [
        "model.save('lstm.model')"
      ],
      "execution_count": null,
      "outputs": [
        {
          "output_type": "stream",
          "text": [
            "WARNING:absl:Found untraced functions such as lstm_cell_1_layer_call_and_return_conditional_losses, lstm_cell_1_layer_call_fn, lstm_cell_1_layer_call_fn, lstm_cell_1_layer_call_and_return_conditional_losses, lstm_cell_1_layer_call_and_return_conditional_losses while saving (showing 5 of 5). These functions will not be directly callable after loading.\n"
          ],
          "name": "stderr"
        },
        {
          "output_type": "stream",
          "text": [
            "INFO:tensorflow:Assets written to: lstm.model/assets\n"
          ],
          "name": "stdout"
        },
        {
          "output_type": "stream",
          "text": [
            "INFO:tensorflow:Assets written to: lstm.model/assets\n"
          ],
          "name": "stderr"
        }
      ]
    },
    {
      "cell_type": "code",
      "metadata": {
        "id": "htx_xS9_lREe"
      },
      "source": [
        "model=load_model('')"
      ],
      "execution_count": null,
      "outputs": []
    },
    {
      "cell_type": "markdown",
      "metadata": {
        "id": "A-YduRLX8VrA"
      },
      "source": [
        "**performance metrics and accuracy**"
      ]
    },
    {
      "cell_type": "code",
      "metadata": {
        "colab": {
          "base_uri": "https://localhost:8080/"
        },
        "id": "yfcJslOG8VOV",
        "outputId": "8879edaf-62a3-4d9b-8ca5-33da13722fbf"
      },
      "source": [
        "y_pred=model.predict_classes(X_test)"
      ],
      "execution_count": null,
      "outputs": [
        {
          "output_type": "stream",
          "text": [
            "/usr/local/lib/python3.7/dist-packages/tensorflow/python/keras/engine/sequential.py:455: UserWarning: `model.predict_classes()` is deprecated and will be removed after 2021-01-01. Please use instead:* `np.argmax(model.predict(x), axis=-1)`,   if your model does multi-class classification   (e.g. if it uses a `softmax` last-layer activation).* `(model.predict(x) > 0.5).astype(\"int32\")`,   if your model does binary classification   (e.g. if it uses a `sigmoid` last-layer activation).\n",
            "  warnings.warn('`model.predict_classes()` is deprecated and '\n"
          ],
          "name": "stderr"
        }
      ]
    },
    {
      "cell_type": "code",
      "metadata": {
        "id": "y6rudZ-R8gT6"
      },
      "source": [
        "from sklearn.metrics import confusion_matrix"
      ],
      "execution_count": null,
      "outputs": []
    },
    {
      "cell_type": "code",
      "metadata": {
        "colab": {
          "base_uri": "https://localhost:8080/"
        },
        "id": "-zDo6H-C8ojz",
        "outputId": "2ab9345e-0424-41a9-bee1-a1d0b517f443"
      },
      "source": [
        "confusion_matrix(y_test,y_pred)"
      ],
      "execution_count": null,
      "outputs": [
        {
          "output_type": "execute_result",
          "data": {
            "text/plain": [
              "array([[ 2, 38],\n",
              "       [ 0, 30]])"
            ]
          },
          "metadata": {
            "tags": []
          },
          "execution_count": 50
        }
      ]
    },
    {
      "cell_type": "code",
      "metadata": {
        "colab": {
          "base_uri": "https://localhost:8080/"
        },
        "id": "qZy-UgqV8sY0",
        "outputId": "cd7b85bb-e148-4756-8cc1-d05b462da33b"
      },
      "source": [
        "from sklearn.metrics import accuracy_score\n",
        "accuracy_score(y_test,y_pred)"
      ],
      "execution_count": null,
      "outputs": [
        {
          "output_type": "execute_result",
          "data": {
            "text/plain": [
              "0.45714285714285713"
            ]
          },
          "metadata": {
            "tags": []
          },
          "execution_count": 51
        }
      ]
    },
    {
      "cell_type": "code",
      "metadata": {
        "colab": {
          "base_uri": "https://localhost:8080/"
        },
        "id": "WRQe51Ae_QC3",
        "outputId": "b2808ae1-7fa5-4fbe-d059-ab21ebd6e5d6"
      },
      "source": [
        "from sklearn.metrics import classification_report\n",
        "print(classification_report(y_test,y_pred))"
      ],
      "execution_count": null,
      "outputs": [
        {
          "output_type": "stream",
          "text": [
            "              precision    recall  f1-score   support\n",
            "\n",
            "           0       1.00      0.05      0.10        40\n",
            "           1       0.44      1.00      0.61        30\n",
            "\n",
            "    accuracy                           0.46        70\n",
            "   macro avg       0.72      0.53      0.35        70\n",
            "weighted avg       0.76      0.46      0.32        70\n",
            "\n"
          ],
          "name": "stdout"
        }
      ]
    },
    {
      "cell_type": "code",
      "metadata": {
        "id": "jU65hFZ4AEOc",
        "colab": {
          "base_uri": "https://localhost:8080/"
        },
        "outputId": "742fdb1f-c3c9-47ff-a270-a4dc6e31d689"
      },
      "source": [
        "!sudo apt install tesseract-ocr\n",
        "!pip install pytesseract"
      ],
      "execution_count": null,
      "outputs": [
        {
          "output_type": "stream",
          "text": [
            "Reading package lists... Done\n",
            "Building dependency tree       \n",
            "Reading state information... Done\n",
            "The following additional packages will be installed:\n",
            "  tesseract-ocr-eng tesseract-ocr-osd\n",
            "The following NEW packages will be installed:\n",
            "  tesseract-ocr tesseract-ocr-eng tesseract-ocr-osd\n",
            "0 upgraded, 3 newly installed, 0 to remove and 39 not upgraded.\n",
            "Need to get 4,795 kB of archives.\n",
            "After this operation, 15.8 MB of additional disk space will be used.\n",
            "Get:1 http://archive.ubuntu.com/ubuntu bionic/universe amd64 tesseract-ocr-eng all 4.00~git24-0e00fe6-1.2 [1,588 kB]\n",
            "Get:2 http://archive.ubuntu.com/ubuntu bionic/universe amd64 tesseract-ocr-osd all 4.00~git24-0e00fe6-1.2 [2,989 kB]\n",
            "Get:3 http://archive.ubuntu.com/ubuntu bionic/universe amd64 tesseract-ocr amd64 4.00~git2288-10f4998a-2 [218 kB]\n",
            "Fetched 4,795 kB in 1s (3,852 kB/s)\n",
            "debconf: unable to initialize frontend: Dialog\n",
            "debconf: (No usable dialog-like program is installed, so the dialog based frontend cannot be used. at /usr/share/perl5/Debconf/FrontEnd/Dialog.pm line 76, <> line 3.)\n",
            "debconf: falling back to frontend: Readline\n",
            "debconf: unable to initialize frontend: Readline\n",
            "debconf: (This frontend requires a controlling tty.)\n",
            "debconf: falling back to frontend: Teletype\n",
            "dpkg-preconfigure: unable to re-open stdin: \n",
            "Selecting previously unselected package tesseract-ocr-eng.\n",
            "(Reading database ... 160772 files and directories currently installed.)\n",
            "Preparing to unpack .../tesseract-ocr-eng_4.00~git24-0e00fe6-1.2_all.deb ...\n",
            "Unpacking tesseract-ocr-eng (4.00~git24-0e00fe6-1.2) ...\n",
            "Selecting previously unselected package tesseract-ocr-osd.\n",
            "Preparing to unpack .../tesseract-ocr-osd_4.00~git24-0e00fe6-1.2_all.deb ...\n",
            "Unpacking tesseract-ocr-osd (4.00~git24-0e00fe6-1.2) ...\n",
            "Selecting previously unselected package tesseract-ocr.\n",
            "Preparing to unpack .../tesseract-ocr_4.00~git2288-10f4998a-2_amd64.deb ...\n",
            "Unpacking tesseract-ocr (4.00~git2288-10f4998a-2) ...\n",
            "Setting up tesseract-ocr-osd (4.00~git24-0e00fe6-1.2) ...\n",
            "Setting up tesseract-ocr-eng (4.00~git24-0e00fe6-1.2) ...\n",
            "Setting up tesseract-ocr (4.00~git2288-10f4998a-2) ...\n",
            "Processing triggers for man-db (2.8.3-2ubuntu0.1) ...\n",
            "Collecting pytesseract\n",
            "  Downloading https://files.pythonhosted.org/packages/a0/e6/a4e9fc8a93c1318540e8de6d8d4beb5749b7960388a7c7f27799fc2dd016/pytesseract-0.3.7.tar.gz\n",
            "Requirement already satisfied: Pillow in /usr/local/lib/python3.7/dist-packages (from pytesseract) (7.1.2)\n",
            "Building wheels for collected packages: pytesseract\n",
            "  Building wheel for pytesseract (setup.py) ... \u001b[?25l\u001b[?25hdone\n",
            "  Created wheel for pytesseract: filename=pytesseract-0.3.7-py2.py3-none-any.whl size=13953 sha256=8441fcb516e49f0cf53fe787708466450fced4f76305c02201802563b135611a\n",
            "  Stored in directory: /root/.cache/pip/wheels/81/20/7e/1dd0daad1575d5260916bb1e9781246430647adaef4b3ca3b3\n",
            "Successfully built pytesseract\n",
            "Installing collected packages: pytesseract\n",
            "Successfully installed pytesseract-0.3.7\n"
          ],
          "name": "stdout"
        }
      ]
    },
    {
      "cell_type": "code",
      "metadata": {
        "id": "O_xXJm8OX9dB"
      },
      "source": [
        "import pytesseract\n",
        "import shutil\n",
        "import os\n",
        "import random\n",
        "try:\n",
        " from PIL import Image\n",
        "except ImportError:\n",
        " import Image"
      ],
      "execution_count": null,
      "outputs": []
    },
    {
      "cell_type": "code",
      "metadata": {
        "colab": {
          "base_uri": "https://localhost:8080/",
          "height": 341
        },
        "id": "2m9EziDlYBuf",
        "outputId": "f07fc00b-9bd9-4351-8b4e-5a3045d88b43"
      },
      "source": [
        "path='pic1.jpg'\n",
        "info_text = pytesseract.image_to_string(Image.open(path))\n",
        "print(info_text)"
      ],
      "execution_count": null,
      "outputs": [
        {
          "output_type": "error",
          "ename": "FileNotFoundError",
          "evalue": "ignored",
          "traceback": [
            "\u001b[0;31m---------------------------------------------------------------------------\u001b[0m",
            "\u001b[0;31mFileNotFoundError\u001b[0m                         Traceback (most recent call last)",
            "\u001b[0;32m<ipython-input-4-b90511e255a5>\u001b[0m in \u001b[0;36m<module>\u001b[0;34m()\u001b[0m\n\u001b[1;32m      1\u001b[0m \u001b[0;31m# Enter the path of the image\u001b[0m\u001b[0;34m\u001b[0m\u001b[0;34m\u001b[0m\u001b[0;34m\u001b[0m\u001b[0m\n\u001b[1;32m      2\u001b[0m \u001b[0mpath\u001b[0m\u001b[0;34m=\u001b[0m\u001b[0;34m'pic1.jpeg'\u001b[0m\u001b[0;34m\u001b[0m\u001b[0;34m\u001b[0m\u001b[0m\n\u001b[0;32m----> 3\u001b[0;31m \u001b[0minfo_text\u001b[0m \u001b[0;34m=\u001b[0m \u001b[0mpytesseract\u001b[0m\u001b[0;34m.\u001b[0m\u001b[0mimage_to_string\u001b[0m\u001b[0;34m(\u001b[0m\u001b[0mImage\u001b[0m\u001b[0;34m.\u001b[0m\u001b[0mopen\u001b[0m\u001b[0;34m(\u001b[0m\u001b[0mpath\u001b[0m\u001b[0;34m)\u001b[0m\u001b[0;34m)\u001b[0m\u001b[0;34m\u001b[0m\u001b[0;34m\u001b[0m\u001b[0m\n\u001b[0m\u001b[1;32m      4\u001b[0m \u001b[0mprint\u001b[0m\u001b[0;34m(\u001b[0m\u001b[0minfo_text\u001b[0m\u001b[0;34m)\u001b[0m\u001b[0;34m\u001b[0m\u001b[0;34m\u001b[0m\u001b[0m\n",
            "\u001b[0;32m/usr/local/lib/python3.7/dist-packages/PIL/Image.py\u001b[0m in \u001b[0;36mopen\u001b[0;34m(fp, mode)\u001b[0m\n\u001b[1;32m   2841\u001b[0m \u001b[0;34m\u001b[0m\u001b[0m\n\u001b[1;32m   2842\u001b[0m     \u001b[0;32mif\u001b[0m \u001b[0mfilename\u001b[0m\u001b[0;34m:\u001b[0m\u001b[0;34m\u001b[0m\u001b[0;34m\u001b[0m\u001b[0m\n\u001b[0;32m-> 2843\u001b[0;31m         \u001b[0mfp\u001b[0m \u001b[0;34m=\u001b[0m \u001b[0mbuiltins\u001b[0m\u001b[0;34m.\u001b[0m\u001b[0mopen\u001b[0m\u001b[0;34m(\u001b[0m\u001b[0mfilename\u001b[0m\u001b[0;34m,\u001b[0m \u001b[0;34m\"rb\"\u001b[0m\u001b[0;34m)\u001b[0m\u001b[0;34m\u001b[0m\u001b[0;34m\u001b[0m\u001b[0m\n\u001b[0m\u001b[1;32m   2844\u001b[0m         \u001b[0mexclusive_fp\u001b[0m \u001b[0;34m=\u001b[0m \u001b[0;32mTrue\u001b[0m\u001b[0;34m\u001b[0m\u001b[0;34m\u001b[0m\u001b[0m\n\u001b[1;32m   2845\u001b[0m \u001b[0;34m\u001b[0m\u001b[0m\n",
            "\u001b[0;31mFileNotFoundError\u001b[0m: [Errno 2] No such file or directory: 'pic1.jpeg'"
          ]
        }
      ]
    },
    {
      "cell_type": "code",
      "metadata": {
        "id": "4GkAKGxahRbL"
      },
      "source": [
        "file = open(\"status_text.txt\", \"w\")\n",
        "file.write(info_text+ '\\n')\n",
        "file.close()"
      ],
      "execution_count": null,
      "outputs": []
    },
    {
      "cell_type": "code",
      "metadata": {
        "colab": {
          "base_uri": "https://localhost:8080/",
          "height": 329
        },
        "id": "PNnkpt7ldzXg",
        "outputId": "c6514b2d-56a0-44d4-df35-ce61a9a921ad"
      },
      "source": [
        "y_pred=model.predict(text1)"
      ],
      "execution_count": null,
      "outputs": [
        {
          "output_type": "error",
          "ename": "ValueError",
          "evalue": "ignored",
          "traceback": [
            "\u001b[0;31m---------------------------------------------------------------------------\u001b[0m",
            "\u001b[0;31mValueError\u001b[0m                                Traceback (most recent call last)",
            "\u001b[0;32m<ipython-input-65-056c985cb5a1>\u001b[0m in \u001b[0;36m<module>\u001b[0;34m()\u001b[0m\n\u001b[0;32m----> 1\u001b[0;31m \u001b[0my_pred\u001b[0m\u001b[0;34m=\u001b[0m\u001b[0mmodel\u001b[0m\u001b[0;34m.\u001b[0m\u001b[0mpredict\u001b[0m\u001b[0;34m(\u001b[0m\u001b[0mtext1\u001b[0m\u001b[0;34m)\u001b[0m\u001b[0;34m\u001b[0m\u001b[0;34m\u001b[0m\u001b[0m\n\u001b[0m",
            "\u001b[0;32m/usr/local/lib/python3.7/dist-packages/tensorflow/python/keras/engine/training.py\u001b[0m in \u001b[0;36mpredict\u001b[0;34m(self, x, batch_size, verbose, steps, callbacks, max_queue_size, workers, use_multiprocessing)\u001b[0m\n\u001b[1;32m   1704\u001b[0m           \u001b[0muse_multiprocessing\u001b[0m\u001b[0;34m=\u001b[0m\u001b[0muse_multiprocessing\u001b[0m\u001b[0;34m,\u001b[0m\u001b[0;34m\u001b[0m\u001b[0;34m\u001b[0m\u001b[0m\n\u001b[1;32m   1705\u001b[0m           \u001b[0mmodel\u001b[0m\u001b[0;34m=\u001b[0m\u001b[0mself\u001b[0m\u001b[0;34m,\u001b[0m\u001b[0;34m\u001b[0m\u001b[0;34m\u001b[0m\u001b[0m\n\u001b[0;32m-> 1706\u001b[0;31m           steps_per_execution=self._steps_per_execution)\n\u001b[0m\u001b[1;32m   1707\u001b[0m \u001b[0;34m\u001b[0m\u001b[0m\n\u001b[1;32m   1708\u001b[0m       \u001b[0;31m# Container that configures and calls `tf.keras.Callback`s.\u001b[0m\u001b[0;34m\u001b[0m\u001b[0;34m\u001b[0m\u001b[0;34m\u001b[0m\u001b[0m\n",
            "\u001b[0;32m/usr/local/lib/python3.7/dist-packages/tensorflow/python/keras/engine/data_adapter.py\u001b[0m in \u001b[0;36mget_data_handler\u001b[0;34m(*args, **kwargs)\u001b[0m\n\u001b[1;32m   1362\u001b[0m   \u001b[0;32mif\u001b[0m \u001b[0mgetattr\u001b[0m\u001b[0;34m(\u001b[0m\u001b[0mkwargs\u001b[0m\u001b[0;34m[\u001b[0m\u001b[0;34m\"model\"\u001b[0m\u001b[0;34m]\u001b[0m\u001b[0;34m,\u001b[0m \u001b[0;34m\"_cluster_coordinator\"\u001b[0m\u001b[0;34m,\u001b[0m \u001b[0;32mNone\u001b[0m\u001b[0;34m)\u001b[0m\u001b[0;34m:\u001b[0m\u001b[0;34m\u001b[0m\u001b[0;34m\u001b[0m\u001b[0m\n\u001b[1;32m   1363\u001b[0m     \u001b[0;32mreturn\u001b[0m \u001b[0m_ClusterCoordinatorDataHandler\u001b[0m\u001b[0;34m(\u001b[0m\u001b[0;34m*\u001b[0m\u001b[0margs\u001b[0m\u001b[0;34m,\u001b[0m \u001b[0;34m**\u001b[0m\u001b[0mkwargs\u001b[0m\u001b[0;34m)\u001b[0m\u001b[0;34m\u001b[0m\u001b[0;34m\u001b[0m\u001b[0m\n\u001b[0;32m-> 1364\u001b[0;31m   \u001b[0;32mreturn\u001b[0m \u001b[0mDataHandler\u001b[0m\u001b[0;34m(\u001b[0m\u001b[0;34m*\u001b[0m\u001b[0margs\u001b[0m\u001b[0;34m,\u001b[0m \u001b[0;34m**\u001b[0m\u001b[0mkwargs\u001b[0m\u001b[0;34m)\u001b[0m\u001b[0;34m\u001b[0m\u001b[0;34m\u001b[0m\u001b[0m\n\u001b[0m\u001b[1;32m   1365\u001b[0m \u001b[0;34m\u001b[0m\u001b[0m\n\u001b[1;32m   1366\u001b[0m \u001b[0;34m\u001b[0m\u001b[0m\n",
            "\u001b[0;32m/usr/local/lib/python3.7/dist-packages/tensorflow/python/keras/engine/data_adapter.py\u001b[0m in \u001b[0;36m__init__\u001b[0;34m(self, x, y, sample_weight, batch_size, steps_per_epoch, initial_epoch, epochs, shuffle, class_weight, max_queue_size, workers, use_multiprocessing, model, steps_per_execution, distribute)\u001b[0m\n\u001b[1;32m   1150\u001b[0m       \u001b[0mself\u001b[0m\u001b[0;34m.\u001b[0m\u001b[0m_steps_per_execution_value\u001b[0m \u001b[0;34m=\u001b[0m \u001b[0msteps_per_execution\u001b[0m\u001b[0;34m.\u001b[0m\u001b[0mnumpy\u001b[0m\u001b[0;34m(\u001b[0m\u001b[0;34m)\u001b[0m\u001b[0;34m.\u001b[0m\u001b[0mitem\u001b[0m\u001b[0;34m(\u001b[0m\u001b[0;34m)\u001b[0m\u001b[0;34m\u001b[0m\u001b[0;34m\u001b[0m\u001b[0m\n\u001b[1;32m   1151\u001b[0m \u001b[0;34m\u001b[0m\u001b[0m\n\u001b[0;32m-> 1152\u001b[0;31m     \u001b[0madapter_cls\u001b[0m \u001b[0;34m=\u001b[0m \u001b[0mselect_data_adapter\u001b[0m\u001b[0;34m(\u001b[0m\u001b[0mx\u001b[0m\u001b[0;34m,\u001b[0m \u001b[0my\u001b[0m\u001b[0;34m)\u001b[0m\u001b[0;34m\u001b[0m\u001b[0;34m\u001b[0m\u001b[0m\n\u001b[0m\u001b[1;32m   1153\u001b[0m     \u001b[0mself\u001b[0m\u001b[0;34m.\u001b[0m\u001b[0m_verify_data_adapter_compatibility\u001b[0m\u001b[0;34m(\u001b[0m\u001b[0madapter_cls\u001b[0m\u001b[0;34m)\u001b[0m\u001b[0;34m\u001b[0m\u001b[0;34m\u001b[0m\u001b[0m\n\u001b[1;32m   1154\u001b[0m     self._adapter = adapter_cls(\n",
            "\u001b[0;32m/usr/local/lib/python3.7/dist-packages/tensorflow/python/keras/engine/data_adapter.py\u001b[0m in \u001b[0;36mselect_data_adapter\u001b[0;34m(x, y)\u001b[0m\n\u001b[1;32m    992\u001b[0m         \u001b[0;34m\"Failed to find data adapter that can handle \"\u001b[0m\u001b[0;34m\u001b[0m\u001b[0;34m\u001b[0m\u001b[0m\n\u001b[1;32m    993\u001b[0m         \"input: {}, {}\".format(\n\u001b[0;32m--> 994\u001b[0;31m             _type_name(x), _type_name(y)))\n\u001b[0m\u001b[1;32m    995\u001b[0m   \u001b[0;32melif\u001b[0m \u001b[0mlen\u001b[0m\u001b[0;34m(\u001b[0m\u001b[0madapter_cls\u001b[0m\u001b[0;34m)\u001b[0m \u001b[0;34m>\u001b[0m \u001b[0;36m1\u001b[0m\u001b[0;34m:\u001b[0m\u001b[0;34m\u001b[0m\u001b[0;34m\u001b[0m\u001b[0m\n\u001b[1;32m    996\u001b[0m     raise RuntimeError(\n",
            "\u001b[0;31mValueError\u001b[0m: Failed to find data adapter that can handle input: <class 'spacy.tokens.doc.Doc'>, <class 'NoneType'>"
          ]
        }
      ]
    },
    {
      "cell_type": "code",
      "metadata": {
        "colab": {
          "base_uri": "https://localhost:8080/",
          "height": 399
        },
        "id": "VegZTV3uV_p-",
        "outputId": "f558aa55-684e-4ebf-dcd8-f09098d58635"
      },
      "source": [
        "from keras.preprocessing.text import Tokenizer\n",
        "\n",
        "twt = ['I love eating mangoes']\n",
        "#vectorizing the tweet by the pre-fitted tokenizer instance\n",
        "tokenizer = Tokenizer(embedding_vector_features=40, split=' ')\n",
        "tokenizer.fit_on_texts(data['text'].values)\n",
        "twt = tokenizer.texts_to_sequences(twt)\n",
        "#padding the tweet to have exactly the same shape as `embedding_2` input\n",
        "twt = pad_sequences(twt, sent_length=10, dtype='int32', value=0)\n",
        "print(twt)\n",
        "sentiment = model.predict(twt,batch_size=1,verbose = 2)[0]\n",
        "if(np.argmax(sentiment) == 0):\n",
        "    print(\"negative\")\n",
        "elif (np.argmax(sentiment) == 1):\n",
        "    print(\"positive\")"
      ],
      "execution_count": null,
      "outputs": [
        {
          "output_type": "error",
          "ename": "TypeError",
          "evalue": "ignored",
          "traceback": [
            "\u001b[0;31m---------------------------------------------------------------------------\u001b[0m",
            "\u001b[0;31mTypeError\u001b[0m                                 Traceback (most recent call last)",
            "\u001b[0;32m<ipython-input-69-72a16390ebbe>\u001b[0m in \u001b[0;36m<module>\u001b[0;34m()\u001b[0m\n\u001b[1;32m      3\u001b[0m \u001b[0mtwt\u001b[0m \u001b[0;34m=\u001b[0m \u001b[0;34m[\u001b[0m\u001b[0;34m'I love eating mangoes'\u001b[0m\u001b[0;34m]\u001b[0m\u001b[0;34m\u001b[0m\u001b[0;34m\u001b[0m\u001b[0m\n\u001b[1;32m      4\u001b[0m \u001b[0;31m#vectorizing the tweet by the pre-fitted tokenizer instance\u001b[0m\u001b[0;34m\u001b[0m\u001b[0;34m\u001b[0m\u001b[0;34m\u001b[0m\u001b[0m\n\u001b[0;32m----> 5\u001b[0;31m \u001b[0mtokenizer\u001b[0m \u001b[0;34m=\u001b[0m \u001b[0mTokenizer\u001b[0m\u001b[0;34m(\u001b[0m\u001b[0membedding_vector_features\u001b[0m\u001b[0;34m=\u001b[0m\u001b[0;36m40\u001b[0m\u001b[0;34m,\u001b[0m \u001b[0msplit\u001b[0m\u001b[0;34m=\u001b[0m\u001b[0;34m' '\u001b[0m\u001b[0;34m)\u001b[0m\u001b[0;34m\u001b[0m\u001b[0;34m\u001b[0m\u001b[0m\n\u001b[0m\u001b[1;32m      6\u001b[0m \u001b[0mtokenizer\u001b[0m\u001b[0;34m.\u001b[0m\u001b[0mfit_on_texts\u001b[0m\u001b[0;34m(\u001b[0m\u001b[0mdata\u001b[0m\u001b[0;34m[\u001b[0m\u001b[0;34m'text'\u001b[0m\u001b[0;34m]\u001b[0m\u001b[0;34m.\u001b[0m\u001b[0mvalues\u001b[0m\u001b[0;34m)\u001b[0m\u001b[0;34m\u001b[0m\u001b[0;34m\u001b[0m\u001b[0m\n\u001b[1;32m      7\u001b[0m \u001b[0mtwt\u001b[0m \u001b[0;34m=\u001b[0m \u001b[0mtokenizer\u001b[0m\u001b[0;34m.\u001b[0m\u001b[0mtexts_to_sequences\u001b[0m\u001b[0;34m(\u001b[0m\u001b[0mtwt\u001b[0m\u001b[0;34m)\u001b[0m\u001b[0;34m\u001b[0m\u001b[0;34m\u001b[0m\u001b[0m\n",
            "\u001b[0;32m/usr/local/lib/python3.7/dist-packages/keras_preprocessing/text.py\u001b[0m in \u001b[0;36m__init__\u001b[0;34m(self, num_words, filters, lower, split, char_level, oov_token, document_count, **kwargs)\u001b[0m\n\u001b[1;32m    182\u001b[0m             \u001b[0mnum_words\u001b[0m \u001b[0;34m=\u001b[0m \u001b[0mkwargs\u001b[0m\u001b[0;34m.\u001b[0m\u001b[0mpop\u001b[0m\u001b[0;34m(\u001b[0m\u001b[0;34m'nb_words'\u001b[0m\u001b[0;34m)\u001b[0m\u001b[0;34m\u001b[0m\u001b[0;34m\u001b[0m\u001b[0m\n\u001b[1;32m    183\u001b[0m         \u001b[0;32mif\u001b[0m \u001b[0mkwargs\u001b[0m\u001b[0;34m:\u001b[0m\u001b[0;34m\u001b[0m\u001b[0;34m\u001b[0m\u001b[0m\n\u001b[0;32m--> 184\u001b[0;31m             \u001b[0;32mraise\u001b[0m \u001b[0mTypeError\u001b[0m\u001b[0;34m(\u001b[0m\u001b[0;34m'Unrecognized keyword arguments: '\u001b[0m \u001b[0;34m+\u001b[0m \u001b[0mstr\u001b[0m\u001b[0;34m(\u001b[0m\u001b[0mkwargs\u001b[0m\u001b[0;34m)\u001b[0m\u001b[0;34m)\u001b[0m\u001b[0;34m\u001b[0m\u001b[0;34m\u001b[0m\u001b[0m\n\u001b[0m\u001b[1;32m    185\u001b[0m \u001b[0;34m\u001b[0m\u001b[0m\n\u001b[1;32m    186\u001b[0m         \u001b[0mself\u001b[0m\u001b[0;34m.\u001b[0m\u001b[0mword_counts\u001b[0m \u001b[0;34m=\u001b[0m \u001b[0mOrderedDict\u001b[0m\u001b[0;34m(\u001b[0m\u001b[0;34m)\u001b[0m\u001b[0;34m\u001b[0m\u001b[0;34m\u001b[0m\u001b[0m\n",
            "\u001b[0;31mTypeError\u001b[0m: Unrecognized keyword arguments: {'embedding_vector_features': 40}"
          ]
        }
      ]
    }
  ]
}