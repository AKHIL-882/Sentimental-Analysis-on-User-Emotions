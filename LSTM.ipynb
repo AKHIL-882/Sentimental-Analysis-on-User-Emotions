{
  "nbformat": 4,
  "nbformat_minor": 0,
  "metadata": {
    "colab": {
      "name": "LSTM.ipynb",
      "provenance": [],
      "collapsed_sections": []
    },
    "kernelspec": {
      "name": "python3",
      "display_name": "Python 3"
    },
    "language_info": {
      "name": "python"
    }
  },
  "cells": [
    {
      "cell_type": "code",
      "metadata": {
        "id": "qn0rs3P9FpRE",
        "colab": {
          "base_uri": "https://localhost:8080/"
        },
        "outputId": "cb4b3b8a-a3fd-4dca-ee4b-f115d1138b44"
      },
      "source": [
        "!pip install keras \n"
      ],
      "execution_count": null,
      "outputs": [
        {
          "output_type": "stream",
          "text": [
            "Requirement already satisfied: keras in /usr/local/lib/python3.7/dist-packages (2.4.3)\n",
            "Requirement already satisfied: h5py in /usr/local/lib/python3.7/dist-packages (from keras) (3.1.0)\n",
            "Requirement already satisfied: pyyaml in /usr/local/lib/python3.7/dist-packages (from keras) (3.13)\n",
            "Requirement already satisfied: numpy>=1.9.1 in /usr/local/lib/python3.7/dist-packages (from keras) (1.19.5)\n",
            "Requirement already satisfied: scipy>=0.14 in /usr/local/lib/python3.7/dist-packages (from keras) (1.4.1)\n",
            "Requirement already satisfied: cached-property; python_version < \"3.8\" in /usr/local/lib/python3.7/dist-packages (from h5py->keras) (1.5.2)\n"
          ],
          "name": "stdout"
        }
      ]
    },
    {
      "cell_type": "code",
      "metadata": {
        "id": "Gbem3fX5GQxW"
      },
      "source": [
        "import numpy as np\n",
        "\n",
        "import pandas as pd\n",
        "\n",
        "\n",
        "\n",
        "df = pd.read_csv(\"Train_data1.csv\")"
      ],
      "execution_count": null,
      "outputs": []
    },
    {
      "cell_type": "code",
      "metadata": {
        "colab": {
          "base_uri": "https://localhost:8080/",
          "height": 206
        },
        "id": "4RNAK9voUa69",
        "outputId": "1e4a95fc-8eb3-461f-ae01-e4e7c6d59226"
      },
      "source": [
        "df.head()"
      ],
      "execution_count": null,
      "outputs": [
        {
          "output_type": "execute_result",
          "data": {
            "text/html": [
              "<div>\n",
              "<style scoped>\n",
              "    .dataframe tbody tr th:only-of-type {\n",
              "        vertical-align: middle;\n",
              "    }\n",
              "\n",
              "    .dataframe tbody tr th {\n",
              "        vertical-align: top;\n",
              "    }\n",
              "\n",
              "    .dataframe thead th {\n",
              "        text-align: right;\n",
              "    }\n",
              "</style>\n",
              "<table border=\"1\" class=\"dataframe\">\n",
              "  <thead>\n",
              "    <tr style=\"text-align: right;\">\n",
              "      <th></th>\n",
              "      <th>Label</th>\n",
              "      <th>Time</th>\n",
              "      <th>Data</th>\n",
              "      <th>Sentiment</th>\n",
              "    </tr>\n",
              "  </thead>\n",
              "  <tbody>\n",
              "    <tr>\n",
              "      <th>0</th>\n",
              "      <td>0</td>\n",
              "      <td>10.35pm</td>\n",
              "      <td>she is a good girl</td>\n",
              "      <td>1</td>\n",
              "    </tr>\n",
              "    <tr>\n",
              "      <th>1</th>\n",
              "      <td>1</td>\n",
              "      <td>11.01am</td>\n",
              "      <td>I Love Music</td>\n",
              "      <td>1</td>\n",
              "    </tr>\n",
              "    <tr>\n",
              "      <th>2</th>\n",
              "      <td>2</td>\n",
              "      <td>03.12pm</td>\n",
              "      <td>she hates milk</td>\n",
              "      <td>0</td>\n",
              "    </tr>\n",
              "    <tr>\n",
              "      <th>3</th>\n",
              "      <td>3</td>\n",
              "      <td>06.06pm</td>\n",
              "      <td>Iam a good Listener</td>\n",
              "      <td>1</td>\n",
              "    </tr>\n",
              "    <tr>\n",
              "      <th>4</th>\n",
              "      <td>4</td>\n",
              "      <td>12.03am</td>\n",
              "      <td>I Love Harry Potter series</td>\n",
              "      <td>1</td>\n",
              "    </tr>\n",
              "  </tbody>\n",
              "</table>\n",
              "</div>"
            ],
            "text/plain": [
              "   Label     Time                        Data  Sentiment\n",
              "0      0  10.35pm          she is a good girl          1\n",
              "1      1  11.01am                I Love Music          1\n",
              "2      2  03.12pm              she hates milk          0\n",
              "3      3  06.06pm         Iam a good Listener          1\n",
              "4      4  12.03am  I Love Harry Potter series          1"
            ]
          },
          "metadata": {
            "tags": []
          },
          "execution_count": 157
        }
      ]
    },
    {
      "cell_type": "code",
      "metadata": {
        "colab": {
          "base_uri": "https://localhost:8080/",
          "height": 206
        },
        "id": "-8A31pdUyolw",
        "outputId": "d955cc58-8b5b-43a0-b836-4b2024889f68"
      },
      "source": [
        "df.tail()"
      ],
      "execution_count": null,
      "outputs": [
        {
          "output_type": "execute_result",
          "data": {
            "text/html": [
              "<div>\n",
              "<style scoped>\n",
              "    .dataframe tbody tr th:only-of-type {\n",
              "        vertical-align: middle;\n",
              "    }\n",
              "\n",
              "    .dataframe tbody tr th {\n",
              "        vertical-align: top;\n",
              "    }\n",
              "\n",
              "    .dataframe thead th {\n",
              "        text-align: right;\n",
              "    }\n",
              "</style>\n",
              "<table border=\"1\" class=\"dataframe\">\n",
              "  <thead>\n",
              "    <tr style=\"text-align: right;\">\n",
              "      <th></th>\n",
              "      <th>Label</th>\n",
              "      <th>Time</th>\n",
              "      <th>Data</th>\n",
              "      <th>Sentiment</th>\n",
              "    </tr>\n",
              "  </thead>\n",
              "  <tbody>\n",
              "    <tr>\n",
              "      <th>26</th>\n",
              "      <td>26</td>\n",
              "      <td>10.45pm</td>\n",
              "      <td>swarna is the prettiest girl in th class</td>\n",
              "      <td>1</td>\n",
              "    </tr>\n",
              "    <tr>\n",
              "      <th>27</th>\n",
              "      <td>27</td>\n",
              "      <td>11.30am</td>\n",
              "      <td>NO ONE LOVES ME</td>\n",
              "      <td>0</td>\n",
              "    </tr>\n",
              "    <tr>\n",
              "      <th>28</th>\n",
              "      <td>28</td>\n",
              "      <td>3.45pm</td>\n",
              "      <td>Iam a good dancer</td>\n",
              "      <td>1</td>\n",
              "    </tr>\n",
              "    <tr>\n",
              "      <th>29</th>\n",
              "      <td>29</td>\n",
              "      <td>11.13pm</td>\n",
              "      <td>she is good at English</td>\n",
              "      <td>1</td>\n",
              "    </tr>\n",
              "    <tr>\n",
              "      <th>30</th>\n",
              "      <td>30</td>\n",
              "      <td>12.37am</td>\n",
              "      <td>he loves to play cricket</td>\n",
              "      <td>1</td>\n",
              "    </tr>\n",
              "  </tbody>\n",
              "</table>\n",
              "</div>"
            ],
            "text/plain": [
              "    Label     Time                                      Data  Sentiment\n",
              "26     26  10.45pm  swarna is the prettiest girl in th class          1\n",
              "27     27  11.30am                           NO ONE LOVES ME          0\n",
              "28     28   3.45pm                         Iam a good dancer          1\n",
              "29     29  11.13pm                    she is good at English          1\n",
              "30     30  12.37am                  he loves to play cricket          1"
            ]
          },
          "metadata": {
            "tags": []
          },
          "execution_count": 158
        }
      ]
    },
    {
      "cell_type": "code",
      "metadata": {
        "colab": {
          "base_uri": "https://localhost:8080/"
        },
        "id": "53fma172y6mN",
        "outputId": "d7406562-2749-447b-894e-2c63bd4ea99b"
      },
      "source": [
        "df[\"Data\"]"
      ],
      "execution_count": null,
      "outputs": [
        {
          "output_type": "execute_result",
          "data": {
            "text/plain": [
              "0                            she is a good girl\n",
              "1                                  I Love Music\n",
              "2                                she hates milk\n",
              "3                           Iam a good Listener\n",
              "4                    I Love Harry Potter series\n",
              "5                 She is so exhausted with them\n",
              "6                   Maharshi movie is excellent\n",
              "7              Cleanliness is next to Godliness\n",
              "8     Mahatma Gandhi is a great freedom figther\n",
              "9                        Latha loves Lofi music\n",
              "10    They were so sad after listening the news\n",
              "11                              Rama loves Sita\n",
              "12                                Love Yourself\n",
              "13          Well done is better than well said.\n",
              "14             Cherish the Good moments in Life\n",
              "15             Everyone goes thorugh Depression\n",
              "16                     Iam HAPPY at this moment\n",
              "17                             Blissful moments\n",
              "18                        Pleasure meeting you.\n",
              "19                     I faced lot of problems.\n",
              "20                   my sister is a good singer\n",
              "21       AR Rahman is one of the finest Artist.\n",
              "22                        Happy Birthday to you\n",
              "23                THIS is a bad day in my life.\n",
              "24                               I hate my life\n",
              "25                          she looks beautiful\n",
              "26     swarna is the prettiest girl in th class\n",
              "27                              NO ONE LOVES ME\n",
              "28                            Iam a good dancer\n",
              "29                       she is good at English\n",
              "30                     he loves to play cricket\n",
              "Name: Data, dtype: object"
            ]
          },
          "metadata": {
            "tags": []
          },
          "execution_count": 159
        }
      ]
    },
    {
      "cell_type": "code",
      "metadata": {
        "id": "d9aq0Xy9Uxcw"
      },
      "source": [
        "df=df.dropna()"
      ],
      "execution_count": null,
      "outputs": []
    },
    {
      "cell_type": "code",
      "metadata": {
        "id": "oQz0g0ZPU7bw"
      },
      "source": [
        "##get independent features\n",
        "\n",
        "X=df.drop(\"Sentiment\",axis=1)"
      ],
      "execution_count": null,
      "outputs": []
    },
    {
      "cell_type": "code",
      "metadata": {
        "id": "QsP8Kq7hYhyF"
      },
      "source": [
        "##get dependent features\n",
        "\n",
        "y=df[\"Sentiment\"]"
      ],
      "execution_count": null,
      "outputs": []
    },
    {
      "cell_type": "code",
      "metadata": {
        "colab": {
          "base_uri": "https://localhost:8080/"
        },
        "id": "d5yqK-wsYsK4",
        "outputId": "1c90405a-3e6a-4e60-c188-5959aaa5e3fb"
      },
      "source": [
        "X.shape"
      ],
      "execution_count": null,
      "outputs": [
        {
          "output_type": "execute_result",
          "data": {
            "text/plain": [
              "(31, 3)"
            ]
          },
          "metadata": {
            "tags": []
          },
          "execution_count": 163
        }
      ]
    },
    {
      "cell_type": "code",
      "metadata": {
        "colab": {
          "base_uri": "https://localhost:8080/"
        },
        "id": "cyRquQqRYx2N",
        "outputId": "354ef42d-e4e6-46b8-b529-dff588719021"
      },
      "source": [
        "y.shape"
      ],
      "execution_count": null,
      "outputs": [
        {
          "output_type": "execute_result",
          "data": {
            "text/plain": [
              "(31,)"
            ]
          },
          "metadata": {
            "tags": []
          },
          "execution_count": 164
        }
      ]
    },
    {
      "cell_type": "code",
      "metadata": {
        "id": "V1cIepi9alOk"
      },
      "source": [
        "import tensorflow as tf"
      ],
      "execution_count": null,
      "outputs": []
    },
    {
      "cell_type": "code",
      "metadata": {
        "colab": {
          "base_uri": "https://localhost:8080/",
          "height": 36
        },
        "id": "hfhV4sfxaun-",
        "outputId": "316b363a-07b8-42f9-9905-4344d4beea83"
      },
      "source": [
        "tf.__version__"
      ],
      "execution_count": null,
      "outputs": [
        {
          "output_type": "execute_result",
          "data": {
            "application/vnd.google.colaboratory.intrinsic+json": {
              "type": "string"
            },
            "text/plain": [
              "'2.5.0'"
            ]
          },
          "metadata": {
            "tags": []
          },
          "execution_count": 166
        }
      ]
    },
    {
      "cell_type": "code",
      "metadata": {
        "id": "VFuhDLkyUR4l"
      },
      "source": [
        "from tensorflow.keras.layers import Embedding\n",
        "\n",
        "from tensorflow.keras.preprocessing.sequence import pad_sequences\n",
        "\n",
        "from tensorflow.keras.models import Sequential\n",
        "\n",
        "from tensorflow.keras.preprocessing.text import one_hot\n",
        "\n",
        "from tensorflow.keras.layers import LSTM\n",
        "\n",
        "from tensorflow.keras.layers import Dense\n"
      ],
      "execution_count": null,
      "outputs": []
    },
    {
      "cell_type": "code",
      "metadata": {
        "id": "G_aJadI6bOzm"
      },
      "source": [
        "### vocabulary size\n",
        "voc_size=5000\n"
      ],
      "execution_count": null,
      "outputs": []
    },
    {
      "cell_type": "markdown",
      "metadata": {
        "id": "cyEtJX-MbjL-"
      },
      "source": [
        "**One hot representation**"
      ]
    },
    {
      "cell_type": "code",
      "metadata": {
        "id": "J0xGTRLcbis5"
      },
      "source": [
        "messages=X.copy()"
      ],
      "execution_count": null,
      "outputs": []
    },
    {
      "cell_type": "code",
      "metadata": {
        "colab": {
          "base_uri": "https://localhost:8080/",
          "height": 1000
        },
        "id": "mCmx31N6tB1e",
        "outputId": "ff99e97d-21f0-49f0-aacf-a3f1eeff4abe"
      },
      "source": [
        "messages"
      ],
      "execution_count": null,
      "outputs": [
        {
          "output_type": "execute_result",
          "data": {
            "text/html": [
              "<div>\n",
              "<style scoped>\n",
              "    .dataframe tbody tr th:only-of-type {\n",
              "        vertical-align: middle;\n",
              "    }\n",
              "\n",
              "    .dataframe tbody tr th {\n",
              "        vertical-align: top;\n",
              "    }\n",
              "\n",
              "    .dataframe thead th {\n",
              "        text-align: right;\n",
              "    }\n",
              "</style>\n",
              "<table border=\"1\" class=\"dataframe\">\n",
              "  <thead>\n",
              "    <tr style=\"text-align: right;\">\n",
              "      <th></th>\n",
              "      <th>Label</th>\n",
              "      <th>Time</th>\n",
              "      <th>Data</th>\n",
              "    </tr>\n",
              "  </thead>\n",
              "  <tbody>\n",
              "    <tr>\n",
              "      <th>0</th>\n",
              "      <td>0</td>\n",
              "      <td>10.35pm</td>\n",
              "      <td>she is a good girl</td>\n",
              "    </tr>\n",
              "    <tr>\n",
              "      <th>1</th>\n",
              "      <td>1</td>\n",
              "      <td>11.01am</td>\n",
              "      <td>I Love Music</td>\n",
              "    </tr>\n",
              "    <tr>\n",
              "      <th>2</th>\n",
              "      <td>2</td>\n",
              "      <td>03.12pm</td>\n",
              "      <td>she hates milk</td>\n",
              "    </tr>\n",
              "    <tr>\n",
              "      <th>3</th>\n",
              "      <td>3</td>\n",
              "      <td>06.06pm</td>\n",
              "      <td>Iam a good Listener</td>\n",
              "    </tr>\n",
              "    <tr>\n",
              "      <th>4</th>\n",
              "      <td>4</td>\n",
              "      <td>12.03am</td>\n",
              "      <td>I Love Harry Potter series</td>\n",
              "    </tr>\n",
              "    <tr>\n",
              "      <th>5</th>\n",
              "      <td>5</td>\n",
              "      <td>11.11pm</td>\n",
              "      <td>She is so exhausted with them</td>\n",
              "    </tr>\n",
              "    <tr>\n",
              "      <th>6</th>\n",
              "      <td>6</td>\n",
              "      <td>12.06am</td>\n",
              "      <td>Maharshi movie is excellent</td>\n",
              "    </tr>\n",
              "    <tr>\n",
              "      <th>7</th>\n",
              "      <td>7</td>\n",
              "      <td>07.00am</td>\n",
              "      <td>Cleanliness is next to Godliness</td>\n",
              "    </tr>\n",
              "    <tr>\n",
              "      <th>8</th>\n",
              "      <td>8</td>\n",
              "      <td>09.15pm</td>\n",
              "      <td>Mahatma Gandhi is a great freedom figther</td>\n",
              "    </tr>\n",
              "    <tr>\n",
              "      <th>9</th>\n",
              "      <td>9</td>\n",
              "      <td>12.34am</td>\n",
              "      <td>Latha loves Lofi music</td>\n",
              "    </tr>\n",
              "    <tr>\n",
              "      <th>10</th>\n",
              "      <td>10</td>\n",
              "      <td>06.09am</td>\n",
              "      <td>They were so sad after listening the news</td>\n",
              "    </tr>\n",
              "    <tr>\n",
              "      <th>11</th>\n",
              "      <td>11</td>\n",
              "      <td>05.30am</td>\n",
              "      <td>Rama loves Sita</td>\n",
              "    </tr>\n",
              "    <tr>\n",
              "      <th>12</th>\n",
              "      <td>12</td>\n",
              "      <td>6.15pm</td>\n",
              "      <td>Love Yourself</td>\n",
              "    </tr>\n",
              "    <tr>\n",
              "      <th>13</th>\n",
              "      <td>13</td>\n",
              "      <td>2.00am</td>\n",
              "      <td>Well done is better than well said.</td>\n",
              "    </tr>\n",
              "    <tr>\n",
              "      <th>14</th>\n",
              "      <td>14</td>\n",
              "      <td>3.30pm</td>\n",
              "      <td>Cherish the Good moments in Life</td>\n",
              "    </tr>\n",
              "    <tr>\n",
              "      <th>15</th>\n",
              "      <td>15</td>\n",
              "      <td>12.24pm</td>\n",
              "      <td>Everyone goes thorugh Depression</td>\n",
              "    </tr>\n",
              "    <tr>\n",
              "      <th>16</th>\n",
              "      <td>16</td>\n",
              "      <td>1.15pm</td>\n",
              "      <td>Iam HAPPY at this moment</td>\n",
              "    </tr>\n",
              "    <tr>\n",
              "      <th>17</th>\n",
              "      <td>17</td>\n",
              "      <td>8.16am</td>\n",
              "      <td>Blissful moments</td>\n",
              "    </tr>\n",
              "    <tr>\n",
              "      <th>18</th>\n",
              "      <td>18</td>\n",
              "      <td>9.45pm</td>\n",
              "      <td>Pleasure meeting you.</td>\n",
              "    </tr>\n",
              "    <tr>\n",
              "      <th>19</th>\n",
              "      <td>19</td>\n",
              "      <td>10.45am</td>\n",
              "      <td>I faced lot of problems.</td>\n",
              "    </tr>\n",
              "    <tr>\n",
              "      <th>20</th>\n",
              "      <td>20</td>\n",
              "      <td>2.50pm</td>\n",
              "      <td>my sister is a good singer</td>\n",
              "    </tr>\n",
              "    <tr>\n",
              "      <th>21</th>\n",
              "      <td>21</td>\n",
              "      <td>4.55pm</td>\n",
              "      <td>AR Rahman is one of the finest Artist.</td>\n",
              "    </tr>\n",
              "    <tr>\n",
              "      <th>22</th>\n",
              "      <td>22</td>\n",
              "      <td>5.30am</td>\n",
              "      <td>Happy Birthday to you</td>\n",
              "    </tr>\n",
              "    <tr>\n",
              "      <th>23</th>\n",
              "      <td>23</td>\n",
              "      <td>7.45am</td>\n",
              "      <td>THIS is a bad day in my life.</td>\n",
              "    </tr>\n",
              "    <tr>\n",
              "      <th>24</th>\n",
              "      <td>24</td>\n",
              "      <td>8.55pm</td>\n",
              "      <td>I hate my life</td>\n",
              "    </tr>\n",
              "    <tr>\n",
              "      <th>25</th>\n",
              "      <td>25</td>\n",
              "      <td>9.30am</td>\n",
              "      <td>she looks beautiful</td>\n",
              "    </tr>\n",
              "    <tr>\n",
              "      <th>26</th>\n",
              "      <td>26</td>\n",
              "      <td>10.45pm</td>\n",
              "      <td>swarna is the prettiest girl in th class</td>\n",
              "    </tr>\n",
              "    <tr>\n",
              "      <th>27</th>\n",
              "      <td>27</td>\n",
              "      <td>11.30am</td>\n",
              "      <td>NO ONE LOVES ME</td>\n",
              "    </tr>\n",
              "    <tr>\n",
              "      <th>28</th>\n",
              "      <td>28</td>\n",
              "      <td>3.45pm</td>\n",
              "      <td>Iam a good dancer</td>\n",
              "    </tr>\n",
              "    <tr>\n",
              "      <th>29</th>\n",
              "      <td>29</td>\n",
              "      <td>11.13pm</td>\n",
              "      <td>she is good at English</td>\n",
              "    </tr>\n",
              "    <tr>\n",
              "      <th>30</th>\n",
              "      <td>30</td>\n",
              "      <td>12.37am</td>\n",
              "      <td>he loves to play cricket</td>\n",
              "    </tr>\n",
              "  </tbody>\n",
              "</table>\n",
              "</div>"
            ],
            "text/plain": [
              "    Label     Time                                       Data\n",
              "0       0  10.35pm                         she is a good girl\n",
              "1       1  11.01am                               I Love Music\n",
              "2       2  03.12pm                             she hates milk\n",
              "3       3  06.06pm                        Iam a good Listener\n",
              "4       4  12.03am                 I Love Harry Potter series\n",
              "5       5  11.11pm              She is so exhausted with them\n",
              "6       6  12.06am                Maharshi movie is excellent\n",
              "7       7  07.00am           Cleanliness is next to Godliness\n",
              "8       8  09.15pm  Mahatma Gandhi is a great freedom figther\n",
              "9       9  12.34am                     Latha loves Lofi music\n",
              "10     10  06.09am  They were so sad after listening the news\n",
              "11     11  05.30am                            Rama loves Sita\n",
              "12     12   6.15pm                              Love Yourself\n",
              "13     13   2.00am        Well done is better than well said.\n",
              "14     14   3.30pm           Cherish the Good moments in Life\n",
              "15     15  12.24pm           Everyone goes thorugh Depression\n",
              "16     16   1.15pm                   Iam HAPPY at this moment\n",
              "17     17   8.16am                           Blissful moments\n",
              "18     18   9.45pm                      Pleasure meeting you.\n",
              "19     19  10.45am                   I faced lot of problems.\n",
              "20     20   2.50pm                 my sister is a good singer\n",
              "21     21   4.55pm     AR Rahman is one of the finest Artist.\n",
              "22     22   5.30am                      Happy Birthday to you\n",
              "23     23   7.45am              THIS is a bad day in my life.\n",
              "24     24   8.55pm                             I hate my life\n",
              "25     25   9.30am                        she looks beautiful\n",
              "26     26  10.45pm   swarna is the prettiest girl in th class\n",
              "27     27  11.30am                            NO ONE LOVES ME\n",
              "28     28   3.45pm                          Iam a good dancer\n",
              "29     29  11.13pm                     she is good at English\n",
              "30     30  12.37am                   he loves to play cricket"
            ]
          },
          "metadata": {
            "tags": []
          },
          "execution_count": 170
        }
      ]
    },
    {
      "cell_type": "code",
      "metadata": {
        "colab": {
          "base_uri": "https://localhost:8080/"
        },
        "id": "avkrMy5fsxMA",
        "outputId": "450e6994-ccab-4b6a-f8d3-258d9d5b037c"
      },
      "source": [
        "messages.get('Data')"
      ],
      "execution_count": null,
      "outputs": [
        {
          "output_type": "execute_result",
          "data": {
            "text/plain": [
              "0                            she is a good girl\n",
              "1                                  I Love Music\n",
              "2                                she hates milk\n",
              "3                           Iam a good Listener\n",
              "4                    I Love Harry Potter series\n",
              "5                 She is so exhausted with them\n",
              "6                   Maharshi movie is excellent\n",
              "7              Cleanliness is next to Godliness\n",
              "8     Mahatma Gandhi is a great freedom figther\n",
              "9                        Latha loves Lofi music\n",
              "10    They were so sad after listening the news\n",
              "11                              Rama loves Sita\n",
              "12                                Love Yourself\n",
              "13          Well done is better than well said.\n",
              "14             Cherish the Good moments in Life\n",
              "15             Everyone goes thorugh Depression\n",
              "16                     Iam HAPPY at this moment\n",
              "17                             Blissful moments\n",
              "18                        Pleasure meeting you.\n",
              "19                     I faced lot of problems.\n",
              "20                   my sister is a good singer\n",
              "21       AR Rahman is one of the finest Artist.\n",
              "22                        Happy Birthday to you\n",
              "23                THIS is a bad day in my life.\n",
              "24                               I hate my life\n",
              "25                          she looks beautiful\n",
              "26     swarna is the prettiest girl in th class\n",
              "27                              NO ONE LOVES ME\n",
              "28                            Iam a good dancer\n",
              "29                       she is good at English\n",
              "30                     he loves to play cricket\n",
              "Name: Data, dtype: object"
            ]
          },
          "metadata": {
            "tags": []
          },
          "execution_count": 171
        }
      ]
    },
    {
      "cell_type": "code",
      "metadata": {
        "colab": {
          "base_uri": "https://localhost:8080/"
        },
        "id": "1h-yPkwNvtYl",
        "outputId": "4375159f-a254-4461-ad84-e5cbf58fa4e5"
      },
      "source": [
        "messages.loc[3]"
      ],
      "execution_count": null,
      "outputs": [
        {
          "output_type": "execute_result",
          "data": {
            "text/plain": [
              "Label                      3\n",
              "Time                 06.06pm\n",
              "Data     Iam a good Listener\n",
              "Name: 3, dtype: object"
            ]
          },
          "metadata": {
            "tags": []
          },
          "execution_count": 172
        }
      ]
    },
    {
      "cell_type": "code",
      "metadata": {
        "colab": {
          "base_uri": "https://localhost:8080/",
          "height": 36
        },
        "id": "aIoDUUCeweQG",
        "outputId": "dc51f0a8-2daf-41ef-dfdf-20841558adef"
      },
      "source": [
        "messages['Data'][1]"
      ],
      "execution_count": null,
      "outputs": [
        {
          "output_type": "execute_result",
          "data": {
            "application/vnd.google.colaboratory.intrinsic+json": {
              "type": "string"
            },
            "text/plain": [
              "'I Love Music'"
            ]
          },
          "metadata": {
            "tags": []
          },
          "execution_count": 173
        }
      ]
    },
    {
      "cell_type": "code",
      "metadata": {
        "id": "x0aP7dzJbydS"
      },
      "source": [
        "##messages.reset_index(inplace=True)"
      ],
      "execution_count": null,
      "outputs": []
    },
    {
      "cell_type": "code",
      "metadata": {
        "colab": {
          "base_uri": "https://localhost:8080/",
          "height": 206
        },
        "id": "z8aFUURImjV9",
        "outputId": "711f101f-1e40-4122-8ce0-bb2487b3f5c3"
      },
      "source": [
        "messages.head()"
      ],
      "execution_count": null,
      "outputs": [
        {
          "output_type": "execute_result",
          "data": {
            "text/html": [
              "<div>\n",
              "<style scoped>\n",
              "    .dataframe tbody tr th:only-of-type {\n",
              "        vertical-align: middle;\n",
              "    }\n",
              "\n",
              "    .dataframe tbody tr th {\n",
              "        vertical-align: top;\n",
              "    }\n",
              "\n",
              "    .dataframe thead th {\n",
              "        text-align: right;\n",
              "    }\n",
              "</style>\n",
              "<table border=\"1\" class=\"dataframe\">\n",
              "  <thead>\n",
              "    <tr style=\"text-align: right;\">\n",
              "      <th></th>\n",
              "      <th>Label</th>\n",
              "      <th>Time</th>\n",
              "      <th>Data</th>\n",
              "    </tr>\n",
              "  </thead>\n",
              "  <tbody>\n",
              "    <tr>\n",
              "      <th>0</th>\n",
              "      <td>0</td>\n",
              "      <td>10.35pm</td>\n",
              "      <td>she is a good girl</td>\n",
              "    </tr>\n",
              "    <tr>\n",
              "      <th>1</th>\n",
              "      <td>1</td>\n",
              "      <td>11.01am</td>\n",
              "      <td>I Love Music</td>\n",
              "    </tr>\n",
              "    <tr>\n",
              "      <th>2</th>\n",
              "      <td>2</td>\n",
              "      <td>03.12pm</td>\n",
              "      <td>she hates milk</td>\n",
              "    </tr>\n",
              "    <tr>\n",
              "      <th>3</th>\n",
              "      <td>3</td>\n",
              "      <td>06.06pm</td>\n",
              "      <td>Iam a good Listener</td>\n",
              "    </tr>\n",
              "    <tr>\n",
              "      <th>4</th>\n",
              "      <td>4</td>\n",
              "      <td>12.03am</td>\n",
              "      <td>I Love Harry Potter series</td>\n",
              "    </tr>\n",
              "  </tbody>\n",
              "</table>\n",
              "</div>"
            ],
            "text/plain": [
              "   Label     Time                        Data\n",
              "0      0  10.35pm          she is a good girl\n",
              "1      1  11.01am                I Love Music\n",
              "2      2  03.12pm              she hates milk\n",
              "3      3  06.06pm         Iam a good Listener\n",
              "4      4  12.03am  I Love Harry Potter series"
            ]
          },
          "metadata": {
            "tags": []
          },
          "execution_count": 175
        }
      ]
    },
    {
      "cell_type": "code",
      "metadata": {
        "colab": {
          "base_uri": "https://localhost:8080/"
        },
        "id": "-EleaN9EqFp-",
        "outputId": "301ca5a0-666f-4680-f30c-60536b2ff8b0"
      },
      "source": [
        "messages.iloc[:,0]"
      ],
      "execution_count": null,
      "outputs": [
        {
          "output_type": "execute_result",
          "data": {
            "text/plain": [
              "0      0\n",
              "1      1\n",
              "2      2\n",
              "3      3\n",
              "4      4\n",
              "5      5\n",
              "6      6\n",
              "7      7\n",
              "8      8\n",
              "9      9\n",
              "10    10\n",
              "11    11\n",
              "12    12\n",
              "13    13\n",
              "14    14\n",
              "15    15\n",
              "16    16\n",
              "17    17\n",
              "18    18\n",
              "19    19\n",
              "20    20\n",
              "21    21\n",
              "22    22\n",
              "23    23\n",
              "24    24\n",
              "25    25\n",
              "26    26\n",
              "27    27\n",
              "28    28\n",
              "29    29\n",
              "30    30\n",
              "Name: Label, dtype: int64"
            ]
          },
          "metadata": {
            "tags": []
          },
          "execution_count": 176
        }
      ]
    },
    {
      "cell_type": "code",
      "metadata": {
        "colab": {
          "base_uri": "https://localhost:8080/"
        },
        "id": "S_vJDhocn4Tu",
        "outputId": "d017e5e2-468f-4f2b-f1e5-908e244a1ffe"
      },
      "source": [
        "messages.iloc[:,1]"
      ],
      "execution_count": null,
      "outputs": [
        {
          "output_type": "execute_result",
          "data": {
            "text/plain": [
              "0     10.35pm\n",
              "1     11.01am\n",
              "2     03.12pm\n",
              "3     06.06pm\n",
              "4     12.03am\n",
              "5     11.11pm\n",
              "6     12.06am\n",
              "7     07.00am\n",
              "8     09.15pm\n",
              "9     12.34am\n",
              "10    06.09am\n",
              "11    05.30am\n",
              "12     6.15pm\n",
              "13     2.00am\n",
              "14     3.30pm\n",
              "15    12.24pm\n",
              "16     1.15pm\n",
              "17     8.16am\n",
              "18     9.45pm\n",
              "19    10.45am\n",
              "20     2.50pm\n",
              "21     4.55pm\n",
              "22     5.30am\n",
              "23     7.45am\n",
              "24     8.55pm\n",
              "25     9.30am\n",
              "26    10.45pm\n",
              "27    11.30am\n",
              "28     3.45pm\n",
              "29    11.13pm\n",
              "30    12.37am\n",
              "Name: Time, dtype: object"
            ]
          },
          "metadata": {
            "tags": []
          },
          "execution_count": 177
        }
      ]
    },
    {
      "cell_type": "code",
      "metadata": {
        "id": "yt2ZwOqCb4Ez"
      },
      "source": [
        "import nltk\n",
        "## re -- regular expression\n",
        "import re\n",
        "from nltk.corpus import stopwords"
      ],
      "execution_count": null,
      "outputs": []
    },
    {
      "cell_type": "code",
      "metadata": {
        "colab": {
          "base_uri": "https://localhost:8080/"
        },
        "id": "3oeKJiDscOSg",
        "outputId": "2fd39880-7a62-414e-d3fb-f1d53f04262a"
      },
      "source": [
        "nltk.download('stopwords')"
      ],
      "execution_count": null,
      "outputs": [
        {
          "output_type": "stream",
          "text": [
            "[nltk_data] Downloading package stopwords to /root/nltk_data...\n",
            "[nltk_data]   Package stopwords is already up-to-date!\n"
          ],
          "name": "stdout"
        },
        {
          "output_type": "execute_result",
          "data": {
            "text/plain": [
              "True"
            ]
          },
          "metadata": {
            "tags": []
          },
          "execution_count": 180
        }
      ]
    },
    {
      "cell_type": "code",
      "metadata": {
        "id": "LNbWdErDecba"
      },
      "source": [
        "stop_words = {\"i\", \"me\", \"my\", \"myself\", \"we\", \"our\", \"ours\", \"ourselves\", \"you\", \"your\", \"yours\", \"yourself\",\n",
        "              \"yourselves\", \"he\", \"him\", \"his\", \"himself\", \"she\", \"her\", \"hers\", \"herself\", \"it\", \"its\", \"itself\",\n",
        "              \"they\", \"them\", \"their\", \"theirs\", \"themselves\", \"what\", \"which\", \"who\", \"whom\", \"this\", \"that\", \"these\",\n",
        "              \"those\", \"am\", \"is\", \"are\", \"was\", \"were\", \"be\", \"been\", \"being\", \"have\", \"has\", \"had\", \"having\", \"do\",\n",
        "              \"does\", \"did\", \"doing\", \"a\", \"an\", \"the\", \"and\", \"but\", \"if\", \"or\", \"because\", \"as\", \"until\", \"while\",\n",
        "              \"of\", \"at\", \"by\", \"for\", \"with\", \"about\", \"against\", \"between\", \"into\", \"through\", \"during\", \"before\",\n",
        "              \"after\", \"above\", \"below\", \"to\", \"from\", \"up\", \"down\", \"in\", \"out\", \"on\", \"off\", \"over\", \"under\", \"again\",\n",
        "              \"further\", \"then\", \"once\", \"here\", \"there\", \"when\", \"where\", \"why\", \"how\", \"all\", \"any\", \"both\", \"each\",\n",
        "              \"few\", \"more\", \"most\", \"other\", \"some\", \"such\", \"no\", \"nor\", \"not\", \"only\", \"own\", \"same\", \"so\", \"than\",\n",
        "              \"too\", \"very\", \"s\", \"t\", \"can\", \"will\", \"just\", \"don\", \"should\", \"now\"'a','of','only','for','an','they','to','let','me', 'aboard','about','above','across','after','against','along',\n",
        "'amid','among','anti','around','as','at','before','behind','below','beneath','beside','besides','between','beyond','but','by',\n",
        "'concerning','considering','despite','down','during','except','excepting','excluding','following','for','from','in','inside',\n",
        "'into','like','minus','near','of','off','on','onto','opposite','outside','over','past','per','plus','regarding','round','save',\n",
        "'since','than','through','to','toward','towards','under','underneath','unlike','until','up','upon','versus','via','with','within','without','the'}"
      ],
      "execution_count": null,
      "outputs": []
    },
    {
      "cell_type": "code",
      "metadata": {
        "colab": {
          "base_uri": "https://localhost:8080/"
        },
        "id": "_OjYWX_TcX8T",
        "outputId": "dccc28a0-74b6-4ef3-e447-716cbfa35403"
      },
      "source": [
        "###Data preprocessing\n",
        "from nltk.stem.porter import PorterStemmer\n",
        "ps=PorterStemmer()\n",
        "corpus=[]\n",
        "for i in range(0,len(messages)):\n",
        "  print(i)\n",
        "  review= re.sub('[^a-zA-Z]',' ',messages[\"Data\"][i])\n",
        "  review= review.lower()\n",
        "  review= review.split()\n",
        "\n",
        "  review= [ps.stem(word) for word in review if not word in stopwords.words('english')]\n",
        "  review=' '.join(review)\n",
        "  corpus.append(review)"
      ],
      "execution_count": null,
      "outputs": [
        {
          "output_type": "stream",
          "text": [
            "0\n",
            "1\n",
            "2\n",
            "3\n",
            "4\n",
            "5\n",
            "6\n",
            "7\n",
            "8\n",
            "9\n",
            "10\n",
            "11\n",
            "12\n",
            "13\n",
            "14\n",
            "15\n",
            "16\n",
            "17\n",
            "18\n",
            "19\n",
            "20\n",
            "21\n",
            "22\n",
            "23\n",
            "24\n",
            "25\n",
            "26\n",
            "27\n",
            "28\n",
            "29\n",
            "30\n"
          ],
          "name": "stdout"
        }
      ]
    },
    {
      "cell_type": "code",
      "metadata": {
        "id": "3MKlDjhapDny",
        "colab": {
          "base_uri": "https://localhost:8080/"
        },
        "outputId": "b904801a-74c7-4d57-c5f3-f527960a75f0"
      },
      "source": [
        "corpus"
      ],
      "execution_count": null,
      "outputs": [
        {
          "output_type": "execute_result",
          "data": {
            "text/plain": [
              "['good girl',\n",
              " 'love music',\n",
              " 'hate milk',\n",
              " 'iam good listen',\n",
              " 'love harri potter seri',\n",
              " 'exhaust',\n",
              " 'maharshi movi excel',\n",
              " 'cleanli next godli',\n",
              " 'mahatma gandhi great freedom figther',\n",
              " 'latha love lofi music',\n",
              " 'sad listen news',\n",
              " 'rama love sita',\n",
              " 'love',\n",
              " 'well done better well said',\n",
              " 'cherish good moment life',\n",
              " 'everyon goe thorugh depress',\n",
              " 'iam happi moment',\n",
              " 'bliss moment',\n",
              " 'pleasur meet',\n",
              " 'face lot problem',\n",
              " 'sister good singer',\n",
              " 'ar rahman one finest artist',\n",
              " 'happi birthday',\n",
              " 'bad day life',\n",
              " 'hate life',\n",
              " 'look beauti',\n",
              " 'swarna prettiest girl th class',\n",
              " 'one love',\n",
              " 'iam good dancer',\n",
              " 'good english',\n",
              " 'love play cricket']"
            ]
          },
          "metadata": {
            "tags": []
          },
          "execution_count": 183
        }
      ]
    },
    {
      "cell_type": "code",
      "metadata": {
        "colab": {
          "base_uri": "https://localhost:8080/"
        },
        "id": "hSWoIVXw5uMy",
        "outputId": "e1dba3ff-d6a8-4c57-fbda-5c42b1b84d76"
      },
      "source": [
        "onehot_repr=[one_hot(words,voc_size)for words in corpus] \n",
        "onehot_repr"
      ],
      "execution_count": null,
      "outputs": [
        {
          "output_type": "execute_result",
          "data": {
            "text/plain": [
              "[[1530, 3020],\n",
              " [4582, 1801],\n",
              " [2916, 1424],\n",
              " [1340, 1530, 3241],\n",
              " [4582, 2165, 921, 851],\n",
              " [2635],\n",
              " [511, 4115, 3804],\n",
              " [431, 1390, 4725],\n",
              " [2746, 2250, 1249, 3589, 4493],\n",
              " [959, 4582, 1129, 1801],\n",
              " [2895, 3241, 1376],\n",
              " [4183, 4582, 4610],\n",
              " [4582],\n",
              " [2658, 149, 2963, 2658, 1962],\n",
              " [1432, 1530, 714, 2799],\n",
              " [2375, 4969, 1521, 4749],\n",
              " [1340, 2023, 714],\n",
              " [2572, 714],\n",
              " [1617, 2025],\n",
              " [1334, 2389, 1642],\n",
              " [625, 1530, 3728],\n",
              " [4307, 1267, 2871, 3813, 2261],\n",
              " [2023, 466],\n",
              " [2491, 2265, 2799],\n",
              " [2916, 2799],\n",
              " [1870, 2167],\n",
              " [532, 2112, 3020, 4994, 2849],\n",
              " [2871, 4582],\n",
              " [1340, 1530, 2007],\n",
              " [1530, 2769],\n",
              " [4582, 2396, 4155]]"
            ]
          },
          "metadata": {
            "tags": []
          },
          "execution_count": 184
        }
      ]
    },
    {
      "cell_type": "markdown",
      "metadata": {
        "id": "iZ2YNlKt54L6"
      },
      "source": [
        "**Emmbedding Representation**"
      ]
    },
    {
      "cell_type": "code",
      "metadata": {
        "colab": {
          "base_uri": "https://localhost:8080/"
        },
        "id": "4k3996Rd5zBi",
        "outputId": "4a6f694e-85da-47ae-98a0-e6efbc03b150"
      },
      "source": [
        "sent_length=10\n",
        "embedded_docs=pad_sequences(onehot_repr,padding='pre',maxlen=sent_length)\n",
        "print(embedded_docs)"
      ],
      "execution_count": null,
      "outputs": [
        {
          "output_type": "stream",
          "text": [
            "[[   0    0    0    0    0    0    0    0 1530 3020]\n",
            " [   0    0    0    0    0    0    0    0 4582 1801]\n",
            " [   0    0    0    0    0    0    0    0 2916 1424]\n",
            " [   0    0    0    0    0    0    0 1340 1530 3241]\n",
            " [   0    0    0    0    0    0 4582 2165  921  851]\n",
            " [   0    0    0    0    0    0    0    0    0 2635]\n",
            " [   0    0    0    0    0    0    0  511 4115 3804]\n",
            " [   0    0    0    0    0    0    0  431 1390 4725]\n",
            " [   0    0    0    0    0 2746 2250 1249 3589 4493]\n",
            " [   0    0    0    0    0    0  959 4582 1129 1801]\n",
            " [   0    0    0    0    0    0    0 2895 3241 1376]\n",
            " [   0    0    0    0    0    0    0 4183 4582 4610]\n",
            " [   0    0    0    0    0    0    0    0    0 4582]\n",
            " [   0    0    0    0    0 2658  149 2963 2658 1962]\n",
            " [   0    0    0    0    0    0 1432 1530  714 2799]\n",
            " [   0    0    0    0    0    0 2375 4969 1521 4749]\n",
            " [   0    0    0    0    0    0    0 1340 2023  714]\n",
            " [   0    0    0    0    0    0    0    0 2572  714]\n",
            " [   0    0    0    0    0    0    0    0 1617 2025]\n",
            " [   0    0    0    0    0    0    0 1334 2389 1642]\n",
            " [   0    0    0    0    0    0    0  625 1530 3728]\n",
            " [   0    0    0    0    0 4307 1267 2871 3813 2261]\n",
            " [   0    0    0    0    0    0    0    0 2023  466]\n",
            " [   0    0    0    0    0    0    0 2491 2265 2799]\n",
            " [   0    0    0    0    0    0    0    0 2916 2799]\n",
            " [   0    0    0    0    0    0    0    0 1870 2167]\n",
            " [   0    0    0    0    0  532 2112 3020 4994 2849]\n",
            " [   0    0    0    0    0    0    0    0 2871 4582]\n",
            " [   0    0    0    0    0    0    0 1340 1530 2007]\n",
            " [   0    0    0    0    0    0    0    0 1530 2769]\n",
            " [   0    0    0    0    0    0    0 4582 2396 4155]]\n"
          ],
          "name": "stdout"
        }
      ]
    },
    {
      "cell_type": "code",
      "metadata": {
        "colab": {
          "base_uri": "https://localhost:8080/"
        },
        "id": "GYtJCaJp6IQA",
        "outputId": "6d78b27b-137e-48f7-fbe1-c6d4bfdbc21d"
      },
      "source": [
        "embedded_docs[0]"
      ],
      "execution_count": null,
      "outputs": [
        {
          "output_type": "execute_result",
          "data": {
            "text/plain": [
              "array([   0,    0,    0,    0,    0,    0,    0,    0, 1530, 3020],\n",
              "      dtype=int32)"
            ]
          },
          "metadata": {
            "tags": []
          },
          "execution_count": 186
        }
      ]
    },
    {
      "cell_type": "code",
      "metadata": {
        "colab": {
          "base_uri": "https://localhost:8080/"
        },
        "id": "tAoX5JSl6LTx",
        "outputId": "c72a4166-72f4-4448-c51e-2ae9f5ad4a8e"
      },
      "source": [
        "## Creating model\n",
        "embedding_vector_features=40\n",
        "model=Sequential()\n",
        "model.add(Embedding(voc_size,embedding_vector_features,input_length=sent_length))\n",
        "model.add(LSTM(100))\n",
        "model.add(Dense(1,activation='sigmoid'))\n",
        "model.compile(loss='binary_crossentropy',optimizer='adam',metrics=['accuracy'])\n",
        "print(model.summary())"
      ],
      "execution_count": null,
      "outputs": [
        {
          "output_type": "stream",
          "text": [
            "Model: \"sequential_3\"\n",
            "_________________________________________________________________\n",
            "Layer (type)                 Output Shape              Param #   \n",
            "=================================================================\n",
            "embedding_3 (Embedding)      (None, 10, 40)            200000    \n",
            "_________________________________________________________________\n",
            "lstm_3 (LSTM)                (None, 100)               56400     \n",
            "_________________________________________________________________\n",
            "dense_3 (Dense)              (None, 1)                 101       \n",
            "=================================================================\n",
            "Total params: 256,501\n",
            "Trainable params: 256,501\n",
            "Non-trainable params: 0\n",
            "_________________________________________________________________\n",
            "None\n"
          ],
          "name": "stdout"
        }
      ]
    },
    {
      "cell_type": "code",
      "metadata": {
        "colab": {
          "base_uri": "https://localhost:8080/"
        },
        "id": "CrrVSG7u6QCz",
        "outputId": "9813b40b-d90d-4939-eda6-9bd83aa5e49b"
      },
      "source": [
        "len(embedded_docs),y.shape"
      ],
      "execution_count": null,
      "outputs": [
        {
          "output_type": "execute_result",
          "data": {
            "text/plain": [
              "(31, (31,))"
            ]
          },
          "metadata": {
            "tags": []
          },
          "execution_count": 188
        }
      ]
    },
    {
      "cell_type": "code",
      "metadata": {
        "id": "7lhWM-EFTDVV"
      },
      "source": [
        "X_final=np.array(embedded_docs)\n",
        "y_final=np.array(y)"
      ],
      "execution_count": null,
      "outputs": []
    },
    {
      "cell_type": "code",
      "metadata": {
        "id": "EJKx1Gl3TJKp",
        "colab": {
          "base_uri": "https://localhost:8080/"
        },
        "outputId": "24255c08-67ad-4780-977a-567cf002160a"
      },
      "source": [
        "X_final.shape,y_final.shape"
      ],
      "execution_count": null,
      "outputs": [
        {
          "output_type": "execute_result",
          "data": {
            "text/plain": [
              "((31, 10), (31,))"
            ]
          },
          "metadata": {
            "tags": []
          },
          "execution_count": 190
        }
      ]
    },
    {
      "cell_type": "code",
      "metadata": {
        "id": "OjmwiKVG72OU"
      },
      "source": [
        "from sklearn.model_selection import train_test_split\n",
        "X_train, X_test, y_train, y_test = train_test_split(X_final, y_final, test_size=0.33, random_state=42)"
      ],
      "execution_count": null,
      "outputs": []
    },
    {
      "cell_type": "markdown",
      "metadata": {
        "id": "JkOtozEr7-st"
      },
      "source": [
        "**Model Training**"
      ]
    },
    {
      "cell_type": "code",
      "metadata": {
        "colab": {
          "base_uri": "https://localhost:8080/"
        },
        "id": "gJZZVltf77fB",
        "outputId": "95422a22-face-4e87-f51a-cc6d677a5b7e"
      },
      "source": [
        "### Finally Training\n",
        "model.fit(X_train,y_train,validation_data=(X_test,y_test),epochs=10,batch_size=64)"
      ],
      "execution_count": null,
      "outputs": [
        {
          "output_type": "stream",
          "text": [
            "Epoch 1/10\n",
            "1/1 [==============================] - 0s 66ms/step - loss: 0.4841 - accuracy: 0.8000 - val_loss: 0.7654 - val_accuracy: 0.6364\n",
            "Epoch 2/10\n",
            "1/1 [==============================] - 0s 31ms/step - loss: 0.4730 - accuracy: 0.8000 - val_loss: 0.7369 - val_accuracy: 0.6364\n",
            "Epoch 3/10\n",
            "1/1 [==============================] - 0s 37ms/step - loss: 0.4656 - accuracy: 0.8000 - val_loss: 0.7153 - val_accuracy: 0.6364\n",
            "Epoch 4/10\n",
            "1/1 [==============================] - 0s 37ms/step - loss: 0.4615 - accuracy: 0.8000 - val_loss: 0.7003 - val_accuracy: 0.6364\n",
            "Epoch 5/10\n",
            "1/1 [==============================] - 0s 42ms/step - loss: 0.4593 - accuracy: 0.8000 - val_loss: 0.6904 - val_accuracy: 0.6364\n",
            "Epoch 6/10\n",
            "1/1 [==============================] - 0s 35ms/step - loss: 0.4575 - accuracy: 0.8000 - val_loss: 0.6844 - val_accuracy: 0.6364\n",
            "Epoch 7/10\n",
            "1/1 [==============================] - 0s 40ms/step - loss: 0.4553 - accuracy: 0.8000 - val_loss: 0.6812 - val_accuracy: 0.6364\n",
            "Epoch 8/10\n",
            "1/1 [==============================] - 0s 39ms/step - loss: 0.4521 - accuracy: 0.8000 - val_loss: 0.6803 - val_accuracy: 0.6364\n",
            "Epoch 9/10\n",
            "1/1 [==============================] - 0s 38ms/step - loss: 0.4476 - accuracy: 0.8000 - val_loss: 0.6813 - val_accuracy: 0.6364\n",
            "Epoch 10/10\n",
            "1/1 [==============================] - 0s 43ms/step - loss: 0.4419 - accuracy: 0.8000 - val_loss: 0.6842 - val_accuracy: 0.6364\n"
          ],
          "name": "stdout"
        },
        {
          "output_type": "execute_result",
          "data": {
            "text/plain": [
              "<tensorflow.python.keras.callbacks.History at 0x7fbb090c36d0>"
            ]
          },
          "metadata": {
            "tags": []
          },
          "execution_count": 193
        }
      ]
    },
    {
      "cell_type": "markdown",
      "metadata": {
        "id": "Vrdr15jb8L-a"
      },
      "source": [
        "**Adding Dropout**"
      ]
    },
    {
      "cell_type": "code",
      "metadata": {
        "id": "MJWtJ3F68QTf"
      },
      "source": [
        "from tensorflow.keras.layers import Dropout\n",
        "\n",
        "## Creating model\n",
        "embedding_vector_features=40\n",
        "\n",
        "model=Sequential()\n",
        "\n",
        "model.add(Embedding(voc_size,embedding_vector_features,input_length=sent_length))\n",
        "\n",
        "model.add(Dropout(0.3))\n",
        "\n",
        "model.add(LSTM(100))\n",
        "\n",
        "model.add(Dropout(0.3))\n",
        "\n",
        "model.add(Dense(1,activation='sigmoid'))\n",
        "\n",
        "model.compile(loss='binary_crossentropy',optimizer='adam',metrics=['accuracy'])"
      ],
      "execution_count": null,
      "outputs": []
    },
    {
      "cell_type": "markdown",
      "metadata": {
        "id": "A-YduRLX8VrA"
      },
      "source": [
        "**performance metrics and accuracy**"
      ]
    },
    {
      "cell_type": "code",
      "metadata": {
        "colab": {
          "base_uri": "https://localhost:8080/"
        },
        "id": "yfcJslOG8VOV",
        "outputId": "e5d270bf-03fd-4bb5-8fd1-66d8ce9e676d"
      },
      "source": [
        "y_pred=model.predict_classes(X_test)"
      ],
      "execution_count": null,
      "outputs": [
        {
          "output_type": "stream",
          "text": [
            "/usr/local/lib/python3.7/dist-packages/tensorflow/python/keras/engine/sequential.py:455: UserWarning: `model.predict_classes()` is deprecated and will be removed after 2021-01-01. Please use instead:* `np.argmax(model.predict(x), axis=-1)`,   if your model does multi-class classification   (e.g. if it uses a `softmax` last-layer activation).* `(model.predict(x) > 0.5).astype(\"int32\")`,   if your model does binary classification   (e.g. if it uses a `sigmoid` last-layer activation).\n",
            "  warnings.warn('`model.predict_classes()` is deprecated and '\n"
          ],
          "name": "stderr"
        }
      ]
    },
    {
      "cell_type": "code",
      "metadata": {
        "id": "y6rudZ-R8gT6"
      },
      "source": [
        "from sklearn.metrics import confusion_matrix"
      ],
      "execution_count": null,
      "outputs": []
    },
    {
      "cell_type": "code",
      "metadata": {
        "colab": {
          "base_uri": "https://localhost:8080/"
        },
        "id": "-zDo6H-C8ojz",
        "outputId": "fac77ef9-e076-4aae-f59f-41c4a3dfc5f3"
      },
      "source": [
        "confusion_matrix(y_test,y_pred)"
      ],
      "execution_count": null,
      "outputs": [
        {
          "output_type": "execute_result",
          "data": {
            "text/plain": [
              "array([[2, 2],\n",
              "       [4, 3]])"
            ]
          },
          "metadata": {
            "tags": []
          },
          "execution_count": 197
        }
      ]
    },
    {
      "cell_type": "code",
      "metadata": {
        "colab": {
          "base_uri": "https://localhost:8080/"
        },
        "id": "qZy-UgqV8sY0",
        "outputId": "60ca7f2f-22bf-45a0-b199-7cb7fa18812d"
      },
      "source": [
        "from sklearn.metrics import accuracy_score\n",
        "accuracy_score(y_test,y_pred)"
      ],
      "execution_count": null,
      "outputs": [
        {
          "output_type": "execute_result",
          "data": {
            "text/plain": [
              "0.45454545454545453"
            ]
          },
          "metadata": {
            "tags": []
          },
          "execution_count": 198
        }
      ]
    },
    {
      "cell_type": "code",
      "metadata": {
        "colab": {
          "base_uri": "https://localhost:8080/"
        },
        "id": "WRQe51Ae_QC3",
        "outputId": "ead70e12-b96a-4c7f-8ddb-23de835cb595"
      },
      "source": [
        "from sklearn.metrics import classification_report\n",
        "print(classification_report(y_test,y_pred))"
      ],
      "execution_count": null,
      "outputs": [
        {
          "output_type": "stream",
          "text": [
            "              precision    recall  f1-score   support\n",
            "\n",
            "           0       0.33      0.50      0.40         4\n",
            "           1       0.60      0.43      0.50         7\n",
            "\n",
            "    accuracy                           0.45        11\n",
            "   macro avg       0.47      0.46      0.45        11\n",
            "weighted avg       0.50      0.45      0.46        11\n",
            "\n"
          ],
          "name": "stdout"
        }
      ]
    },
    {
      "cell_type": "code",
      "metadata": {
        "id": "jU65hFZ4AEOc"
      },
      "source": [
        ""
      ],
      "execution_count": null,
      "outputs": []
    }
  ]
}