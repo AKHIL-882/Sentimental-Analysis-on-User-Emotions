{
  "nbformat": 4,
  "nbformat_minor": 0,
  "metadata": {
    "colab": {
      "name": "mini_project.ipynb",
      "provenance": [],
      "collapsed_sections": []
    },
    "kernelspec": {
      "name": "python3",
      "display_name": "Python 3"
    },
    "language_info": {
      "name": "python"
    },
    "accelerator": "GPU"
  },
  "cells": [
    {
      "cell_type": "code",
      "metadata": {
        "id": "qn0rs3P9FpRE",
        "colab": {
          "base_uri": "https://localhost:8080/"
        },
        "outputId": "971bd600-b923-4079-b4cb-b535fe724b5d"
      },
      "source": [
        "!pip install keras \n",
        "!sudo pip install h5py"
      ],
      "execution_count": null,
      "outputs": [
        {
          "output_type": "stream",
          "text": [
            "Requirement already satisfied: keras in /usr/local/lib/python3.7/dist-packages (2.4.3)\n",
            "Requirement already satisfied: pyyaml in /usr/local/lib/python3.7/dist-packages (from keras) (3.13)\n",
            "Requirement already satisfied: scipy>=0.14 in /usr/local/lib/python3.7/dist-packages (from keras) (1.4.1)\n",
            "Requirement already satisfied: h5py in /usr/local/lib/python3.7/dist-packages (from keras) (3.1.0)\n",
            "Requirement already satisfied: numpy>=1.9.1 in /usr/local/lib/python3.7/dist-packages (from keras) (1.19.5)\n",
            "Requirement already satisfied: cached-property; python_version < \"3.8\" in /usr/local/lib/python3.7/dist-packages (from h5py->keras) (1.5.2)\n",
            "Requirement already satisfied: h5py in /usr/local/lib/python3.7/dist-packages (3.1.0)\n",
            "Requirement already satisfied: numpy>=1.14.5; python_version == \"3.7\" in /usr/local/lib/python3.7/dist-packages (from h5py) (1.19.5)\n",
            "Requirement already satisfied: cached-property; python_version < \"3.8\" in /usr/local/lib/python3.7/dist-packages (from h5py) (1.5.2)\n"
          ],
          "name": "stdout"
        }
      ]
    },
    {
      "cell_type": "code",
      "metadata": {
        "id": "Gbem3fX5GQxW"
      },
      "source": [
        "import numpy as np\n",
        "\n",
        "import pandas as pd\n",
        "\n",
        "import os\n",
        "\n",
        "df = pd.read_csv(\"Data_status.csv\")"
      ],
      "execution_count": null,
      "outputs": []
    },
    {
      "cell_type": "code",
      "metadata": {
        "colab": {
          "base_uri": "https://localhost:8080/",
          "height": 206
        },
        "id": "4RNAK9voUa69",
        "outputId": "ce73244e-60af-4fd4-ae0c-3618e7e9c58c"
      },
      "source": [
        "df.head()"
      ],
      "execution_count": null,
      "outputs": [
        {
          "output_type": "execute_result",
          "data": {
            "text/html": [
              "<div>\n",
              "<style scoped>\n",
              "    .dataframe tbody tr th:only-of-type {\n",
              "        vertical-align: middle;\n",
              "    }\n",
              "\n",
              "    .dataframe tbody tr th {\n",
              "        vertical-align: top;\n",
              "    }\n",
              "\n",
              "    .dataframe thead th {\n",
              "        text-align: right;\n",
              "    }\n",
              "</style>\n",
              "<table border=\"1\" class=\"dataframe\">\n",
              "  <thead>\n",
              "    <tr style=\"text-align: right;\">\n",
              "      <th></th>\n",
              "      <th>Label</th>\n",
              "      <th>Time</th>\n",
              "      <th>Data</th>\n",
              "      <th>Sentiment</th>\n",
              "    </tr>\n",
              "  </thead>\n",
              "  <tbody>\n",
              "    <tr>\n",
              "      <th>0</th>\n",
              "      <td>0</td>\n",
              "      <td>10.35pm</td>\n",
              "      <td>she is a good girl</td>\n",
              "      <td>1</td>\n",
              "    </tr>\n",
              "    <tr>\n",
              "      <th>1</th>\n",
              "      <td>1</td>\n",
              "      <td>11.01am</td>\n",
              "      <td>I Love Music</td>\n",
              "      <td>1</td>\n",
              "    </tr>\n",
              "    <tr>\n",
              "      <th>2</th>\n",
              "      <td>2</td>\n",
              "      <td>03.12pm</td>\n",
              "      <td>she hates milk</td>\n",
              "      <td>0</td>\n",
              "    </tr>\n",
              "    <tr>\n",
              "      <th>3</th>\n",
              "      <td>3</td>\n",
              "      <td>06.06pm</td>\n",
              "      <td>Iam a good Listener</td>\n",
              "      <td>1</td>\n",
              "    </tr>\n",
              "    <tr>\n",
              "      <th>4</th>\n",
              "      <td>4</td>\n",
              "      <td>12.03am</td>\n",
              "      <td>I Love Harry Potter series</td>\n",
              "      <td>1</td>\n",
              "    </tr>\n",
              "  </tbody>\n",
              "</table>\n",
              "</div>"
            ],
            "text/plain": [
              "   Label     Time                        Data  Sentiment\n",
              "0      0  10.35pm          she is a good girl          1\n",
              "1      1  11.01am                I Love Music          1\n",
              "2      2  03.12pm              she hates milk          0\n",
              "3      3  06.06pm         Iam a good Listener          1\n",
              "4      4  12.03am  I Love Harry Potter series          1"
            ]
          },
          "metadata": {
            "tags": []
          },
          "execution_count": 3
        }
      ]
    },
    {
      "cell_type": "code",
      "metadata": {
        "colab": {
          "base_uri": "https://localhost:8080/"
        },
        "id": "fzFou-d3YLVf",
        "outputId": "54dca60b-c70c-437a-e9bb-3e5e5fc0f45d"
      },
      "source": [
        "df['Sentiment'].value_counts()\n"
      ],
      "execution_count": null,
      "outputs": [
        {
          "output_type": "execute_result",
          "data": {
            "text/plain": [
              "1    107\n",
              "0    104\n",
              "Name: Sentiment, dtype: int64"
            ]
          },
          "metadata": {
            "tags": []
          },
          "execution_count": 4
        }
      ]
    },
    {
      "cell_type": "code",
      "metadata": {
        "colab": {
          "base_uri": "https://localhost:8080/"
        },
        "id": "53fma172y6mN",
        "outputId": "ae120de1-41db-4a90-fcf8-4a1a09405697"
      },
      "source": [
        "df[\"Data\"]"
      ],
      "execution_count": null,
      "outputs": [
        {
          "output_type": "execute_result",
          "data": {
            "text/plain": [
              "0                               she is a good girl\n",
              "1                                     I Love Music\n",
              "2                                   she hates milk\n",
              "3                              Iam a good Listener\n",
              "4                       I Love Harry Potter series\n",
              "                          ...                     \n",
              "206                Telling lies is very bad thing.\n",
              "207         People are losing humanity day by day.\n",
              "208           The owner tortured the child rudely.\n",
              "209     My friend fell down and was injured badly.\n",
              "210    It is hear-breaking to lose our loved ones.\n",
              "Name: Data, Length: 211, dtype: object"
            ]
          },
          "metadata": {
            "tags": []
          },
          "execution_count": 104
        }
      ]
    },
    {
      "cell_type": "code",
      "metadata": {
        "id": "d9aq0Xy9Uxcw"
      },
      "source": [
        "##dropping Nan values\n",
        "df=df.dropna()"
      ],
      "execution_count": null,
      "outputs": []
    },
    {
      "cell_type": "code",
      "metadata": {
        "colab": {
          "base_uri": "https://localhost:8080/"
        },
        "id": "nMKwkrLO40ga",
        "outputId": "8b5df37a-749c-4cf4-dc76-5e4354f2958f"
      },
      "source": [
        "df[\"Data\"]"
      ],
      "execution_count": null,
      "outputs": [
        {
          "output_type": "execute_result",
          "data": {
            "text/plain": [
              "0                               she is a good girl\n",
              "1                                     I Love Music\n",
              "2                                   she hates milk\n",
              "3                              Iam a good Listener\n",
              "4                       I Love Harry Potter series\n",
              "                          ...                     \n",
              "206                Telling lies is very bad thing.\n",
              "207         People are losing humanity day by day.\n",
              "208           The owner tortured the child rudely.\n",
              "209     My friend fell down and was injured badly.\n",
              "210    It is hear-breaking to lose our loved ones.\n",
              "Name: Data, Length: 211, dtype: object"
            ]
          },
          "metadata": {
            "tags": []
          },
          "execution_count": 5
        }
      ]
    },
    {
      "cell_type": "markdown",
      "metadata": {
        "id": "IKW8UxS_2Mf9"
      },
      "source": [
        "**Feature extraction**"
      ]
    },
    {
      "cell_type": "code",
      "metadata": {
        "id": "oQz0g0ZPU7bw"
      },
      "source": [
        "##get independent features\n",
        "\n",
        "X=df.drop(\"Sentiment\",axis=1)"
      ],
      "execution_count": null,
      "outputs": []
    },
    {
      "cell_type": "code",
      "metadata": {
        "id": "QsP8Kq7hYhyF"
      },
      "source": [
        "##get dependent features\n",
        "\n",
        "y=df[\"Sentiment\"]"
      ],
      "execution_count": null,
      "outputs": []
    },
    {
      "cell_type": "code",
      "metadata": {
        "colab": {
          "base_uri": "https://localhost:8080/"
        },
        "id": "d5yqK-wsYsK4",
        "outputId": "26c3bb62-e9e7-4bf8-f453-37b2e157d71b"
      },
      "source": [
        "X.shape"
      ],
      "execution_count": null,
      "outputs": [
        {
          "output_type": "execute_result",
          "data": {
            "text/plain": [
              "(211, 3)"
            ]
          },
          "metadata": {
            "tags": []
          },
          "execution_count": 8
        }
      ]
    },
    {
      "cell_type": "code",
      "metadata": {
        "colab": {
          "base_uri": "https://localhost:8080/"
        },
        "id": "cyRquQqRYx2N",
        "outputId": "9cdd9bfb-831b-4eed-ecf0-f313a02ee5c9"
      },
      "source": [
        "y.shape"
      ],
      "execution_count": null,
      "outputs": [
        {
          "output_type": "execute_result",
          "data": {
            "text/plain": [
              "(211,)"
            ]
          },
          "metadata": {
            "tags": []
          },
          "execution_count": 9
        }
      ]
    },
    {
      "cell_type": "code",
      "metadata": {
        "id": "V1cIepi9alOk"
      },
      "source": [
        "import tensorflow as tf"
      ],
      "execution_count": null,
      "outputs": []
    },
    {
      "cell_type": "code",
      "metadata": {
        "colab": {
          "base_uri": "https://localhost:8080/",
          "height": 36
        },
        "id": "hfhV4sfxaun-",
        "outputId": "abbb27d8-af46-458e-8b8d-a85248e0d6b7"
      },
      "source": [
        "tf.__version__"
      ],
      "execution_count": null,
      "outputs": [
        {
          "output_type": "execute_result",
          "data": {
            "application/vnd.google.colaboratory.intrinsic+json": {
              "type": "string"
            },
            "text/plain": [
              "'2.5.0'"
            ]
          },
          "metadata": {
            "tags": []
          },
          "execution_count": 11
        }
      ]
    },
    {
      "cell_type": "code",
      "metadata": {
        "id": "G_aJadI6bOzm"
      },
      "source": [
        "### vocabulary size\n",
        "voc_size=5000\n"
      ],
      "execution_count": null,
      "outputs": []
    },
    {
      "cell_type": "code",
      "metadata": {
        "id": "J0xGTRLcbis5"
      },
      "source": [
        "##copying X data into messages\n",
        "messages=X.copy()"
      ],
      "execution_count": null,
      "outputs": []
    },
    {
      "cell_type": "code",
      "metadata": {
        "colab": {
          "base_uri": "https://localhost:8080/",
          "height": 424
        },
        "id": "mCmx31N6tB1e",
        "outputId": "93bba693-6f35-45a7-d8d8-a0614f9055ba"
      },
      "source": [
        "messages"
      ],
      "execution_count": null,
      "outputs": [
        {
          "output_type": "execute_result",
          "data": {
            "text/html": [
              "<div>\n",
              "<style scoped>\n",
              "    .dataframe tbody tr th:only-of-type {\n",
              "        vertical-align: middle;\n",
              "    }\n",
              "\n",
              "    .dataframe tbody tr th {\n",
              "        vertical-align: top;\n",
              "    }\n",
              "\n",
              "    .dataframe thead th {\n",
              "        text-align: right;\n",
              "    }\n",
              "</style>\n",
              "<table border=\"1\" class=\"dataframe\">\n",
              "  <thead>\n",
              "    <tr style=\"text-align: right;\">\n",
              "      <th></th>\n",
              "      <th>Label</th>\n",
              "      <th>Time</th>\n",
              "      <th>Data</th>\n",
              "    </tr>\n",
              "  </thead>\n",
              "  <tbody>\n",
              "    <tr>\n",
              "      <th>0</th>\n",
              "      <td>0</td>\n",
              "      <td>10.35pm</td>\n",
              "      <td>she is a good girl</td>\n",
              "    </tr>\n",
              "    <tr>\n",
              "      <th>1</th>\n",
              "      <td>1</td>\n",
              "      <td>11.01am</td>\n",
              "      <td>I Love Music</td>\n",
              "    </tr>\n",
              "    <tr>\n",
              "      <th>2</th>\n",
              "      <td>2</td>\n",
              "      <td>03.12pm</td>\n",
              "      <td>she hates milk</td>\n",
              "    </tr>\n",
              "    <tr>\n",
              "      <th>3</th>\n",
              "      <td>3</td>\n",
              "      <td>06.06pm</td>\n",
              "      <td>Iam a good Listener</td>\n",
              "    </tr>\n",
              "    <tr>\n",
              "      <th>4</th>\n",
              "      <td>4</td>\n",
              "      <td>12.03am</td>\n",
              "      <td>I Love Harry Potter series</td>\n",
              "    </tr>\n",
              "    <tr>\n",
              "      <th>...</th>\n",
              "      <td>...</td>\n",
              "      <td>...</td>\n",
              "      <td>...</td>\n",
              "    </tr>\n",
              "    <tr>\n",
              "      <th>206</th>\n",
              "      <td>206</td>\n",
              "      <td>12.30am</td>\n",
              "      <td>Telling lies is very bad thing.</td>\n",
              "    </tr>\n",
              "    <tr>\n",
              "      <th>207</th>\n",
              "      <td>207</td>\n",
              "      <td>3.40pm</td>\n",
              "      <td>People are losing humanity day by day.</td>\n",
              "    </tr>\n",
              "    <tr>\n",
              "      <th>208</th>\n",
              "      <td>208</td>\n",
              "      <td>11.36am</td>\n",
              "      <td>The owner tortured the child rudely.</td>\n",
              "    </tr>\n",
              "    <tr>\n",
              "      <th>209</th>\n",
              "      <td>209</td>\n",
              "      <td>7.45am</td>\n",
              "      <td>My friend fell down and was injured badly.</td>\n",
              "    </tr>\n",
              "    <tr>\n",
              "      <th>210</th>\n",
              "      <td>210</td>\n",
              "      <td>8.55pm</td>\n",
              "      <td>It is hear-breaking to lose our loved ones.</td>\n",
              "    </tr>\n",
              "  </tbody>\n",
              "</table>\n",
              "<p>211 rows × 3 columns</p>\n",
              "</div>"
            ],
            "text/plain": [
              "     Label     Time                                         Data\n",
              "0        0  10.35pm                           she is a good girl\n",
              "1        1  11.01am                                 I Love Music\n",
              "2        2  03.12pm                               she hates milk\n",
              "3        3  06.06pm                          Iam a good Listener\n",
              "4        4  12.03am                   I Love Harry Potter series\n",
              "..     ...      ...                                          ...\n",
              "206    206  12.30am              Telling lies is very bad thing.\n",
              "207    207   3.40pm       People are losing humanity day by day.\n",
              "208    208  11.36am         The owner tortured the child rudely.\n",
              "209    209   7.45am   My friend fell down and was injured badly.\n",
              "210    210   8.55pm  It is hear-breaking to lose our loved ones.\n",
              "\n",
              "[211 rows x 3 columns]"
            ]
          },
          "metadata": {
            "tags": []
          },
          "execution_count": 14
        }
      ]
    },
    {
      "cell_type": "code",
      "metadata": {
        "colab": {
          "base_uri": "https://localhost:8080/"
        },
        "id": "avkrMy5fsxMA",
        "outputId": "66723a7e-2b1b-4518-eef7-8f45645d243b"
      },
      "source": [
        "messages.get('Data')"
      ],
      "execution_count": null,
      "outputs": [
        {
          "output_type": "execute_result",
          "data": {
            "text/plain": [
              "0                               she is a good girl\n",
              "1                                     I Love Music\n",
              "2                                   she hates milk\n",
              "3                              Iam a good Listener\n",
              "4                       I Love Harry Potter series\n",
              "                          ...                     \n",
              "206                Telling lies is very bad thing.\n",
              "207         People are losing humanity day by day.\n",
              "208           The owner tortured the child rudely.\n",
              "209     My friend fell down and was injured badly.\n",
              "210    It is hear-breaking to lose our loved ones.\n",
              "Name: Data, Length: 211, dtype: object"
            ]
          },
          "metadata": {
            "tags": []
          },
          "execution_count": 15
        }
      ]
    },
    {
      "cell_type": "code",
      "metadata": {
        "colab": {
          "base_uri": "https://localhost:8080/"
        },
        "id": "1h-yPkwNvtYl",
        "outputId": "48172813-e585-49bb-b553-5534d77f4c62"
      },
      "source": [
        "messages.loc[3]"
      ],
      "execution_count": null,
      "outputs": [
        {
          "output_type": "execute_result",
          "data": {
            "text/plain": [
              "Label                      3\n",
              "Time                 06.06pm\n",
              "Data     Iam a good Listener\n",
              "Name: 3, dtype: object"
            ]
          },
          "metadata": {
            "tags": []
          },
          "execution_count": 16
        }
      ]
    },
    {
      "cell_type": "code",
      "metadata": {
        "colab": {
          "base_uri": "https://localhost:8080/",
          "height": 36
        },
        "id": "aIoDUUCeweQG",
        "outputId": "3056c0db-8a5e-4144-9686-474414522c0f"
      },
      "source": [
        "messages['Data'][1]"
      ],
      "execution_count": null,
      "outputs": [
        {
          "output_type": "execute_result",
          "data": {
            "application/vnd.google.colaboratory.intrinsic+json": {
              "type": "string"
            },
            "text/plain": [
              "'I Love Music'"
            ]
          },
          "metadata": {
            "tags": []
          },
          "execution_count": 17
        }
      ]
    },
    {
      "cell_type": "code",
      "metadata": {
        "id": "x0aP7dzJbydS"
      },
      "source": [
        "##messages.reset_index(inplace=True)"
      ],
      "execution_count": null,
      "outputs": []
    },
    {
      "cell_type": "code",
      "metadata": {
        "colab": {
          "base_uri": "https://localhost:8080/",
          "height": 206
        },
        "id": "z8aFUURImjV9",
        "outputId": "4c1ff468-1009-4d24-9dab-e796f34050ad"
      },
      "source": [
        "messages.head()"
      ],
      "execution_count": null,
      "outputs": [
        {
          "output_type": "execute_result",
          "data": {
            "text/html": [
              "<div>\n",
              "<style scoped>\n",
              "    .dataframe tbody tr th:only-of-type {\n",
              "        vertical-align: middle;\n",
              "    }\n",
              "\n",
              "    .dataframe tbody tr th {\n",
              "        vertical-align: top;\n",
              "    }\n",
              "\n",
              "    .dataframe thead th {\n",
              "        text-align: right;\n",
              "    }\n",
              "</style>\n",
              "<table border=\"1\" class=\"dataframe\">\n",
              "  <thead>\n",
              "    <tr style=\"text-align: right;\">\n",
              "      <th></th>\n",
              "      <th>Label</th>\n",
              "      <th>Time</th>\n",
              "      <th>Data</th>\n",
              "    </tr>\n",
              "  </thead>\n",
              "  <tbody>\n",
              "    <tr>\n",
              "      <th>0</th>\n",
              "      <td>0</td>\n",
              "      <td>10.35pm</td>\n",
              "      <td>she is a good girl</td>\n",
              "    </tr>\n",
              "    <tr>\n",
              "      <th>1</th>\n",
              "      <td>1</td>\n",
              "      <td>11.01am</td>\n",
              "      <td>I Love Music</td>\n",
              "    </tr>\n",
              "    <tr>\n",
              "      <th>2</th>\n",
              "      <td>2</td>\n",
              "      <td>03.12pm</td>\n",
              "      <td>she hates milk</td>\n",
              "    </tr>\n",
              "    <tr>\n",
              "      <th>3</th>\n",
              "      <td>3</td>\n",
              "      <td>06.06pm</td>\n",
              "      <td>Iam a good Listener</td>\n",
              "    </tr>\n",
              "    <tr>\n",
              "      <th>4</th>\n",
              "      <td>4</td>\n",
              "      <td>12.03am</td>\n",
              "      <td>I Love Harry Potter series</td>\n",
              "    </tr>\n",
              "  </tbody>\n",
              "</table>\n",
              "</div>"
            ],
            "text/plain": [
              "   Label     Time                        Data\n",
              "0      0  10.35pm          she is a good girl\n",
              "1      1  11.01am                I Love Music\n",
              "2      2  03.12pm              she hates milk\n",
              "3      3  06.06pm         Iam a good Listener\n",
              "4      4  12.03am  I Love Harry Potter series"
            ]
          },
          "metadata": {
            "tags": []
          },
          "execution_count": 119
        }
      ]
    },
    {
      "cell_type": "code",
      "metadata": {
        "colab": {
          "base_uri": "https://localhost:8080/"
        },
        "id": "S_vJDhocn4Tu",
        "outputId": "90c53fdb-819d-4ca9-bb22-d275146bf20a"
      },
      "source": [
        "messages.iloc[:,1]"
      ],
      "execution_count": null,
      "outputs": [
        {
          "output_type": "execute_result",
          "data": {
            "text/plain": [
              "0      10.35pm\n",
              "1      11.01am\n",
              "2      03.12pm\n",
              "3      06.06pm\n",
              "4      12.03am\n",
              "        ...   \n",
              "206    12.30am\n",
              "207     3.40pm\n",
              "208    11.36am\n",
              "209     7.45am\n",
              "210     8.55pm\n",
              "Name: Time, Length: 211, dtype: object"
            ]
          },
          "metadata": {
            "tags": []
          },
          "execution_count": 18
        }
      ]
    },
    {
      "cell_type": "code",
      "metadata": {
        "id": "yt2ZwOqCb4Ez"
      },
      "source": [
        "import nltk\n",
        "## re -- regular expression\n",
        "import re\n",
        "from nltk.corpus import stopwords"
      ],
      "execution_count": null,
      "outputs": []
    },
    {
      "cell_type": "code",
      "metadata": {
        "colab": {
          "base_uri": "https://localhost:8080/"
        },
        "id": "3oeKJiDscOSg",
        "outputId": "72bb0202-f190-497e-a4ee-5c37f6eb8aea"
      },
      "source": [
        "nltk.download('stopwords')"
      ],
      "execution_count": null,
      "outputs": [
        {
          "output_type": "stream",
          "text": [
            "[nltk_data] Downloading package stopwords to /root/nltk_data...\n",
            "[nltk_data]   Unzipping corpora/stopwords.zip.\n"
          ],
          "name": "stdout"
        },
        {
          "output_type": "execute_result",
          "data": {
            "text/plain": [
              "True"
            ]
          },
          "metadata": {
            "tags": []
          },
          "execution_count": 20
        }
      ]
    },
    {
      "cell_type": "code",
      "metadata": {
        "colab": {
          "base_uri": "https://localhost:8080/"
        },
        "id": "_OjYWX_TcX8T",
        "outputId": "c3b529e3-6bf1-4edf-c246-4fc240aa93e3"
      },
      "source": [
        "###Data preprocessing\n",
        "#from nltk.stem.porter import PorterStemmer\n",
        "#ps=PorterStemmer()\n",
        "corpus=[]\n",
        "for i in range(0,len(messages)):\n",
        "  print(i)\n",
        "  review= re.sub('[^a-zA-Z0-9]',' ',messages[\"Data\"][i])\n",
        "  review= review.lower()\n",
        "  #review= review.split()\n",
        "\n",
        "  #review= [ps.stem(word) for word in review if not word in stopwords.words('english')]\n",
        "  #review=' '.join(review)\n",
        "  corpus.append(review)"
      ],
      "execution_count": null,
      "outputs": [
        {
          "output_type": "stream",
          "text": [
            "0\n",
            "1\n",
            "2\n",
            "3\n",
            "4\n",
            "5\n",
            "6\n",
            "7\n",
            "8\n",
            "9\n",
            "10\n",
            "11\n",
            "12\n",
            "13\n",
            "14\n",
            "15\n",
            "16\n",
            "17\n",
            "18\n",
            "19\n",
            "20\n",
            "21\n",
            "22\n",
            "23\n",
            "24\n",
            "25\n",
            "26\n",
            "27\n",
            "28\n",
            "29\n",
            "30\n",
            "31\n",
            "32\n",
            "33\n",
            "34\n",
            "35\n",
            "36\n",
            "37\n",
            "38\n",
            "39\n",
            "40\n",
            "41\n",
            "42\n",
            "43\n",
            "44\n",
            "45\n",
            "46\n",
            "47\n",
            "48\n",
            "49\n",
            "50\n",
            "51\n",
            "52\n",
            "53\n",
            "54\n",
            "55\n",
            "56\n",
            "57\n",
            "58\n",
            "59\n",
            "60\n",
            "61\n",
            "62\n",
            "63\n",
            "64\n",
            "65\n",
            "66\n",
            "67\n",
            "68\n",
            "69\n",
            "70\n",
            "71\n",
            "72\n",
            "73\n",
            "74\n",
            "75\n",
            "76\n",
            "77\n",
            "78\n",
            "79\n",
            "80\n",
            "81\n",
            "82\n",
            "83\n",
            "84\n",
            "85\n",
            "86\n",
            "87\n",
            "88\n",
            "89\n",
            "90\n",
            "91\n",
            "92\n",
            "93\n",
            "94\n",
            "95\n",
            "96\n",
            "97\n",
            "98\n",
            "99\n",
            "100\n",
            "101\n",
            "102\n",
            "103\n",
            "104\n",
            "105\n",
            "106\n",
            "107\n",
            "108\n",
            "109\n",
            "110\n",
            "111\n",
            "112\n",
            "113\n",
            "114\n",
            "115\n",
            "116\n",
            "117\n",
            "118\n",
            "119\n",
            "120\n",
            "121\n",
            "122\n",
            "123\n",
            "124\n",
            "125\n",
            "126\n",
            "127\n",
            "128\n",
            "129\n",
            "130\n",
            "131\n",
            "132\n",
            "133\n",
            "134\n",
            "135\n",
            "136\n",
            "137\n",
            "138\n",
            "139\n",
            "140\n",
            "141\n",
            "142\n",
            "143\n",
            "144\n",
            "145\n",
            "146\n",
            "147\n",
            "148\n",
            "149\n",
            "150\n",
            "151\n",
            "152\n",
            "153\n",
            "154\n",
            "155\n",
            "156\n",
            "157\n",
            "158\n",
            "159\n",
            "160\n",
            "161\n",
            "162\n",
            "163\n",
            "164\n",
            "165\n",
            "166\n",
            "167\n",
            "168\n",
            "169\n",
            "170\n",
            "171\n",
            "172\n",
            "173\n",
            "174\n",
            "175\n",
            "176\n",
            "177\n",
            "178\n",
            "179\n",
            "180\n",
            "181\n",
            "182\n",
            "183\n",
            "184\n",
            "185\n",
            "186\n",
            "187\n",
            "188\n",
            "189\n",
            "190\n",
            "191\n",
            "192\n",
            "193\n",
            "194\n",
            "195\n",
            "196\n",
            "197\n",
            "198\n",
            "199\n",
            "200\n",
            "201\n",
            "202\n",
            "203\n",
            "204\n",
            "205\n",
            "206\n",
            "207\n",
            "208\n",
            "209\n",
            "210\n"
          ],
          "name": "stdout"
        }
      ]
    },
    {
      "cell_type": "code",
      "metadata": {
        "id": "3MKlDjhapDny",
        "colab": {
          "base_uri": "https://localhost:8080/"
        },
        "outputId": "5bc56acc-4d5a-4cfb-9750-a94c1d0a84db"
      },
      "source": [
        "corpus"
      ],
      "execution_count": null,
      "outputs": [
        {
          "output_type": "execute_result",
          "data": {
            "text/plain": [
              "['she is a good girl',\n",
              " 'i love music',\n",
              " 'she hates milk',\n",
              " 'iam a good listener',\n",
              " 'i love harry potter series',\n",
              " 'she is so exhausted with them',\n",
              " 'maharshi movie is excellent',\n",
              " 'cleanliness is next to godliness',\n",
              " 'mahatma gandhi is a great freedom figther',\n",
              " 'latha loves lofi music',\n",
              " 'they were so sad after listening the news',\n",
              " 'rama loves sita',\n",
              " 'love yourself',\n",
              " 'well done is better than well said ',\n",
              " 'cherish the good moments in life',\n",
              " 'everyone goes thorugh depression',\n",
              " 'iam happy at this moment',\n",
              " 'blissful moments',\n",
              " 'pleasure meeting you ',\n",
              " 'i faced lot of problems ',\n",
              " 'my sister is a good singer',\n",
              " 'ar rahman is one of the finest artist ',\n",
              " 'happy birthday to you',\n",
              " 'this is a bad day in my life ',\n",
              " 'i hate my life',\n",
              " 'she looks beautiful',\n",
              " 'swarna is the prettiest girl in th class',\n",
              " 'no one loves me',\n",
              " 'iam a good dancer',\n",
              " 'she is good at english',\n",
              " 'he loves to play cricket',\n",
              " 'johnny enjoys watching cartoons',\n",
              " 'hema cheated raju so they broke up ',\n",
              " 'raju adores smitha',\n",
              " 'she sings melodiously',\n",
              " 'ramya was stubborn to get medicine seat',\n",
              " 'sita s ambition is to become an engineer',\n",
              " 'the day is gloomy',\n",
              " 'this world is a worst place',\n",
              " 'everyone is selfish',\n",
              " 'love is divine',\n",
              " 'i hate everyone in this world',\n",
              " 'i have many great responsibilities',\n",
              " 'bold person achieve anything',\n",
              " 'positive thinking changes attitude of the person',\n",
              " 'she is so cunning',\n",
              " 'attitude of gratitude is good',\n",
              " 'be thankful for everything',\n",
              " 'show mercy to the right person',\n",
              " 'bloom where you are planted',\n",
              " 'hurry  they won the match',\n",
              " 'audience appalused the hero s performance',\n",
              " 'happy days is my favourite movie ',\n",
              " 'today we enjoyed alot ',\n",
              " 'my uncle died due to covid rip',\n",
              " 'we miss you alot uncle',\n",
              " 'be cautious with your health',\n",
              " 'i m glad that makes you happy ',\n",
              " 'i die every day  every second without you ',\n",
              " 'she is as pretty as cindrella',\n",
              " 'donot trust anyone',\n",
              " 'that s a happy looking family ',\n",
              " 'you always get hurt the moment you begin to care ',\n",
              " 'donot be a part of gossip',\n",
              " 'donot believe rumours',\n",
              " 'happy he who has ears to hear ',\n",
              " 'tart each day with a positive thought and a grateful heart ',\n",
              " 'if i delete your number  you re basically deleted from my life ',\n",
              " 'my silence is just another word for my pain ',\n",
              " 'i don t depend on people anymore because i m tired of being disappointed ',\n",
              " 'the pain is there to remind me that i m still alive ',\n",
              " 'i know my silence and my tears will heal my pain one day ',\n",
              " 'i am scared to see you with someone else ',\n",
              " 'she is in an especially good mood today ',\n",
              " 'i have a lot of unsaid thoughts',\n",
              " 'emotional pain will always hurt more than physical pain ',\n",
              " 'there s always a person that you hate for no reason ',\n",
              " 'you want to keep the soldier in a good mood',\n",
              " 'those who are heartless once cared too much ',\n",
              " 'not all people in your life are meant to stay ',\n",
              " 'she ll be happy to see you ',\n",
              " 'let s talk about happiness ',\n",
              " 'apologies don t fix broken hearts  ',\n",
              " 'don t cry over someone that won t cry over you ',\n",
              " 'real ones stays in bad times',\n",
              " 'life s purpose is to be happy ',\n",
              " 'people are selfish now a days ',\n",
              " 'i want to thank you for the all the good things you taught me ',\n",
              " 'i don t hate you  i hate what you have done ',\n",
              " 'you can t please everybody ',\n",
              " 'we all feel lost sometimes',\n",
              " 'thanks for your support and understanding ',\n",
              " 'i sincerely hope for his happiness ',\n",
              " 'everyone in my family is happy ',\n",
              " 'i wish you both happiness and prosperity ',\n",
              " 'i hope you ll be happy forever ',\n",
              " 'most people want to experience happiness ',\n",
              " 'i d be happy to get it for you ',\n",
              " 'health is an important factor of happiness ',\n",
              " 'i ll be happy to work with you ',\n",
              " 'thanks for always being there ',\n",
              " 'waiting is painful',\n",
              " 'sometimes sitting alone remove sadness ',\n",
              " 'my weakness is that i care too much ',\n",
              " 'seize the moments of happiness ',\n",
              " 'they are happy with the result ',\n",
              " 'it was a moment of supreme happiness ',\n",
              " 'life is not over  ',\n",
              " 'you stole my heart take care of it',\n",
              " 'music always puts me in a better mood ',\n",
              " 'you re mine and i m yours',\n",
              " 'happy to meet you again ',\n",
              " 'i d be happy knowing you re safe ',\n",
              " 'i wish you all the happiness you deserve ',\n",
              " 'i m so happy to see you ',\n",
              " 'i wish you happiness ',\n",
              " 'one unexpected message can heal a lot',\n",
              " 'thank you for the warm and lovely wishes ',\n",
              " 'i m happy you re among us ',\n",
              " 'suddenly a feeling of happiness seized him ',\n",
              " 'i d be happy if i was in soccer team ',\n",
              " 'you can t buy happiness ',\n",
              " 'it s hard to forget someone that gives you so much remembers ',\n",
              " 'we prayed for their happiness ',\n",
              " 'when i got attached  you left ',\n",
              " 'i ll be more than happy to help ',\n",
              " 'i should die of happiness ',\n",
              " 'health is essential to happiness ',\n",
              " 'the cat seems extremely happy ',\n",
              " 'happiness grows when shared ',\n",
              " 'the rich are not always happy ',\n",
              " 'her face was bright with happiness ',\n",
              " 'they lived a happy life there ',\n",
              " 'i hide my pain with a smile',\n",
              " 'my heart feels heavy but thats okay',\n",
              " 'smallest lie can break the biggest trust',\n",
              " 'if there is the heart  there s always sadness',\n",
              " 'true happiness consists of desiring little ',\n",
              " 'i m glad it makes you so happy ',\n",
              " 'i m happy nothing bad happened ',\n",
              " 'i m very happy to met you ',\n",
              " 'tears come from heart not from the brain ',\n",
              " 'your happiness is important to us ',\n",
              " 'the boy made his parents happy ',\n",
              " 'seize the moments of happiness ',\n",
              " 'they are happy with the result ',\n",
              " 'it was a moment of supreme happiness ',\n",
              " 'i need someone to make me feel okay',\n",
              " 'it hurts but i ll never show that im hurt',\n",
              " 'i d be most happy to assist you',\n",
              " 'i wish you a lifetime of happiness ',\n",
              " 'emptiness feels so heavy ',\n",
              " 'my only concern is for your happiness ',\n",
              " 'it seemed like you were happy ',\n",
              " 'happiness is a delicate flower ',\n",
              " 'she is poor  but she is happy ',\n",
              " 'i can feel you forgetting me ',\n",
              " 'i wish i can delete my sad feelings',\n",
              " 'i m slowly giving up ',\n",
              " 'tom was alone on the park bench ',\n",
              " 'a wave of loneliness washed over her ',\n",
              " 'the loneliness drove her mad ',\n",
              " 'a pang of loneliness swept over her ',\n",
              " 'she felt suddenly overwhelmed by loneliness ',\n",
              " 'mine sam and tara hook up to escape their loneliness ',\n",
              " 'i hope she is not lonely and unhappy ',\n",
              " 'it s so lonely here without you ',\n",
              " 'he s so lonely in that pasture all by his self ',\n",
              " 'i have no one in this world',\n",
              " 'we brokeup yesterday',\n",
              " 'it is so painful to see our loved one crying',\n",
              " 'riya was so depressed that she decided to go for counselling',\n",
              " 'you gave me so much pain in my life ',\n",
              " 'they betrayed the whole family for money ',\n",
              " 'i was unable to digest the bitter truth',\n",
              " 'iam so exhausted with his behaviour ',\n",
              " 'he was hurt because of her words ',\n",
              " 'loving too much will only give too much pain',\n",
              " 'i was abandoned by my in laws for not giving dowry ',\n",
              " 'the people were crying for food ',\n",
              " 'everything is off  ',\n",
              " 'decent but dull  ',\n",
              " 'crust is not good',\n",
              " 'honestly it didn t taste that fresh ',\n",
              " 'waitress was a little slow in service ',\n",
              " 'did not like at all ',\n",
              " 'very bad customer service  ',\n",
              " 'the turkey and roast beef were bland ',\n",
              " 'this place is way too overpriced for mediocre food ',\n",
              " 'it was probably dirt ',\n",
              " 'the live music on fridays totally blows ',\n",
              " 'food was below average ',\n",
              " 'the ambiance isn t much better ',\n",
              " 'the presentation of the food was awful ',\n",
              " 'appetite instantly gone ',\n",
              " 'it really is impressive that the place hasn t closed down ',\n",
              " 'unfortunately  it was not good ',\n",
              " 'the service was poor and thats being nice ',\n",
              " 'i probably won t be back  to be honest  ',\n",
              " 'i consider this theft ',\n",
              " 'will not be back ',\n",
              " 'tears rolled down when i heard the news',\n",
              " 'rude people donot have any mercy towads poor ',\n",
              " 'he died due to the black fungus and the family went into depression',\n",
              " 'the old lady was thrown out of the house mercilessly ',\n",
              " 'the hunter shot the deer very badly ',\n",
              " 'telling lies is very bad thing ',\n",
              " 'people are losing humanity day by day ',\n",
              " 'the owner tortured the child rudely ',\n",
              " 'my friend fell down and was injured badly ',\n",
              " 'it is hear breaking to lose our loved ones ']"
            ]
          },
          "metadata": {
            "tags": []
          },
          "execution_count": 22
        }
      ]
    },
    {
      "cell_type": "code",
      "metadata": {
        "id": "VFuhDLkyUR4l"
      },
      "source": [
        "from tensorflow.keras.layers import Embedding\n",
        "\n",
        "from tensorflow.keras.preprocessing.sequence import pad_sequences\n",
        "\n",
        "from tensorflow.keras.models import Sequential\n",
        "\n",
        "from tensorflow.keras.preprocessing.text import one_hot\n",
        "\n",
        "from tensorflow.keras.layers import LSTM\n",
        "\n",
        "from tensorflow.keras.layers import Dense\n",
        "\n",
        "from tensorflow.keras.layers import Dropout\n",
        "\n",
        "from keras.models import model_from_json\n"
      ],
      "execution_count": null,
      "outputs": []
    },
    {
      "cell_type": "code",
      "metadata": {
        "colab": {
          "base_uri": "https://localhost:8080/"
        },
        "id": "hSWoIVXw5uMy",
        "outputId": "60a2d242-35bb-493a-cec4-c3d594f233e0"
      },
      "source": [
        "onehot_repr=[one_hot(words,voc_size)for words in corpus] \n",
        "onehot_repr"
      ],
      "execution_count": null,
      "outputs": [
        {
          "output_type": "execute_result",
          "data": {
            "text/plain": [
              "[[759, 2389, 4567, 745, 4832],\n",
              " [58, 3270, 3770],\n",
              " [759, 3306, 2216],\n",
              " [2990, 4567, 745, 2427],\n",
              " [58, 3270, 3728, 1130, 3868],\n",
              " [759, 2389, 4299, 2117, 3071, 3948],\n",
              " [2418, 2944, 2389, 4306],\n",
              " [1804, 2389, 874, 4474, 4011],\n",
              " [465, 2829, 2389, 4567, 3330, 1750, 3877],\n",
              " [1657, 354, 4374, 3770],\n",
              " [3951, 1167, 4299, 4592, 4511, 2320, 3837, 3904],\n",
              " [3196, 354, 2731],\n",
              " [3270, 2446],\n",
              " [1256, 1208, 2389, 2947, 148, 1256, 2604],\n",
              " [3638, 3837, 745, 1053, 404, 3419],\n",
              " [1962, 481, 2607, 397],\n",
              " [2990, 144, 4938, 4789, 3896],\n",
              " [298, 1053],\n",
              " [360, 1830, 4756],\n",
              " [58, 926, 3677, 2969, 2488],\n",
              " [3272, 292, 2389, 4567, 745, 4354],\n",
              " [2171, 288, 2389, 4588, 2969, 3837, 1755, 1682],\n",
              " [144, 539, 4474, 4756],\n",
              " [4789, 2389, 4567, 2559, 4058, 404, 3272, 3419],\n",
              " [58, 1528, 3272, 3419],\n",
              " [759, 352, 4729],\n",
              " [3380, 2389, 3837, 3745, 4832, 404, 4348, 4716],\n",
              " [1497, 4588, 354, 3033],\n",
              " [2990, 4567, 745, 3909],\n",
              " [759, 2389, 745, 4938, 4940],\n",
              " [3727, 354, 4474, 1995, 3113],\n",
              " [3724, 3745, 3913, 2530],\n",
              " [121, 3842, 1425, 4299, 3951, 445, 221],\n",
              " [1425, 479, 2770],\n",
              " [759, 4317, 3889],\n",
              " [4637, 1447, 2749, 4474, 848, 4910, 3243],\n",
              " [2731, 2551, 3088, 2389, 4474, 743, 1626, 4133],\n",
              " [3837, 4058, 2389, 2320],\n",
              " [4789, 4783, 2389, 4567, 3400, 1007],\n",
              " [1962, 2389, 4582],\n",
              " [3270, 2389, 2137],\n",
              " [58, 1528, 1962, 404, 4789, 4783],\n",
              " [58, 2199, 1952, 3330, 4059],\n",
              " [1641, 3396, 3379, 1100],\n",
              " [1951, 1085, 250, 2114, 2969, 3837, 3396],\n",
              " [759, 2389, 4299, 4679],\n",
              " [2114, 2969, 1501, 2389, 745],\n",
              " [4923, 200, 4815, 2918],\n",
              " [4129, 3244, 4474, 3837, 1507, 3396],\n",
              " [1456, 3054, 4756, 1915, 4398],\n",
              " [1410, 3951, 3081, 3837, 4418],\n",
              " [3623, 3852, 3837, 160, 2551, 3248],\n",
              " [144, 59, 2389, 3272, 856, 2944],\n",
              " [4907, 3867, 348, 2631],\n",
              " [3272, 1107, 1728, 4636, 4474, 4186, 2689],\n",
              " [3867, 1328, 4756, 2631, 1107],\n",
              " [4923, 1411, 3071, 759, 4132],\n",
              " [58, 4667, 4270, 4573, 2243, 4756, 144],\n",
              " [58, 4164, 2394, 4058, 2394, 3893, 3690, 4756],\n",
              " [759, 2389, 4783, 3404, 4783, 2063],\n",
              " [3158, 3573, 3999],\n",
              " [4573, 2551, 4567, 144, 2398, 940],\n",
              " [4756, 2004, 848, 3980, 3837, 3896, 4756, 1138, 4474, 1892],\n",
              " [3158, 4923, 4567, 15, 2969, 3335],\n",
              " [3158, 2648, 42],\n",
              " [144, 3727, 2443, 4259, 4611, 4474, 769],\n",
              " [3767, 1151, 4058, 3071, 4567, 1951, 2895, 3316, 4567, 1626, 774],\n",
              " [4615, 58, 2926, 759, 2756, 4756, 4983, 3957, 2362, 1780, 3272, 3419],\n",
              " [3272, 1218, 2389, 1526, 4624, 3543, 4815, 3272, 3781],\n",
              " [58,\n",
              "  4385,\n",
              "  2237,\n",
              "  826,\n",
              "  2987,\n",
              "  3755,\n",
              "  863,\n",
              "  1564,\n",
              "  58,\n",
              "  4667,\n",
              "  1861,\n",
              "  2969,\n",
              "  2034,\n",
              "  1275],\n",
              " [3837, 3781, 2389, 4395, 4474, 143, 3033, 4573, 58, 4667, 1222, 1781],\n",
              " [58, 2631, 3272, 1218, 3316, 3272, 2654, 2352, 1496, 3272, 3781, 4588, 4058],\n",
              " [58, 1581, 2605, 4474, 4187, 4756, 3071, 4210, 770],\n",
              " [759, 2389, 404, 1626, 4982, 745, 4588, 4907],\n",
              " [58, 2199, 4567, 3677, 2969, 4712, 1713],\n",
              " [4146, 3781, 2352, 2004, 3980, 4063, 148, 4941, 3781],\n",
              " [4395, 2551, 2004, 4567, 3396, 4573, 4756, 1528, 4815, 1497, 1214],\n",
              " [4756, 1780, 4474, 1539, 3837, 2349, 404, 4567, 745, 4588],\n",
              " [360, 2443, 1915, 3898, 4340, 4884, 3504, 787],\n",
              " [4529, 4815, 3755, 404, 759, 3419, 1915, 3587, 4474, 1230],\n",
              " [759, 2226, 4923, 144, 4474, 4187, 4756],\n",
              " [2659, 2551, 4283, 4490, 2520],\n",
              " [1518, 4385, 2237, 1822, 111, 4648],\n",
              " [4385, 2237, 333, 1547, 4210, 4573, 3081, 2237, 333, 1547, 4756],\n",
              " [385, 708, 2125, 404, 2559, 2911],\n",
              " [3419, 2551, 1727, 2389, 4474, 4923, 144],\n",
              " [3755, 1915, 4582, 407, 4567, 59],\n",
              " [58,\n",
              "  1780,\n",
              "  4474,\n",
              "  3186,\n",
              "  4756,\n",
              "  4815,\n",
              "  3837,\n",
              "  4815,\n",
              "  3837,\n",
              "  745,\n",
              "  758,\n",
              "  4756,\n",
              "  2122,\n",
              "  3033],\n",
              " [58, 4385, 2237, 1528, 4756, 58, 1528, 1218, 4756, 2199, 1208],\n",
              " [4756, 139, 2237, 2442, 2768],\n",
              " [3867, 4815, 4526, 3265, 3270],\n",
              " [1620, 4815, 759, 2719, 3316, 689],\n",
              " [58, 3681, 899, 4815, 2989, 2520],\n",
              " [1962, 404, 3272, 940, 2389, 144],\n",
              " [58, 1568, 4756, 4542, 2520, 3316, 1695],\n",
              " [58, 899, 4756, 2226, 4923, 144, 2170],\n",
              " [212, 3755, 1780, 4474, 4221, 2520],\n",
              " [58, 2180, 4923, 144, 4474, 848, 1050, 4815, 4756],\n",
              " [4132, 2389, 1626, 1171, 3484, 2969, 2520],\n",
              " [58, 2226, 4923, 144, 4474, 4017, 3071, 4756],\n",
              " [1620, 4815, 2004, 2034, 4395],\n",
              " [4835, 2389, 1705],\n",
              " [3270, 3797, 2094, 3444, 9],\n",
              " [3272, 2080, 2389, 4573, 58, 1892, 3504, 787],\n",
              " [84, 3837, 1053, 2969, 2520],\n",
              " [3951, 1915, 144, 3071, 3837, 1096],\n",
              " [1050, 1447, 4567, 3896, 2969, 3162, 2520],\n",
              " [3419, 2389, 4529, 1547],\n",
              " [4756, 4896, 3272, 774, 2178, 1892, 2969, 1050],\n",
              " [3770, 2004, 88, 3033, 404, 4567, 2947, 4588],\n",
              " [4756, 4983, 3117, 3316, 58, 4667, 4521],\n",
              " [144, 4474, 4727, 4756, 3646],\n",
              " [58, 2180, 4923, 144, 4948, 4756, 4983, 2774],\n",
              " [58, 1568, 4756, 4815, 3837, 2520, 4756, 2404],\n",
              " [58, 4667, 4299, 144, 4474, 4187, 4756],\n",
              " [58, 1568, 4756, 2520],\n",
              " [4588, 854, 3939, 139, 1496, 4567, 3677],\n",
              " [3186, 4756, 4815, 3837, 1470, 3316, 2038, 3875],\n",
              " [58, 4667, 144, 4756, 4983, 4455, 2696],\n",
              " [4524, 4567, 3379, 2969, 2520, 1170, 4896],\n",
              " [58, 2180, 4923, 144, 4615, 58, 1447, 404, 2656, 3946],\n",
              " [4756, 139, 2237, 1339, 2520],\n",
              " [1050, 2551, 3618, 4474, 3020, 4210, 4573, 444, 4756, 4299, 787, 1499],\n",
              " [3867, 3955, 4815, 2381, 2520],\n",
              " [2892, 58, 4406, 729, 4756, 1986],\n",
              " [58, 2226, 4923, 4063, 148, 144, 4474, 4132],\n",
              " [58, 868, 4164, 2969, 2520],\n",
              " [4132, 2389, 1150, 4474, 2520],\n",
              " [3837, 381, 906, 34, 144],\n",
              " [2520, 19, 2892, 752],\n",
              " [3837, 2220, 1915, 4529, 2004, 144],\n",
              " [1063, 768, 1447, 1642, 3071, 2520],\n",
              " [3951, 2761, 4567, 144, 3419, 4395],\n",
              " [58, 3654, 3272, 3781, 3071, 4567, 1161],\n",
              " [3272, 774, 710, 2339, 4184, 2566, 3812],\n",
              " [4808, 1620, 139, 2235, 3837, 2759, 3573],\n",
              " [4615, 4395, 2389, 3837, 774, 4395, 2551, 2004, 9],\n",
              " [2716, 2520, 2752, 2969, 749, 2564],\n",
              " [58, 4667, 4270, 1050, 2243, 4756, 4299, 144],\n",
              " [58, 4667, 144, 4491, 2559, 1372],\n",
              " [58, 4667, 973, 144, 4474, 95, 4756],\n",
              " [2654, 1857, 1780, 774, 4529, 1780, 3837, 2056],\n",
              " [759, 2520, 2389, 1171, 4474, 2696],\n",
              " [3837, 4678, 578, 2989, 922, 144],\n",
              " [84, 3837, 1053, 2969, 2520],\n",
              " [3951, 1915, 144, 3071, 3837, 1096],\n",
              " [1050, 1447, 4567, 3896, 2969, 3162, 2520],\n",
              " [58, 300, 4210, 4474, 4518, 3033, 4526, 3812],\n",
              " [1050, 985, 4184, 58, 2226, 1189, 4129, 4573, 2489, 3980],\n",
              " [58, 2180, 4923, 212, 144, 4474, 947, 4756],\n",
              " [58, 1568, 4756, 4567, 4009, 2969, 2520],\n",
              " [4768, 710, 4299, 2339],\n",
              " [3272, 2150, 3375, 2389, 4815, 759, 2520],\n",
              " [1050, 4309, 2270, 4756, 1167, 144],\n",
              " [2520, 2389, 4567, 1236, 2339],\n",
              " [759, 2389, 2841, 4184, 759, 2389, 144],\n",
              " [58, 139, 4526, 4756, 814, 3033],\n",
              " [58, 1568, 58, 139, 2926, 3272, 4592, 974],\n",
              " [58, 4667, 2029, 3309, 221],\n",
              " [3438, 1447, 2094, 2987, 3837, 2711, 2254],\n",
              " [4567, 68, 2969, 1575, 438, 1547, 1063],\n",
              " [3837, 1575, 580, 1063, 4733],\n",
              " [4567, 1249, 2969, 1575, 416, 1547, 1063],\n",
              " [759, 2038, 4524, 2087, 207, 1575],\n",
              " [3117, 3079, 3316, 971, 4125, 221, 4474, 1937, 2381, 1575],\n",
              " [58, 899, 759, 2389, 4529, 2464, 3316, 326],\n",
              " [1050, 2551, 4299, 2464, 2463, 3690, 4756],\n",
              " [3727, 2551, 4299, 2464, 404, 4573, 3450, 4815, 207, 2989, 2087],\n",
              " [58, 2199, 1497, 4588, 404, 4789, 4783],\n",
              " [3867, 2686, 4918],\n",
              " [1050, 2389, 4299, 1705, 4474, 4187, 3017, 2718, 4588, 2833],\n",
              " [820, 1447, 4299, 4592, 4573, 759, 4547, 4474, 874, 4815, 4431],\n",
              " [4756, 3872, 3033, 4299, 787, 3781, 404, 3272, 3419],\n",
              " [3951, 4180, 3837, 2887, 940, 4815, 1654],\n",
              " [58, 1447, 2667, 4474, 314, 3837, 1018, 3893],\n",
              " [2990, 4299, 2117, 3071, 2989, 4862],\n",
              " [3727, 1447, 3980, 1564, 2969, 1063, 1873],\n",
              " [1177, 3504, 787, 2352, 2150, 4924, 3504, 787, 3781],\n",
              " [58, 1447, 27, 207, 3272, 404, 4994, 4815, 4529, 3309, 1446],\n",
              " [3837, 3755, 1167, 2833, 4815, 3725],\n",
              " [2918, 2389, 3935],\n",
              " [2957, 4184, 225],\n",
              " [4386, 2389, 4529, 745],\n",
              " [4247, 1050, 858, 2237, 4773, 4573, 3728],\n",
              " [3685, 1447, 4567, 2564, 3461, 404, 1462],\n",
              " [2057, 4529, 2270, 4938, 4815],\n",
              " [973, 2559, 1840, 1462],\n",
              " [3837, 4274, 3316, 3275, 382, 1167, 4059],\n",
              " [4789, 1007, 2389, 892, 3504, 632, 4815, 4458, 3725],\n",
              " [1050, 1447, 3545, 2620],\n",
              " [3837, 1078, 3770, 2987, 3408, 4172, 765],\n",
              " [3725, 1447, 1540, 715],\n",
              " [3837, 1941, 4291, 2237, 787, 2947],\n",
              " [3837, 1985, 2969, 3837, 3725, 1447, 3758],\n",
              " [1754, 2480, 772],\n",
              " [1050, 3708, 2389, 2954, 4573, 3837, 1007, 1239, 2237, 3792, 1872],\n",
              " [4958, 1050, 1447, 4529, 745],\n",
              " [3837, 1462, 1447, 2841, 3316, 2566, 2034, 2884],\n",
              " [58, 3545, 3081, 2237, 4923, 374, 4474, 4923, 826],\n",
              " [58, 2783, 4789, 643],\n",
              " [2352, 4529, 4923, 374],\n",
              " [2654, 4120, 1872, 2892, 58, 2924, 3837, 3904],\n",
              " [4609, 3755, 3158, 2199, 692, 3244, 3197, 2841],\n",
              " [3727, 1728, 4636, 4474, 3837, 2685, 4950, 3316, 3837, 940, 224, 3908, 397],\n",
              " [3837, 3842, 692, 1447, 4425, 2193, 2969, 3837, 4516, 2596],\n",
              " [3837, 3211, 953, 3837, 697, 973, 333],\n",
              " [1429, 3758, 2389, 973, 2559, 2002],\n",
              " [3755, 1915, 4799, 3640, 4058, 207, 4058],\n",
              " [3837, 2388, 176, 3837, 1197, 1985],\n",
              " [3272, 2259, 2351, 1872, 3316, 1447, 1224, 333],\n",
              " [1050, 2389, 769, 3963, 4474, 2382, 3017, 2718, 708]]"
            ]
          },
          "metadata": {
            "tags": []
          },
          "execution_count": 25
        }
      ]
    },
    {
      "cell_type": "code",
      "metadata": {
        "colab": {
          "base_uri": "https://localhost:8080/"
        },
        "id": "4k3996Rd5zBi",
        "outputId": "2114648f-ae59-4871-eecf-ae5ca853927d"
      },
      "source": [
        "sent_length=20\n",
        "embedded_docs=pad_sequences(onehot_repr,padding='pre',maxlen=sent_length)\n",
        "print(embedded_docs)"
      ],
      "execution_count": null,
      "outputs": [
        {
          "output_type": "stream",
          "text": [
            "[[   0    0    0 ... 4567  745 4832]\n",
            " [   0    0    0 ...   58 3270 3770]\n",
            " [   0    0    0 ...  759 3306 2216]\n",
            " ...\n",
            " [   0    0    0 ... 3837 1197 1985]\n",
            " [   0    0    0 ... 1447 1224  333]\n",
            " [   0    0    0 ... 3017 2718  708]]\n"
          ],
          "name": "stdout"
        }
      ]
    },
    {
      "cell_type": "code",
      "metadata": {
        "colab": {
          "base_uri": "https://localhost:8080/"
        },
        "id": "GYtJCaJp6IQA",
        "outputId": "bce0062f-e81b-4451-98f8-66907d47ec6c"
      },
      "source": [
        "embedded_docs[1]"
      ],
      "execution_count": null,
      "outputs": [
        {
          "output_type": "execute_result",
          "data": {
            "text/plain": [
              "array([   0,    0,    0,    0,    0,    0,    0,    0,    0,    0,    0,\n",
              "          0,    0,    0,    0,    0,    0,   58, 3270, 3770], dtype=int32)"
            ]
          },
          "metadata": {
            "tags": []
          },
          "execution_count": 27
        }
      ]
    },
    {
      "cell_type": "code",
      "metadata": {
        "colab": {
          "base_uri": "https://localhost:8080/"
        },
        "id": "TtoiPl-wExaY",
        "outputId": "b00adf98-64d7-4c58-a473-58423a2cee2a"
      },
      "source": [
        "## Creating model\n",
        "embedding_vector_features=40\n",
        "\n",
        "model=Sequential()\n",
        "\n",
        "model.add(Embedding(voc_size,embedding_vector_features,input_length=sent_length))\n",
        "\n",
        "model.add(Dropout(0.3))\n",
        "\n",
        "model.add(LSTM(100))\n",
        "\n",
        "model.add(Dropout(0.3))\n",
        "\n",
        "model.add(Dense(1,activation='sigmoid'))\n",
        "\n",
        "model.compile(loss='binary_crossentropy',optimizer='adam',metrics=['accuracy'])\n",
        "\n",
        "print(model.summary())"
      ],
      "execution_count": null,
      "outputs": [
        {
          "output_type": "stream",
          "text": [
            "Model: \"sequential\"\n",
            "_________________________________________________________________\n",
            "Layer (type)                 Output Shape              Param #   \n",
            "=================================================================\n",
            "embedding (Embedding)        (None, 20, 40)            200000    \n",
            "_________________________________________________________________\n",
            "dropout (Dropout)            (None, 20, 40)            0         \n",
            "_________________________________________________________________\n",
            "lstm (LSTM)                  (None, 100)               56400     \n",
            "_________________________________________________________________\n",
            "dropout_1 (Dropout)          (None, 100)               0         \n",
            "_________________________________________________________________\n",
            "dense (Dense)                (None, 1)                 101       \n",
            "=================================================================\n",
            "Total params: 256,501\n",
            "Trainable params: 256,501\n",
            "Non-trainable params: 0\n",
            "_________________________________________________________________\n",
            "None\n"
          ],
          "name": "stdout"
        }
      ]
    },
    {
      "cell_type": "code",
      "metadata": {
        "colab": {
          "base_uri": "https://localhost:8080/"
        },
        "id": "CrrVSG7u6QCz",
        "outputId": "85cf08d6-adb8-473c-a1c2-8eb3aee93430"
      },
      "source": [
        "len(embedded_docs)"
      ],
      "execution_count": null,
      "outputs": [
        {
          "output_type": "execute_result",
          "data": {
            "text/plain": [
              "211"
            ]
          },
          "metadata": {
            "tags": []
          },
          "execution_count": 29
        }
      ]
    },
    {
      "cell_type": "code",
      "metadata": {
        "colab": {
          "base_uri": "https://localhost:8080/"
        },
        "id": "kAExOmtGOyE_",
        "outputId": "9c36181f-65ab-4401-84b8-1cb94a9ea6e2"
      },
      "source": [
        "y.shape"
      ],
      "execution_count": null,
      "outputs": [
        {
          "output_type": "execute_result",
          "data": {
            "text/plain": [
              "(211,)"
            ]
          },
          "metadata": {
            "tags": []
          },
          "execution_count": 30
        }
      ]
    },
    {
      "cell_type": "code",
      "metadata": {
        "colab": {
          "base_uri": "https://localhost:8080/"
        },
        "id": "QCLvAoUNO2GS",
        "outputId": "c84d8043-f76b-40b2-9c7b-6c461d968109"
      },
      "source": [
        "y"
      ],
      "execution_count": null,
      "outputs": [
        {
          "output_type": "execute_result",
          "data": {
            "text/plain": [
              "0      1\n",
              "1      1\n",
              "2      0\n",
              "3      1\n",
              "4      1\n",
              "      ..\n",
              "206    0\n",
              "207    0\n",
              "208    0\n",
              "209    0\n",
              "210    0\n",
              "Name: Sentiment, Length: 211, dtype: int64"
            ]
          },
          "metadata": {
            "tags": []
          },
          "execution_count": 31
        }
      ]
    },
    {
      "cell_type": "code",
      "metadata": {
        "id": "7lhWM-EFTDVV"
      },
      "source": [
        "import numpy as np\n",
        "X_final=np.array(embedded_docs)\n",
        "y_final=np.array(y)"
      ],
      "execution_count": null,
      "outputs": []
    },
    {
      "cell_type": "code",
      "metadata": {
        "id": "EJKx1Gl3TJKp",
        "colab": {
          "base_uri": "https://localhost:8080/"
        },
        "outputId": "7f123a57-3358-4ee9-c22b-534a777d6721"
      },
      "source": [
        "X_final.shape,y_final.shape"
      ],
      "execution_count": null,
      "outputs": [
        {
          "output_type": "execute_result",
          "data": {
            "text/plain": [
              "((211, 20), (211,))"
            ]
          },
          "metadata": {
            "tags": []
          },
          "execution_count": 33
        }
      ]
    },
    {
      "cell_type": "code",
      "metadata": {
        "id": "MAyGF68eJ1ij"
      },
      "source": [
        "from sklearn.model_selection import train_test_split\n",
        "X_train, X_test, y_train, y_test = train_test_split(X_final, y_final, test_size=0.33, random_state=42)"
      ],
      "execution_count": null,
      "outputs": []
    },
    {
      "cell_type": "code",
      "metadata": {
        "id": "OjmwiKVG72OU",
        "colab": {
          "base_uri": "https://localhost:8080/"
        },
        "outputId": "bf9a0eb0-9de8-42cf-df9c-71f340fee98a"
      },
      "source": [
        "## Finally Training\n",
        "model.fit(X_train,y_train,validation_data=(X_test,y_test),epochs=10,batch_size=64)"
      ],
      "execution_count": null,
      "outputs": [
        {
          "output_type": "stream",
          "text": [
            "Epoch 1/10\n",
            "3/3 [==============================] - 7s 264ms/step - loss: 0.6935 - accuracy: 0.5248 - val_loss: 0.6954 - val_accuracy: 0.4286\n",
            "Epoch 2/10\n",
            "3/3 [==============================] - 0s 28ms/step - loss: 0.6902 - accuracy: 0.5461 - val_loss: 0.6952 - val_accuracy: 0.4286\n",
            "Epoch 3/10\n",
            "3/3 [==============================] - 0s 27ms/step - loss: 0.6879 - accuracy: 0.5461 - val_loss: 0.6963 - val_accuracy: 0.4286\n",
            "Epoch 4/10\n",
            "3/3 [==============================] - 0s 24ms/step - loss: 0.6859 - accuracy: 0.5461 - val_loss: 0.6987 - val_accuracy: 0.4286\n",
            "Epoch 5/10\n",
            "3/3 [==============================] - 0s 24ms/step - loss: 0.6807 - accuracy: 0.5461 - val_loss: 0.7045 - val_accuracy: 0.4286\n",
            "Epoch 6/10\n",
            "3/3 [==============================] - 0s 24ms/step - loss: 0.6746 - accuracy: 0.5461 - val_loss: 0.7194 - val_accuracy: 0.4286\n",
            "Epoch 7/10\n",
            "3/3 [==============================] - 0s 23ms/step - loss: 0.6700 - accuracy: 0.5461 - val_loss: 0.7358 - val_accuracy: 0.4286\n",
            "Epoch 8/10\n",
            "3/3 [==============================] - 0s 24ms/step - loss: 0.6652 - accuracy: 0.5461 - val_loss: 0.7268 - val_accuracy: 0.4286\n",
            "Epoch 9/10\n",
            "3/3 [==============================] - 0s 27ms/step - loss: 0.6532 - accuracy: 0.5461 - val_loss: 0.6992 - val_accuracy: 0.4429\n",
            "Epoch 10/10\n",
            "3/3 [==============================] - 0s 23ms/step - loss: 0.6456 - accuracy: 0.5957 - val_loss: 0.6856 - val_accuracy: 0.5286\n"
          ],
          "name": "stdout"
        },
        {
          "output_type": "execute_result",
          "data": {
            "text/plain": [
              "<tensorflow.python.keras.callbacks.History at 0x7f02c51c1e10>"
            ]
          },
          "metadata": {
            "tags": []
          },
          "execution_count": 35
        }
      ]
    },
    {
      "cell_type": "code",
      "metadata": {
        "id": "YdRoF7PcFICU",
        "colab": {
          "base_uri": "https://localhost:8080/"
        },
        "outputId": "f493ba68-b6b1-4f6b-c6ba-e3562f9cbb0b"
      },
      "source": [
        "score,acc = model.evaluate(X_test, y_test, verbose = 2, batch_size = 64)\n",
        "print(\"score: %.2f\" % (score))\n",
        "print(\"acc: %.2f\" % (acc))"
      ],
      "execution_count": null,
      "outputs": [
        {
          "output_type": "stream",
          "text": [
            "2/2 - 0s - loss: 0.6856 - accuracy: 0.5286\n",
            "score: 0.69\n",
            "acc: 0.53\n"
          ],
          "name": "stdout"
        }
      ]
    },
    {
      "cell_type": "code",
      "metadata": {
        "colab": {
          "base_uri": "https://localhost:8080/"
        },
        "id": "8r6zmhBimual",
        "outputId": "03721c71-f0e9-4342-dab4-a4dcf8bd080f"
      },
      "source": [
        "model.save('model.h5')\n",
        "print(\"Saved model to disk\")"
      ],
      "execution_count": null,
      "outputs": [
        {
          "output_type": "stream",
          "text": [
            "Saved model to disk\n"
          ],
          "name": "stdout"
        }
      ]
    },
    {
      "cell_type": "code",
      "metadata": {
        "colab": {
          "base_uri": "https://localhost:8080/"
        },
        "id": "7alOUsjRJNrZ",
        "outputId": "f2cd3aa4-a480-4815-e4dd-f8604707c62c"
      },
      "source": [
        "from keras.models import load_model\n",
        "model=load_model('model.h5')\n",
        "print(\"model loaded\")"
      ],
      "execution_count": null,
      "outputs": [
        {
          "output_type": "stream",
          "text": [
            "model loaded\n"
          ],
          "name": "stdout"
        }
      ]
    },
    {
      "cell_type": "code",
      "metadata": {
        "id": "l0qyur25lGaW"
      },
      "source": [
        ""
      ],
      "execution_count": null,
      "outputs": []
    },
    {
      "cell_type": "code",
      "metadata": {
        "colab": {
          "base_uri": "https://localhost:8080/"
        },
        "id": "FQq0lmGXJWYW",
        "outputId": "76d15ddb-e7b5-4a98-9f50-131e6212bb5f"
      },
      "source": [
        "y_pred=model.predict_classes(X_test)"
      ],
      "execution_count": null,
      "outputs": [
        {
          "output_type": "stream",
          "text": [
            "/usr/local/lib/python3.7/dist-packages/tensorflow/python/keras/engine/sequential.py:455: UserWarning: `model.predict_classes()` is deprecated and will be removed after 2021-01-01. Please use instead:* `np.argmax(model.predict(x), axis=-1)`,   if your model does multi-class classification   (e.g. if it uses a `softmax` last-layer activation).* `(model.predict(x) > 0.5).astype(\"int32\")`,   if your model does binary classification   (e.g. if it uses a `sigmoid` last-layer activation).\n",
            "  warnings.warn('`model.predict_classes()` is deprecated and '\n"
          ],
          "name": "stderr"
        }
      ]
    },
    {
      "cell_type": "code",
      "metadata": {
        "id": "y6rudZ-R8gT6"
      },
      "source": [
        "from sklearn.metrics import confusion_matrix"
      ],
      "execution_count": null,
      "outputs": []
    },
    {
      "cell_type": "code",
      "metadata": {
        "colab": {
          "base_uri": "https://localhost:8080/"
        },
        "id": "-zDo6H-C8ojz",
        "outputId": "815cc4a2-c7dc-42e7-f7c9-5c34bec1e30a"
      },
      "source": [
        "confusion_matrix(y_test,y_pred)"
      ],
      "execution_count": null,
      "outputs": [
        {
          "output_type": "execute_result",
          "data": {
            "text/plain": [
              "array([[ 8, 32],\n",
              "       [ 0, 30]])"
            ]
          },
          "metadata": {
            "tags": []
          },
          "execution_count": 152
        }
      ]
    },
    {
      "cell_type": "code",
      "metadata": {
        "colab": {
          "base_uri": "https://localhost:8080/"
        },
        "id": "qZy-UgqV8sY0",
        "outputId": "b710172c-153b-4631-e49e-472433d88be2"
      },
      "source": [
        "from sklearn.metrics import accuracy_score\n",
        "accuracy_score(y_test,y_pred)"
      ],
      "execution_count": null,
      "outputs": [
        {
          "output_type": "execute_result",
          "data": {
            "text/plain": [
              "0.5428571428571428"
            ]
          },
          "metadata": {
            "tags": []
          },
          "execution_count": 153
        }
      ]
    },
    {
      "cell_type": "code",
      "metadata": {
        "colab": {
          "base_uri": "https://localhost:8080/"
        },
        "id": "WRQe51Ae_QC3",
        "outputId": "8d0b8831-31d1-4feb-a8f4-941851182f22"
      },
      "source": [
        "from sklearn.metrics import classification_report\n",
        "print(classification_report(y_test,y_pred))"
      ],
      "execution_count": null,
      "outputs": [
        {
          "output_type": "stream",
          "text": [
            "              precision    recall  f1-score   support\n",
            "\n",
            "           0       1.00      0.20      0.33        40\n",
            "           1       0.48      1.00      0.65        30\n",
            "\n",
            "    accuracy                           0.54        70\n",
            "   macro avg       0.74      0.60      0.49        70\n",
            "weighted avg       0.78      0.54      0.47        70\n",
            "\n"
          ],
          "name": "stdout"
        }
      ]
    },
    {
      "cell_type": "code",
      "metadata": {
        "colab": {
          "base_uri": "https://localhost:8080/"
        },
        "id": "MkUZNW1ZE3ft",
        "outputId": "248c3cab-8c1d-4b12-f0b5-78f4b5e2e828"
      },
      "source": [
        "y = pd.get_dummies(df['Sentiment']).values\n",
        "X_train, X_test, y_train, y_test = train_test_split(X,y, test_size = 0.33, random_state = 42)\n",
        "print(X_train.shape,y_train.shape)\n",
        "print(X_test.shape,y_test.shape)"
      ],
      "execution_count": null,
      "outputs": [
        {
          "output_type": "stream",
          "text": [
            "(141, 3) (141, 2)\n",
            "(70, 3) (70, 2)\n"
          ],
          "name": "stdout"
        }
      ]
    },
    {
      "cell_type": "code",
      "metadata": {
        "id": "FRKEwKqrFNs8",
        "colab": {
          "base_uri": "https://localhost:8080/",
          "height": 760
        },
        "outputId": "4d220de2-b5f7-48d0-8e43-b9027aaf0566"
      },
      "source": [
        "pos_cnt, neg_cnt, pos_correct, neg_correct = 0, 0, 0, 0\n",
        "for x in range(len(X_test)):\n",
        "    \n",
        "    result = model.predict_classes(X_test)\n",
        "   \n",
        "    if np.argmax(result) == np.argmax(y_test[x]):\n",
        "        if np.argmax(y_test[x]) == 0:\n",
        "            neg_correct += 1\n",
        "        else:\n",
        "            pos_correct += 1\n",
        "       \n",
        "    if np.argmax(y_test[x]) == 0:\n",
        "        neg_cnt += 1\n",
        "    else:\n",
        "        pos_cnt += 1\n",
        "\n",
        "\n",
        "\n",
        "print(\"pos_acc\", pos_correct/pos_cnt*100, \"%\")\n",
        "print(\"neg_acc\", neg_correct/neg_cnt*100, \"%\")"
      ],
      "execution_count": null,
      "outputs": [
        {
          "output_type": "stream",
          "text": [
            "/usr/local/lib/python3.7/dist-packages/tensorflow/python/keras/engine/sequential.py:455: UserWarning: `model.predict_classes()` is deprecated and will be removed after 2021-01-01. Please use instead:* `np.argmax(model.predict(x), axis=-1)`,   if your model does multi-class classification   (e.g. if it uses a `softmax` last-layer activation).* `(model.predict(x) > 0.5).astype(\"int32\")`,   if your model does binary classification   (e.g. if it uses a `sigmoid` last-layer activation).\n",
            "  warnings.warn('`model.predict_classes()` is deprecated and '\n"
          ],
          "name": "stderr"
        },
        {
          "output_type": "error",
          "ename": "ValueError",
          "evalue": "ignored",
          "traceback": [
            "\u001b[0;31m---------------------------------------------------------------------------\u001b[0m",
            "\u001b[0;31mTypeError\u001b[0m                                 Traceback (most recent call last)",
            "\u001b[0;32m/usr/local/lib/python3.7/dist-packages/tensorflow/python/data/util/structure.py\u001b[0m in \u001b[0;36mnormalize_element\u001b[0;34m(element, element_signature)\u001b[0m\n\u001b[1;32m    105\u001b[0m         \u001b[0;32mif\u001b[0m \u001b[0mspec\u001b[0m \u001b[0;32mis\u001b[0m \u001b[0;32mNone\u001b[0m\u001b[0;34m:\u001b[0m\u001b[0;34m\u001b[0m\u001b[0;34m\u001b[0m\u001b[0m\n\u001b[0;32m--> 106\u001b[0;31m           \u001b[0mspec\u001b[0m \u001b[0;34m=\u001b[0m \u001b[0mtype_spec_from_value\u001b[0m\u001b[0;34m(\u001b[0m\u001b[0mt\u001b[0m\u001b[0;34m,\u001b[0m \u001b[0muse_fallback\u001b[0m\u001b[0;34m=\u001b[0m\u001b[0;32mFalse\u001b[0m\u001b[0;34m)\u001b[0m\u001b[0;34m\u001b[0m\u001b[0;34m\u001b[0m\u001b[0m\n\u001b[0m\u001b[1;32m    107\u001b[0m       \u001b[0;32mexcept\u001b[0m \u001b[0mTypeError\u001b[0m\u001b[0;34m:\u001b[0m\u001b[0;34m\u001b[0m\u001b[0;34m\u001b[0m\u001b[0m\n",
            "\u001b[0;32m/usr/local/lib/python3.7/dist-packages/tensorflow/python/data/util/structure.py\u001b[0m in \u001b[0;36mtype_spec_from_value\u001b[0;34m(element, use_fallback)\u001b[0m\n\u001b[1;32m    479\u001b[0m   raise TypeError(\"Could not build a TypeSpec for %r with type %s\" %\n\u001b[0;32m--> 480\u001b[0;31m                   (element, type(element).__name__))\n\u001b[0m\u001b[1;32m    481\u001b[0m \u001b[0;34m\u001b[0m\u001b[0m\n",
            "\u001b[0;31mTypeError\u001b[0m: Could not build a TypeSpec for      Label     Time                                               Data\n30      30  12.37am                           he loves to play cricket\n173    173  11.34am          They betrayed the whole Family for money.\n140    140   1.21am                         I’m very happy to met you.\n75      75  07.00am  Emotional pain will always hurt more than phys...\n60      60  10.45am                                 donot trust anyone\n..     ...      ...                                                ...\n65      65   2.32am                     Happy he who has ears to hear.\n122    122   1.15pm  It’s hard to forget someone that gives you so ...\n180    180  12.06am                                everything is off .\n31      31  12.12pm                    Johnny enjoys watching cartoons\n12      12   6.15pm                                      Love Yourself\n\n[70 rows x 3 columns] with type DataFrame",
            "\nDuring handling of the above exception, another exception occurred:\n",
            "\u001b[0;31mValueError\u001b[0m                                Traceback (most recent call last)",
            "\u001b[0;32m<ipython-input-157-5814da59b924>\u001b[0m in \u001b[0;36m<module>\u001b[0;34m()\u001b[0m\n\u001b[1;32m      2\u001b[0m \u001b[0;32mfor\u001b[0m \u001b[0mx\u001b[0m \u001b[0;32min\u001b[0m \u001b[0mrange\u001b[0m\u001b[0;34m(\u001b[0m\u001b[0mlen\u001b[0m\u001b[0;34m(\u001b[0m\u001b[0mX_test\u001b[0m\u001b[0;34m)\u001b[0m\u001b[0;34m)\u001b[0m\u001b[0;34m:\u001b[0m\u001b[0;34m\u001b[0m\u001b[0;34m\u001b[0m\u001b[0m\n\u001b[1;32m      3\u001b[0m \u001b[0;34m\u001b[0m\u001b[0m\n\u001b[0;32m----> 4\u001b[0;31m     \u001b[0mresult\u001b[0m \u001b[0;34m=\u001b[0m \u001b[0mmodel\u001b[0m\u001b[0;34m.\u001b[0m\u001b[0mpredict_classes\u001b[0m\u001b[0;34m(\u001b[0m\u001b[0mX_test\u001b[0m\u001b[0;34m)\u001b[0m\u001b[0;34m\u001b[0m\u001b[0;34m\u001b[0m\u001b[0m\n\u001b[0m\u001b[1;32m      5\u001b[0m \u001b[0;34m\u001b[0m\u001b[0m\n\u001b[1;32m      6\u001b[0m     \u001b[0;32mif\u001b[0m \u001b[0mnp\u001b[0m\u001b[0;34m.\u001b[0m\u001b[0margmax\u001b[0m\u001b[0;34m(\u001b[0m\u001b[0mresult\u001b[0m\u001b[0;34m)\u001b[0m \u001b[0;34m==\u001b[0m \u001b[0mnp\u001b[0m\u001b[0;34m.\u001b[0m\u001b[0margmax\u001b[0m\u001b[0;34m(\u001b[0m\u001b[0my_test\u001b[0m\u001b[0;34m[\u001b[0m\u001b[0mx\u001b[0m\u001b[0;34m]\u001b[0m\u001b[0;34m)\u001b[0m\u001b[0;34m:\u001b[0m\u001b[0;34m\u001b[0m\u001b[0;34m\u001b[0m\u001b[0m\n",
            "\u001b[0;32m/usr/local/lib/python3.7/dist-packages/tensorflow/python/keras/engine/sequential.py\u001b[0m in \u001b[0;36mpredict_classes\u001b[0;34m(self, x, batch_size, verbose)\u001b[0m\n\u001b[1;32m    462\u001b[0m                   \u001b[0;34m'  if your model does binary classification '\u001b[0m\u001b[0;34m\u001b[0m\u001b[0;34m\u001b[0m\u001b[0m\n\u001b[1;32m    463\u001b[0m                   '  (e.g. if it uses a `sigmoid` last-layer activation).')\n\u001b[0;32m--> 464\u001b[0;31m     \u001b[0mproba\u001b[0m \u001b[0;34m=\u001b[0m \u001b[0mself\u001b[0m\u001b[0;34m.\u001b[0m\u001b[0mpredict\u001b[0m\u001b[0;34m(\u001b[0m\u001b[0mx\u001b[0m\u001b[0;34m,\u001b[0m \u001b[0mbatch_size\u001b[0m\u001b[0;34m=\u001b[0m\u001b[0mbatch_size\u001b[0m\u001b[0;34m,\u001b[0m \u001b[0mverbose\u001b[0m\u001b[0;34m=\u001b[0m\u001b[0mverbose\u001b[0m\u001b[0;34m)\u001b[0m\u001b[0;34m\u001b[0m\u001b[0;34m\u001b[0m\u001b[0m\n\u001b[0m\u001b[1;32m    465\u001b[0m     \u001b[0;32mif\u001b[0m \u001b[0mproba\u001b[0m\u001b[0;34m.\u001b[0m\u001b[0mshape\u001b[0m\u001b[0;34m[\u001b[0m\u001b[0;34m-\u001b[0m\u001b[0;36m1\u001b[0m\u001b[0;34m]\u001b[0m \u001b[0;34m>\u001b[0m \u001b[0;36m1\u001b[0m\u001b[0;34m:\u001b[0m\u001b[0;34m\u001b[0m\u001b[0;34m\u001b[0m\u001b[0m\n\u001b[1;32m    466\u001b[0m       \u001b[0;32mreturn\u001b[0m \u001b[0mproba\u001b[0m\u001b[0;34m.\u001b[0m\u001b[0margmax\u001b[0m\u001b[0;34m(\u001b[0m\u001b[0maxis\u001b[0m\u001b[0;34m=\u001b[0m\u001b[0;34m-\u001b[0m\u001b[0;36m1\u001b[0m\u001b[0;34m)\u001b[0m\u001b[0;34m\u001b[0m\u001b[0;34m\u001b[0m\u001b[0m\n",
            "\u001b[0;32m/usr/local/lib/python3.7/dist-packages/tensorflow/python/keras/engine/training.py\u001b[0m in \u001b[0;36mpredict\u001b[0;34m(self, x, batch_size, verbose, steps, callbacks, max_queue_size, workers, use_multiprocessing)\u001b[0m\n\u001b[1;32m   1704\u001b[0m           \u001b[0muse_multiprocessing\u001b[0m\u001b[0;34m=\u001b[0m\u001b[0muse_multiprocessing\u001b[0m\u001b[0;34m,\u001b[0m\u001b[0;34m\u001b[0m\u001b[0;34m\u001b[0m\u001b[0m\n\u001b[1;32m   1705\u001b[0m           \u001b[0mmodel\u001b[0m\u001b[0;34m=\u001b[0m\u001b[0mself\u001b[0m\u001b[0;34m,\u001b[0m\u001b[0;34m\u001b[0m\u001b[0;34m\u001b[0m\u001b[0m\n\u001b[0;32m-> 1706\u001b[0;31m           steps_per_execution=self._steps_per_execution)\n\u001b[0m\u001b[1;32m   1707\u001b[0m \u001b[0;34m\u001b[0m\u001b[0m\n\u001b[1;32m   1708\u001b[0m       \u001b[0;31m# Container that configures and calls `tf.keras.Callback`s.\u001b[0m\u001b[0;34m\u001b[0m\u001b[0;34m\u001b[0m\u001b[0;34m\u001b[0m\u001b[0m\n",
            "\u001b[0;32m/usr/local/lib/python3.7/dist-packages/tensorflow/python/keras/engine/data_adapter.py\u001b[0m in \u001b[0;36mget_data_handler\u001b[0;34m(*args, **kwargs)\u001b[0m\n\u001b[1;32m   1362\u001b[0m   \u001b[0;32mif\u001b[0m \u001b[0mgetattr\u001b[0m\u001b[0;34m(\u001b[0m\u001b[0mkwargs\u001b[0m\u001b[0;34m[\u001b[0m\u001b[0;34m\"model\"\u001b[0m\u001b[0;34m]\u001b[0m\u001b[0;34m,\u001b[0m \u001b[0;34m\"_cluster_coordinator\"\u001b[0m\u001b[0;34m,\u001b[0m \u001b[0;32mNone\u001b[0m\u001b[0;34m)\u001b[0m\u001b[0;34m:\u001b[0m\u001b[0;34m\u001b[0m\u001b[0;34m\u001b[0m\u001b[0m\n\u001b[1;32m   1363\u001b[0m     \u001b[0;32mreturn\u001b[0m \u001b[0m_ClusterCoordinatorDataHandler\u001b[0m\u001b[0;34m(\u001b[0m\u001b[0;34m*\u001b[0m\u001b[0margs\u001b[0m\u001b[0;34m,\u001b[0m \u001b[0;34m**\u001b[0m\u001b[0mkwargs\u001b[0m\u001b[0;34m)\u001b[0m\u001b[0;34m\u001b[0m\u001b[0;34m\u001b[0m\u001b[0m\n\u001b[0;32m-> 1364\u001b[0;31m   \u001b[0;32mreturn\u001b[0m \u001b[0mDataHandler\u001b[0m\u001b[0;34m(\u001b[0m\u001b[0;34m*\u001b[0m\u001b[0margs\u001b[0m\u001b[0;34m,\u001b[0m \u001b[0;34m**\u001b[0m\u001b[0mkwargs\u001b[0m\u001b[0;34m)\u001b[0m\u001b[0;34m\u001b[0m\u001b[0;34m\u001b[0m\u001b[0m\n\u001b[0m\u001b[1;32m   1365\u001b[0m \u001b[0;34m\u001b[0m\u001b[0m\n\u001b[1;32m   1366\u001b[0m \u001b[0;34m\u001b[0m\u001b[0m\n",
            "\u001b[0;32m/usr/local/lib/python3.7/dist-packages/tensorflow/python/keras/engine/data_adapter.py\u001b[0m in \u001b[0;36m__init__\u001b[0;34m(self, x, y, sample_weight, batch_size, steps_per_epoch, initial_epoch, epochs, shuffle, class_weight, max_queue_size, workers, use_multiprocessing, model, steps_per_execution, distribute)\u001b[0m\n\u001b[1;32m   1164\u001b[0m         \u001b[0muse_multiprocessing\u001b[0m\u001b[0;34m=\u001b[0m\u001b[0muse_multiprocessing\u001b[0m\u001b[0;34m,\u001b[0m\u001b[0;34m\u001b[0m\u001b[0;34m\u001b[0m\u001b[0m\n\u001b[1;32m   1165\u001b[0m         \u001b[0mdistribution_strategy\u001b[0m\u001b[0;34m=\u001b[0m\u001b[0mds_context\u001b[0m\u001b[0;34m.\u001b[0m\u001b[0mget_strategy\u001b[0m\u001b[0;34m(\u001b[0m\u001b[0;34m)\u001b[0m\u001b[0;34m,\u001b[0m\u001b[0;34m\u001b[0m\u001b[0;34m\u001b[0m\u001b[0m\n\u001b[0;32m-> 1166\u001b[0;31m         model=model)\n\u001b[0m\u001b[1;32m   1167\u001b[0m \u001b[0;34m\u001b[0m\u001b[0m\n\u001b[1;32m   1168\u001b[0m     \u001b[0mstrategy\u001b[0m \u001b[0;34m=\u001b[0m \u001b[0mds_context\u001b[0m\u001b[0;34m.\u001b[0m\u001b[0mget_strategy\u001b[0m\u001b[0;34m(\u001b[0m\u001b[0;34m)\u001b[0m\u001b[0;34m\u001b[0m\u001b[0;34m\u001b[0m\u001b[0m\n",
            "\u001b[0;32m/usr/local/lib/python3.7/dist-packages/tensorflow/python/keras/engine/data_adapter.py\u001b[0m in \u001b[0;36m__init__\u001b[0;34m(self, x, y, sample_weights, sample_weight_modes, batch_size, epochs, steps, shuffle, **kwargs)\u001b[0m\n\u001b[1;32m    337\u001b[0m     \u001b[0mindices_dataset\u001b[0m \u001b[0;34m=\u001b[0m \u001b[0mindices_dataset\u001b[0m\u001b[0;34m.\u001b[0m\u001b[0mflat_map\u001b[0m\u001b[0;34m(\u001b[0m\u001b[0mslice_batch_indices\u001b[0m\u001b[0;34m)\u001b[0m\u001b[0;34m\u001b[0m\u001b[0;34m\u001b[0m\u001b[0m\n\u001b[1;32m    338\u001b[0m \u001b[0;34m\u001b[0m\u001b[0m\n\u001b[0;32m--> 339\u001b[0;31m     \u001b[0mdataset\u001b[0m \u001b[0;34m=\u001b[0m \u001b[0mself\u001b[0m\u001b[0;34m.\u001b[0m\u001b[0mslice_inputs\u001b[0m\u001b[0;34m(\u001b[0m\u001b[0mindices_dataset\u001b[0m\u001b[0;34m,\u001b[0m \u001b[0minputs\u001b[0m\u001b[0;34m)\u001b[0m\u001b[0;34m\u001b[0m\u001b[0;34m\u001b[0m\u001b[0m\n\u001b[0m\u001b[1;32m    340\u001b[0m \u001b[0;34m\u001b[0m\u001b[0m\n\u001b[1;32m    341\u001b[0m     \u001b[0;32mif\u001b[0m \u001b[0mshuffle\u001b[0m \u001b[0;34m==\u001b[0m \u001b[0;34m\"batch\"\u001b[0m\u001b[0;34m:\u001b[0m\u001b[0;34m\u001b[0m\u001b[0;34m\u001b[0m\u001b[0m\n",
            "\u001b[0;32m/usr/local/lib/python3.7/dist-packages/tensorflow/python/keras/engine/data_adapter.py\u001b[0m in \u001b[0;36mslice_inputs\u001b[0;34m(self, indices_dataset, inputs)\u001b[0m\n\u001b[1;32m    363\u001b[0m     dataset = dataset_ops.DatasetV2.zip((\n\u001b[1;32m    364\u001b[0m         \u001b[0mindices_dataset\u001b[0m\u001b[0;34m,\u001b[0m\u001b[0;34m\u001b[0m\u001b[0;34m\u001b[0m\u001b[0m\n\u001b[0;32m--> 365\u001b[0;31m         \u001b[0mdataset_ops\u001b[0m\u001b[0;34m.\u001b[0m\u001b[0mDatasetV2\u001b[0m\u001b[0;34m.\u001b[0m\u001b[0mfrom_tensors\u001b[0m\u001b[0;34m(\u001b[0m\u001b[0minputs\u001b[0m\u001b[0;34m)\u001b[0m\u001b[0;34m.\u001b[0m\u001b[0mrepeat\u001b[0m\u001b[0;34m(\u001b[0m\u001b[0;34m)\u001b[0m\u001b[0;34m\u001b[0m\u001b[0;34m\u001b[0m\u001b[0m\n\u001b[0m\u001b[1;32m    366\u001b[0m     ))\n\u001b[1;32m    367\u001b[0m \u001b[0;34m\u001b[0m\u001b[0m\n",
            "\u001b[0;32m/usr/local/lib/python3.7/dist-packages/tensorflow/python/data/ops/dataset_ops.py\u001b[0m in \u001b[0;36mfrom_tensors\u001b[0;34m(tensors)\u001b[0m\n\u001b[1;32m    679\u001b[0m       \u001b[0mDataset\u001b[0m\u001b[0;34m:\u001b[0m \u001b[0mA\u001b[0m\u001b[0;31m \u001b[0m\u001b[0;31m`\u001b[0m\u001b[0mDataset\u001b[0m\u001b[0;31m`\u001b[0m\u001b[0;34m.\u001b[0m\u001b[0;34m\u001b[0m\u001b[0;34m\u001b[0m\u001b[0m\n\u001b[1;32m    680\u001b[0m     \"\"\"\n\u001b[0;32m--> 681\u001b[0;31m     \u001b[0;32mreturn\u001b[0m \u001b[0mTensorDataset\u001b[0m\u001b[0;34m(\u001b[0m\u001b[0mtensors\u001b[0m\u001b[0;34m)\u001b[0m\u001b[0;34m\u001b[0m\u001b[0;34m\u001b[0m\u001b[0m\n\u001b[0m\u001b[1;32m    682\u001b[0m \u001b[0;34m\u001b[0m\u001b[0m\n\u001b[1;32m    683\u001b[0m   \u001b[0;34m@\u001b[0m\u001b[0mstaticmethod\u001b[0m\u001b[0;34m\u001b[0m\u001b[0;34m\u001b[0m\u001b[0m\n",
            "\u001b[0;32m/usr/local/lib/python3.7/dist-packages/tensorflow/python/data/ops/dataset_ops.py\u001b[0m in \u001b[0;36m__init__\u001b[0;34m(self, element)\u001b[0m\n\u001b[1;32m   3299\u001b[0m   \u001b[0;32mdef\u001b[0m \u001b[0m__init__\u001b[0m\u001b[0;34m(\u001b[0m\u001b[0mself\u001b[0m\u001b[0;34m,\u001b[0m \u001b[0melement\u001b[0m\u001b[0;34m)\u001b[0m\u001b[0;34m:\u001b[0m\u001b[0;34m\u001b[0m\u001b[0;34m\u001b[0m\u001b[0m\n\u001b[1;32m   3300\u001b[0m     \u001b[0;34m\"\"\"See `Dataset.from_tensors()` for details.\"\"\"\u001b[0m\u001b[0;34m\u001b[0m\u001b[0;34m\u001b[0m\u001b[0m\n\u001b[0;32m-> 3301\u001b[0;31m     \u001b[0melement\u001b[0m \u001b[0;34m=\u001b[0m \u001b[0mstructure\u001b[0m\u001b[0;34m.\u001b[0m\u001b[0mnormalize_element\u001b[0m\u001b[0;34m(\u001b[0m\u001b[0melement\u001b[0m\u001b[0;34m)\u001b[0m\u001b[0;34m\u001b[0m\u001b[0;34m\u001b[0m\u001b[0m\n\u001b[0m\u001b[1;32m   3302\u001b[0m     \u001b[0mself\u001b[0m\u001b[0;34m.\u001b[0m\u001b[0m_structure\u001b[0m \u001b[0;34m=\u001b[0m \u001b[0mstructure\u001b[0m\u001b[0;34m.\u001b[0m\u001b[0mtype_spec_from_value\u001b[0m\u001b[0;34m(\u001b[0m\u001b[0melement\u001b[0m\u001b[0;34m)\u001b[0m\u001b[0;34m\u001b[0m\u001b[0;34m\u001b[0m\u001b[0m\n\u001b[1;32m   3303\u001b[0m     \u001b[0mself\u001b[0m\u001b[0;34m.\u001b[0m\u001b[0m_tensors\u001b[0m \u001b[0;34m=\u001b[0m \u001b[0mstructure\u001b[0m\u001b[0;34m.\u001b[0m\u001b[0mto_tensor_list\u001b[0m\u001b[0;34m(\u001b[0m\u001b[0mself\u001b[0m\u001b[0;34m.\u001b[0m\u001b[0m_structure\u001b[0m\u001b[0;34m,\u001b[0m \u001b[0melement\u001b[0m\u001b[0;34m)\u001b[0m\u001b[0;34m\u001b[0m\u001b[0;34m\u001b[0m\u001b[0m\n",
            "\u001b[0;32m/usr/local/lib/python3.7/dist-packages/tensorflow/python/data/util/structure.py\u001b[0m in \u001b[0;36mnormalize_element\u001b[0;34m(element, element_signature)\u001b[0m\n\u001b[1;32m    109\u001b[0m         \u001b[0;31m# the value. As a fallback try converting the value to a tensor.\u001b[0m\u001b[0;34m\u001b[0m\u001b[0;34m\u001b[0m\u001b[0;34m\u001b[0m\u001b[0m\n\u001b[1;32m    110\u001b[0m         normalized_components.append(\n\u001b[0;32m--> 111\u001b[0;31m             ops.convert_to_tensor(t, name=\"component_%d\" % i))\n\u001b[0m\u001b[1;32m    112\u001b[0m       \u001b[0;32melse\u001b[0m\u001b[0;34m:\u001b[0m\u001b[0;34m\u001b[0m\u001b[0;34m\u001b[0m\u001b[0m\n\u001b[1;32m    113\u001b[0m         \u001b[0;32mif\u001b[0m \u001b[0misinstance\u001b[0m\u001b[0;34m(\u001b[0m\u001b[0mspec\u001b[0m\u001b[0;34m,\u001b[0m \u001b[0msparse_tensor\u001b[0m\u001b[0;34m.\u001b[0m\u001b[0mSparseTensorSpec\u001b[0m\u001b[0;34m)\u001b[0m\u001b[0;34m:\u001b[0m\u001b[0;34m\u001b[0m\u001b[0;34m\u001b[0m\u001b[0m\n",
            "\u001b[0;32m/usr/local/lib/python3.7/dist-packages/tensorflow/python/profiler/trace.py\u001b[0m in \u001b[0;36mwrapped\u001b[0;34m(*args, **kwargs)\u001b[0m\n\u001b[1;32m    161\u001b[0m         \u001b[0;32mwith\u001b[0m \u001b[0mTrace\u001b[0m\u001b[0;34m(\u001b[0m\u001b[0mtrace_name\u001b[0m\u001b[0;34m,\u001b[0m \u001b[0;34m**\u001b[0m\u001b[0mtrace_kwargs\u001b[0m\u001b[0;34m)\u001b[0m\u001b[0;34m:\u001b[0m\u001b[0;34m\u001b[0m\u001b[0;34m\u001b[0m\u001b[0m\n\u001b[1;32m    162\u001b[0m           \u001b[0;32mreturn\u001b[0m \u001b[0mfunc\u001b[0m\u001b[0;34m(\u001b[0m\u001b[0;34m*\u001b[0m\u001b[0margs\u001b[0m\u001b[0;34m,\u001b[0m \u001b[0;34m**\u001b[0m\u001b[0mkwargs\u001b[0m\u001b[0;34m)\u001b[0m\u001b[0;34m\u001b[0m\u001b[0;34m\u001b[0m\u001b[0m\n\u001b[0;32m--> 163\u001b[0;31m       \u001b[0;32mreturn\u001b[0m \u001b[0mfunc\u001b[0m\u001b[0;34m(\u001b[0m\u001b[0;34m*\u001b[0m\u001b[0margs\u001b[0m\u001b[0;34m,\u001b[0m \u001b[0;34m**\u001b[0m\u001b[0mkwargs\u001b[0m\u001b[0;34m)\u001b[0m\u001b[0;34m\u001b[0m\u001b[0;34m\u001b[0m\u001b[0m\n\u001b[0m\u001b[1;32m    164\u001b[0m \u001b[0;34m\u001b[0m\u001b[0m\n\u001b[1;32m    165\u001b[0m     \u001b[0;32mreturn\u001b[0m \u001b[0mwrapped\u001b[0m\u001b[0;34m\u001b[0m\u001b[0;34m\u001b[0m\u001b[0m\n",
            "\u001b[0;32m/usr/local/lib/python3.7/dist-packages/tensorflow/python/framework/ops.py\u001b[0m in \u001b[0;36mconvert_to_tensor\u001b[0;34m(value, dtype, name, as_ref, preferred_dtype, dtype_hint, ctx, accepted_result_types)\u001b[0m\n\u001b[1;32m   1564\u001b[0m \u001b[0;34m\u001b[0m\u001b[0m\n\u001b[1;32m   1565\u001b[0m     \u001b[0;32mif\u001b[0m \u001b[0mret\u001b[0m \u001b[0;32mis\u001b[0m \u001b[0;32mNone\u001b[0m\u001b[0;34m:\u001b[0m\u001b[0;34m\u001b[0m\u001b[0;34m\u001b[0m\u001b[0m\n\u001b[0;32m-> 1566\u001b[0;31m       \u001b[0mret\u001b[0m \u001b[0;34m=\u001b[0m \u001b[0mconversion_func\u001b[0m\u001b[0;34m(\u001b[0m\u001b[0mvalue\u001b[0m\u001b[0;34m,\u001b[0m \u001b[0mdtype\u001b[0m\u001b[0;34m=\u001b[0m\u001b[0mdtype\u001b[0m\u001b[0;34m,\u001b[0m \u001b[0mname\u001b[0m\u001b[0;34m=\u001b[0m\u001b[0mname\u001b[0m\u001b[0;34m,\u001b[0m \u001b[0mas_ref\u001b[0m\u001b[0;34m=\u001b[0m\u001b[0mas_ref\u001b[0m\u001b[0;34m)\u001b[0m\u001b[0;34m\u001b[0m\u001b[0;34m\u001b[0m\u001b[0m\n\u001b[0m\u001b[1;32m   1567\u001b[0m \u001b[0;34m\u001b[0m\u001b[0m\n\u001b[1;32m   1568\u001b[0m     \u001b[0;32mif\u001b[0m \u001b[0mret\u001b[0m \u001b[0;32mis\u001b[0m \u001b[0mNotImplemented\u001b[0m\u001b[0;34m:\u001b[0m\u001b[0;34m\u001b[0m\u001b[0;34m\u001b[0m\u001b[0m\n",
            "\u001b[0;32m/usr/local/lib/python3.7/dist-packages/tensorflow/python/framework/constant_op.py\u001b[0m in \u001b[0;36m_constant_tensor_conversion_function\u001b[0;34m(v, dtype, name, as_ref)\u001b[0m\n\u001b[1;32m    337\u001b[0m                                          as_ref=False):\n\u001b[1;32m    338\u001b[0m   \u001b[0m_\u001b[0m \u001b[0;34m=\u001b[0m \u001b[0mas_ref\u001b[0m\u001b[0;34m\u001b[0m\u001b[0;34m\u001b[0m\u001b[0m\n\u001b[0;32m--> 339\u001b[0;31m   \u001b[0;32mreturn\u001b[0m \u001b[0mconstant\u001b[0m\u001b[0;34m(\u001b[0m\u001b[0mv\u001b[0m\u001b[0;34m,\u001b[0m \u001b[0mdtype\u001b[0m\u001b[0;34m=\u001b[0m\u001b[0mdtype\u001b[0m\u001b[0;34m,\u001b[0m \u001b[0mname\u001b[0m\u001b[0;34m=\u001b[0m\u001b[0mname\u001b[0m\u001b[0;34m)\u001b[0m\u001b[0;34m\u001b[0m\u001b[0;34m\u001b[0m\u001b[0m\n\u001b[0m\u001b[1;32m    340\u001b[0m \u001b[0;34m\u001b[0m\u001b[0m\n\u001b[1;32m    341\u001b[0m \u001b[0;34m\u001b[0m\u001b[0m\n",
            "\u001b[0;32m/usr/local/lib/python3.7/dist-packages/tensorflow/python/framework/constant_op.py\u001b[0m in \u001b[0;36mconstant\u001b[0;34m(value, dtype, shape, name)\u001b[0m\n\u001b[1;32m    263\u001b[0m   \"\"\"\n\u001b[1;32m    264\u001b[0m   return _constant_impl(value, dtype, shape, name, verify_shape=False,\n\u001b[0;32m--> 265\u001b[0;31m                         allow_broadcast=True)\n\u001b[0m\u001b[1;32m    266\u001b[0m \u001b[0;34m\u001b[0m\u001b[0m\n\u001b[1;32m    267\u001b[0m \u001b[0;34m\u001b[0m\u001b[0m\n",
            "\u001b[0;32m/usr/local/lib/python3.7/dist-packages/tensorflow/python/framework/constant_op.py\u001b[0m in \u001b[0;36m_constant_impl\u001b[0;34m(value, dtype, shape, name, verify_shape, allow_broadcast)\u001b[0m\n\u001b[1;32m    274\u001b[0m       \u001b[0;32mwith\u001b[0m \u001b[0mtrace\u001b[0m\u001b[0;34m.\u001b[0m\u001b[0mTrace\u001b[0m\u001b[0;34m(\u001b[0m\u001b[0;34m\"tf.constant\"\u001b[0m\u001b[0;34m)\u001b[0m\u001b[0;34m:\u001b[0m\u001b[0;34m\u001b[0m\u001b[0;34m\u001b[0m\u001b[0m\n\u001b[1;32m    275\u001b[0m         \u001b[0;32mreturn\u001b[0m \u001b[0m_constant_eager_impl\u001b[0m\u001b[0;34m(\u001b[0m\u001b[0mctx\u001b[0m\u001b[0;34m,\u001b[0m \u001b[0mvalue\u001b[0m\u001b[0;34m,\u001b[0m \u001b[0mdtype\u001b[0m\u001b[0;34m,\u001b[0m \u001b[0mshape\u001b[0m\u001b[0;34m,\u001b[0m \u001b[0mverify_shape\u001b[0m\u001b[0;34m)\u001b[0m\u001b[0;34m\u001b[0m\u001b[0;34m\u001b[0m\u001b[0m\n\u001b[0;32m--> 276\u001b[0;31m     \u001b[0;32mreturn\u001b[0m \u001b[0m_constant_eager_impl\u001b[0m\u001b[0;34m(\u001b[0m\u001b[0mctx\u001b[0m\u001b[0;34m,\u001b[0m \u001b[0mvalue\u001b[0m\u001b[0;34m,\u001b[0m \u001b[0mdtype\u001b[0m\u001b[0;34m,\u001b[0m \u001b[0mshape\u001b[0m\u001b[0;34m,\u001b[0m \u001b[0mverify_shape\u001b[0m\u001b[0;34m)\u001b[0m\u001b[0;34m\u001b[0m\u001b[0;34m\u001b[0m\u001b[0m\n\u001b[0m\u001b[1;32m    277\u001b[0m \u001b[0;34m\u001b[0m\u001b[0m\n\u001b[1;32m    278\u001b[0m   \u001b[0mg\u001b[0m \u001b[0;34m=\u001b[0m \u001b[0mops\u001b[0m\u001b[0;34m.\u001b[0m\u001b[0mget_default_graph\u001b[0m\u001b[0;34m(\u001b[0m\u001b[0;34m)\u001b[0m\u001b[0;34m\u001b[0m\u001b[0;34m\u001b[0m\u001b[0m\n",
            "\u001b[0;32m/usr/local/lib/python3.7/dist-packages/tensorflow/python/framework/constant_op.py\u001b[0m in \u001b[0;36m_constant_eager_impl\u001b[0;34m(ctx, value, dtype, shape, verify_shape)\u001b[0m\n\u001b[1;32m    299\u001b[0m \u001b[0;32mdef\u001b[0m \u001b[0m_constant_eager_impl\u001b[0m\u001b[0;34m(\u001b[0m\u001b[0mctx\u001b[0m\u001b[0;34m,\u001b[0m \u001b[0mvalue\u001b[0m\u001b[0;34m,\u001b[0m \u001b[0mdtype\u001b[0m\u001b[0;34m,\u001b[0m \u001b[0mshape\u001b[0m\u001b[0;34m,\u001b[0m \u001b[0mverify_shape\u001b[0m\u001b[0;34m)\u001b[0m\u001b[0;34m:\u001b[0m\u001b[0;34m\u001b[0m\u001b[0;34m\u001b[0m\u001b[0m\n\u001b[1;32m    300\u001b[0m   \u001b[0;34m\"\"\"Implementation of eager constant.\"\"\"\u001b[0m\u001b[0;34m\u001b[0m\u001b[0;34m\u001b[0m\u001b[0m\n\u001b[0;32m--> 301\u001b[0;31m   \u001b[0mt\u001b[0m \u001b[0;34m=\u001b[0m \u001b[0mconvert_to_eager_tensor\u001b[0m\u001b[0;34m(\u001b[0m\u001b[0mvalue\u001b[0m\u001b[0;34m,\u001b[0m \u001b[0mctx\u001b[0m\u001b[0;34m,\u001b[0m \u001b[0mdtype\u001b[0m\u001b[0;34m)\u001b[0m\u001b[0;34m\u001b[0m\u001b[0;34m\u001b[0m\u001b[0m\n\u001b[0m\u001b[1;32m    302\u001b[0m   \u001b[0;32mif\u001b[0m \u001b[0mshape\u001b[0m \u001b[0;32mis\u001b[0m \u001b[0;32mNone\u001b[0m\u001b[0;34m:\u001b[0m\u001b[0;34m\u001b[0m\u001b[0;34m\u001b[0m\u001b[0m\n\u001b[1;32m    303\u001b[0m     \u001b[0;32mreturn\u001b[0m \u001b[0mt\u001b[0m\u001b[0;34m\u001b[0m\u001b[0;34m\u001b[0m\u001b[0m\n",
            "\u001b[0;32m/usr/local/lib/python3.7/dist-packages/tensorflow/python/framework/constant_op.py\u001b[0m in \u001b[0;36mconvert_to_eager_tensor\u001b[0;34m(value, ctx, dtype)\u001b[0m\n\u001b[1;32m     96\u001b[0m       \u001b[0mdtype\u001b[0m \u001b[0;34m=\u001b[0m \u001b[0mdtypes\u001b[0m\u001b[0;34m.\u001b[0m\u001b[0mas_dtype\u001b[0m\u001b[0;34m(\u001b[0m\u001b[0mdtype\u001b[0m\u001b[0;34m)\u001b[0m\u001b[0;34m.\u001b[0m\u001b[0mas_datatype_enum\u001b[0m\u001b[0;34m\u001b[0m\u001b[0;34m\u001b[0m\u001b[0m\n\u001b[1;32m     97\u001b[0m   \u001b[0mctx\u001b[0m\u001b[0;34m.\u001b[0m\u001b[0mensure_initialized\u001b[0m\u001b[0;34m(\u001b[0m\u001b[0;34m)\u001b[0m\u001b[0;34m\u001b[0m\u001b[0;34m\u001b[0m\u001b[0m\n\u001b[0;32m---> 98\u001b[0;31m   \u001b[0;32mreturn\u001b[0m \u001b[0mops\u001b[0m\u001b[0;34m.\u001b[0m\u001b[0mEagerTensor\u001b[0m\u001b[0;34m(\u001b[0m\u001b[0mvalue\u001b[0m\u001b[0;34m,\u001b[0m \u001b[0mctx\u001b[0m\u001b[0;34m.\u001b[0m\u001b[0mdevice_name\u001b[0m\u001b[0;34m,\u001b[0m \u001b[0mdtype\u001b[0m\u001b[0;34m)\u001b[0m\u001b[0;34m\u001b[0m\u001b[0;34m\u001b[0m\u001b[0m\n\u001b[0m\u001b[1;32m     99\u001b[0m \u001b[0;34m\u001b[0m\u001b[0m\n\u001b[1;32m    100\u001b[0m \u001b[0;34m\u001b[0m\u001b[0m\n",
            "\u001b[0;31mValueError\u001b[0m: Failed to convert a NumPy array to a Tensor (Unsupported object type int)."
          ]
        }
      ]
    },
    {
      "cell_type": "code",
      "metadata": {
        "id": "G0bbtatOWYdh"
      },
      "source": [
        "!sudo apt install tesseract-ocr\n",
        "!pip install pytesseract"
      ],
      "execution_count": null,
      "outputs": []
    }
  ]
}